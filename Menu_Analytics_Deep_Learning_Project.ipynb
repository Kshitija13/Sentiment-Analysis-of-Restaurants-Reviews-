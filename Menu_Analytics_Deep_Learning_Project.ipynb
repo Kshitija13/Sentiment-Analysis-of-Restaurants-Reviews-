{
  "cells": [
    {
      "cell_type": "markdown",
      "metadata": {
        "id": "lysJAHBKRIa8"
      },
      "source": [
        "# **Menu Analytics Sentiment Analysis of Restaurant Reviews using NLP and LSTM**"
      ]
    },
    {
      "cell_type": "markdown",
      "metadata": {
        "id": "sxhmBxi7RdKG"
      },
      "source": [
        "**Deep Learning Project**\n",
        "\n",
        "**Problem Statement:** Menu Analytics Sentiment Analysis of Restaurant Reviews using NLP and LSTM\n",
        "\n",
        "**Group Members:**\n",
        "\n",
        "<table>\n",
        "  <tr>\n",
        "    <th>Roll No.</th>\n",
        "    <th>Name</th>\n",
        "    <th>PRN</th>\n",
        "    <th>Seat No.</th>\n",
        "  </tr>\n",
        "  <tr>\n",
        "    <td>253</td>\n",
        "    <td>KSHITIJA LADE</td>\n",
        "    <td>0120190090</td>\n",
        "    <td>B224013</td>\n",
        "  </tr>\n",
        "  <tr>\n",
        "    <td>258</td>\n",
        "    <td>VAISHNAVI JADHAV</td>\n",
        "    <td>0120190202</td>\n",
        "    <td>B224045</td>\n",
        "  </tr>\n",
        "  <tr>\n",
        "    <td>334</td>\n",
        "    <td>SUMIT MAHAJAN</td>\n",
        "    <td>0120190312</td>\n",
        "    <td>B228035</td>\n",
        "  </tr>\n",
        "  <tr>\n",
        "    <td>335</td>\n",
        "    <td>LALIT RAJPUT</td>\n",
        "    <td>0120190299</td>\n",
        "    <td>B228034</td>\n",
        "  </tr>\n",
        "</table>\n",
        "\n",
        "\n",
        "\n",
        "**Description:** Menu Analytics can review your menu options and provide guidance to help you reach your goals, be it adding new items that appeal to health-conscious customers, options for those with special diets, or optimizing financial performance through sales mix and margin management. Sentiment Analysis of restaurant reviews can help with menu.\n"
      ]
    },
    {
      "cell_type": "markdown",
      "metadata": {
        "id": "miKp-uG7_iFt"
      },
      "source": [
        "**Mounting Drive**"
      ]
    },
    {
      "cell_type": "code",
      "execution_count": 1,
      "metadata": {
        "colab": {
          "base_uri": "https://localhost:8080/"
        },
        "id": "KJfubAjg4OQ0",
        "outputId": "21b98fe5-1b31-4266-dde2-bf353f2c2f0b"
      },
      "outputs": [
        {
          "name": "stdout",
          "output_type": "stream",
          "text": [
            "Drive already mounted at /content/drive; to attempt to forcibly remount, call drive.mount(\"/content/drive\", force_remount=True).\n"
          ]
        }
      ],
      "source": [
        "from google.colab import drive\n",
        "drive.mount('/content/drive')"
      ]
    },
    {
      "cell_type": "markdown",
      "metadata": {
        "id": "tTyOLhds_eLH"
      },
      "source": [
        "**Importing Libraries**"
      ]
    },
    {
      "cell_type": "code",
      "execution_count": 3,
      "metadata": {
        "colab": {
          "base_uri": "https://localhost:8080/",
          "height": 270
        },
        "id": "mHNA-buO4kRO",
        "outputId": "84118cf0-1c4b-4ece-b17b-b75f899bf400"
      },
      "outputs": [
        {
          "name": "stderr",
          "output_type": "stream",
          "text": [
            "[nltk_data] Downloading package omw-1.4 to /root/nltk_data...\n",
            "[nltk_data]   Package omw-1.4 is already up-to-date!\n",
            "[nltk_data] Downloading package stopwords to /root/nltk_data...\n",
            "[nltk_data]   Package stopwords is already up-to-date!\n",
            "[nltk_data] Downloading package averaged_perceptron_tagger to\n",
            "[nltk_data]     /root/nltk_data...\n",
            "[nltk_data]   Package averaged_perceptron_tagger is already up-to-\n",
            "[nltk_data]       date!\n",
            "[nltk_data] Downloading package wordnet to /root/nltk_data...\n",
            "[nltk_data]   Package wordnet is already up-to-date!\n",
            "[nltk_data] Downloading package vader_lexicon to /root/nltk_data...\n",
            "[nltk_data]   Package vader_lexicon is already up-to-date!\n",
            "[nltk_data] Downloading package punkt to /root/nltk_data...\n",
            "[nltk_data]   Package punkt is already up-to-date!\n"
          ]
        },
        {
          "data": {
            "text/html": [
              "        <script type=\"text/javascript\">\n",
              "        window.PlotlyConfig = {MathJaxConfig: 'local'};\n",
              "        if (window.MathJax) {MathJax.Hub.Config({SVG: {font: \"STIX-Web\"}});}\n",
              "        if (typeof require !== 'undefined') {\n",
              "        require.undef(\"plotly\");\n",
              "        requirejs.config({\n",
              "            paths: {\n",
              "                'plotly': ['https://cdn.plot.ly/plotly-2.8.3.min']\n",
              "            }\n",
              "        });\n",
              "        require(['plotly'], function(Plotly) {\n",
              "            window._Plotly = Plotly;\n",
              "        });\n",
              "        }\n",
              "        </script>\n",
              "        "
            ]
          },
          "metadata": {},
          "output_type": "display_data"
        }
      ],
      "source": [
        "import pandas as pd\n",
        "import numpy as np\n",
        "import seaborn as sns\n",
        "from sklearn.metrics import ConfusionMatrixDisplay\n",
        "from sklearn.metrics import accuracy_score,classification_report,confusion_matrix, roc_curve, auc, precision_score, recall_score, f1_score, precision_recall_curve\n",
        "from wordcloud import WordCloud\n",
        "import pandas as pd\n",
        "import string\n",
        "import sklearn.metrics as metrics\n",
        "\n",
        "# Libraries for Text Preprocessing\n",
        "import re\n",
        "import nltk\n",
        "nltk.download('omw-1.4')\n",
        "nltk.download('stopwords')\n",
        "nltk.download('averaged_perceptron_tagger')\n",
        "nltk.download('wordnet')\n",
        "nltk.download('vader_lexicon')\n",
        "nltk.download('punkt')\n",
        "from nltk.tokenize import word_tokenize \n",
        "from nltk.tokenize import RegexpTokenizer\n",
        "from nltk.corpus import wordnet\n",
        "from nltk import pos_tag\n",
        "from nltk.corpus import stopwords\n",
        "from nltk.tokenize import WhitespaceTokenizer\n",
        "from nltk.stem import WordNetLemmatizer\n",
        "from nltk.corpus import stopwords\n",
        "import textblob\n",
        "from textblob import Word\n",
        "from keras.preprocessing.text import Tokenizer\n",
        "from keras_preprocessing.sequence import pad_sequences\n",
        "\n",
        "# Libraries for Visualization\n",
        "import wordcloud\n",
        "from plotly.offline import init_notebook_mode, iplot,plot\n",
        "init_notebook_mode(connected = True)\n",
        "import matplotlib.pyplot as plt\n",
        "import plotly.express as px\n",
        "\n",
        "# Libraries for Model\n",
        "from keras.models import Sequential\n",
        "from keras.layers import Dense, Embedding, LSTM, SpatialDropout1D\n",
        "from sklearn.model_selection import train_test_split"
      ]
    },
    {
      "cell_type": "markdown",
      "metadata": {
        "id": "UmDIUdrB_n_Z"
      },
      "source": [
        "**Dataset**"
      ]
    },
    {
      "cell_type": "code",
      "execution_count": 4,
      "metadata": {
        "colab": {
          "base_uri": "https://localhost:8080/",
          "height": 423
        },
        "id": "EN1p7lZG73ox",
        "outputId": "aed16021-91eb-42d9-e056-295bf074e36a"
      },
      "outputs": [
        {
          "data": {
            "text/html": [
              "\n",
              "  <div id=\"df-975c8dd9-d9a7-4f8c-94df-cf04ca1fbdb8\">\n",
              "    <div class=\"colab-df-container\">\n",
              "      <div>\n",
              "<style scoped>\n",
              "    .dataframe tbody tr th:only-of-type {\n",
              "        vertical-align: middle;\n",
              "    }\n",
              "\n",
              "    .dataframe tbody tr th {\n",
              "        vertical-align: top;\n",
              "    }\n",
              "\n",
              "    .dataframe thead th {\n",
              "        text-align: right;\n",
              "    }\n",
              "</style>\n",
              "<table border=\"1\" class=\"dataframe\">\n",
              "  <thead>\n",
              "    <tr style=\"text-align: right;\">\n",
              "      <th></th>\n",
              "      <th>Description</th>\n",
              "      <th>Sentiment</th>\n",
              "    </tr>\n",
              "  </thead>\n",
              "  <tbody>\n",
              "    <tr>\n",
              "      <th>0</th>\n",
              "      <td>NaN</td>\n",
              "      <td>NaN</td>\n",
              "    </tr>\n",
              "    <tr>\n",
              "      <th>1</th>\n",
              "      <td>What is momos without chutney?</td>\n",
              "      <td>0.0</td>\n",
              "    </tr>\n",
              "    <tr>\n",
              "      <th>2</th>\n",
              "      <td>NaN</td>\n",
              "      <td>NaN</td>\n",
              "    </tr>\n",
              "    <tr>\n",
              "      <th>3</th>\n",
              "      <td>good</td>\n",
              "      <td>1.0</td>\n",
              "    </tr>\n",
              "    <tr>\n",
              "      <th>4</th>\n",
              "      <td>NaN</td>\n",
              "      <td>NaN</td>\n",
              "    </tr>\n",
              "    <tr>\n",
              "      <th>...</th>\n",
              "      <td>...</td>\n",
              "      <td>...</td>\n",
              "    </tr>\n",
              "    <tr>\n",
              "      <th>88459</th>\n",
              "      <td>they didn't send chutney n mayonnaise and gree...</td>\n",
              "      <td>NaN</td>\n",
              "    </tr>\n",
              "    <tr>\n",
              "      <th>88460</th>\n",
              "      <td>NaN</td>\n",
              "      <td>NaN</td>\n",
              "    </tr>\n",
              "    <tr>\n",
              "      <th>88461</th>\n",
              "      <td>Tasty</td>\n",
              "      <td>NaN</td>\n",
              "    </tr>\n",
              "    <tr>\n",
              "      <th>88462</th>\n",
              "      <td>NaN</td>\n",
              "      <td>NaN</td>\n",
              "    </tr>\n",
              "    <tr>\n",
              "      <th>88463</th>\n",
              "      <td>NaN</td>\n",
              "      <td>NaN</td>\n",
              "    </tr>\n",
              "  </tbody>\n",
              "</table>\n",
              "<p>88464 rows × 2 columns</p>\n",
              "</div>\n",
              "      <button class=\"colab-df-convert\" onclick=\"convertToInteractive('df-975c8dd9-d9a7-4f8c-94df-cf04ca1fbdb8')\"\n",
              "              title=\"Convert this dataframe to an interactive table.\"\n",
              "              style=\"display:none;\">\n",
              "        \n",
              "  <svg xmlns=\"http://www.w3.org/2000/svg\" height=\"24px\"viewBox=\"0 0 24 24\"\n",
              "       width=\"24px\">\n",
              "    <path d=\"M0 0h24v24H0V0z\" fill=\"none\"/>\n",
              "    <path d=\"M18.56 5.44l.94 2.06.94-2.06 2.06-.94-2.06-.94-.94-2.06-.94 2.06-2.06.94zm-11 1L8.5 8.5l.94-2.06 2.06-.94-2.06-.94L8.5 2.5l-.94 2.06-2.06.94zm10 10l.94 2.06.94-2.06 2.06-.94-2.06-.94-.94-2.06-.94 2.06-2.06.94z\"/><path d=\"M17.41 7.96l-1.37-1.37c-.4-.4-.92-.59-1.43-.59-.52 0-1.04.2-1.43.59L10.3 9.45l-7.72 7.72c-.78.78-.78 2.05 0 2.83L4 21.41c.39.39.9.59 1.41.59.51 0 1.02-.2 1.41-.59l7.78-7.78 2.81-2.81c.8-.78.8-2.07 0-2.86zM5.41 20L4 18.59l7.72-7.72 1.47 1.35L5.41 20z\"/>\n",
              "  </svg>\n",
              "      </button>\n",
              "      \n",
              "  <style>\n",
              "    .colab-df-container {\n",
              "      display:flex;\n",
              "      flex-wrap:wrap;\n",
              "      gap: 12px;\n",
              "    }\n",
              "\n",
              "    .colab-df-convert {\n",
              "      background-color: #E8F0FE;\n",
              "      border: none;\n",
              "      border-radius: 50%;\n",
              "      cursor: pointer;\n",
              "      display: none;\n",
              "      fill: #1967D2;\n",
              "      height: 32px;\n",
              "      padding: 0 0 0 0;\n",
              "      width: 32px;\n",
              "    }\n",
              "\n",
              "    .colab-df-convert:hover {\n",
              "      background-color: #E2EBFA;\n",
              "      box-shadow: 0px 1px 2px rgba(60, 64, 67, 0.3), 0px 1px 3px 1px rgba(60, 64, 67, 0.15);\n",
              "      fill: #174EA6;\n",
              "    }\n",
              "\n",
              "    [theme=dark] .colab-df-convert {\n",
              "      background-color: #3B4455;\n",
              "      fill: #D2E3FC;\n",
              "    }\n",
              "\n",
              "    [theme=dark] .colab-df-convert:hover {\n",
              "      background-color: #434B5C;\n",
              "      box-shadow: 0px 1px 3px 1px rgba(0, 0, 0, 0.15);\n",
              "      filter: drop-shadow(0px 1px 2px rgba(0, 0, 0, 0.3));\n",
              "      fill: #FFFFFF;\n",
              "    }\n",
              "  </style>\n",
              "\n",
              "      <script>\n",
              "        const buttonEl =\n",
              "          document.querySelector('#df-975c8dd9-d9a7-4f8c-94df-cf04ca1fbdb8 button.colab-df-convert');\n",
              "        buttonEl.style.display =\n",
              "          google.colab.kernel.accessAllowed ? 'block' : 'none';\n",
              "\n",
              "        async function convertToInteractive(key) {\n",
              "          const element = document.querySelector('#df-975c8dd9-d9a7-4f8c-94df-cf04ca1fbdb8');\n",
              "          const dataTable =\n",
              "            await google.colab.kernel.invokeFunction('convertToInteractive',\n",
              "                                                     [key], {});\n",
              "          if (!dataTable) return;\n",
              "\n",
              "          const docLinkHtml = 'Like what you see? Visit the ' +\n",
              "            '<a target=\"_blank\" href=https://colab.research.google.com/notebooks/data_table.ipynb>data table notebook</a>'\n",
              "            + ' to learn more about interactive tables.';\n",
              "          element.innerHTML = '';\n",
              "          dataTable['output_type'] = 'display_data';\n",
              "          await google.colab.output.renderOutput(dataTable, element);\n",
              "          const docLink = document.createElement('div');\n",
              "          docLink.innerHTML = docLinkHtml;\n",
              "          element.appendChild(docLink);\n",
              "        }\n",
              "      </script>\n",
              "    </div>\n",
              "  </div>\n",
              "  "
            ],
            "text/plain": [
              "                                             Description  Sentiment\n",
              "0                                                    NaN        NaN\n",
              "1                         What is momos without chutney?        0.0\n",
              "2                                                    NaN        NaN\n",
              "3                                                   good        1.0\n",
              "4                                                    NaN        NaN\n",
              "...                                                  ...        ...\n",
              "88459  they didn't send chutney n mayonnaise and gree...        NaN\n",
              "88460                                                NaN        NaN\n",
              "88461                                              Tasty        NaN\n",
              "88462                                                NaN        NaN\n",
              "88463                                                NaN        NaN\n",
              "\n",
              "[88464 rows x 2 columns]"
            ]
          },
          "execution_count": 4,
          "metadata": {},
          "output_type": "execute_result"
        }
      ],
      "source": [
        "df = pd.read_csv(\"/content/drive/My Drive/Colab Notebooks/Datasets/review_description_sentiment.csv\", encoding='cp1252')\n",
        "df = df[[\"Description\", \"Sentiment\"]]\n",
        "df"
      ]
    },
    {
      "cell_type": "markdown",
      "metadata": {
        "id": "GSSqX4wT_prd"
      },
      "source": [
        "**Statistical summary and descriptive statistics of dataset**"
      ]
    },
    {
      "cell_type": "code",
      "execution_count": 5,
      "metadata": {
        "colab": {
          "base_uri": "https://localhost:8080/",
          "height": 363
        },
        "id": "OVcWKdBa_wpG",
        "outputId": "dd379863-b3b8-468e-a5b7-d7af55033e31"
      },
      "outputs": [
        {
          "data": {
            "text/html": [
              "\n",
              "  <div id=\"df-adc3a2ee-e29f-4daf-a9a9-69e02b7e85f0\">\n",
              "    <div class=\"colab-df-container\">\n",
              "      <div>\n",
              "<style scoped>\n",
              "    .dataframe tbody tr th:only-of-type {\n",
              "        vertical-align: middle;\n",
              "    }\n",
              "\n",
              "    .dataframe tbody tr th {\n",
              "        vertical-align: top;\n",
              "    }\n",
              "\n",
              "    .dataframe thead th {\n",
              "        text-align: right;\n",
              "    }\n",
              "</style>\n",
              "<table border=\"1\" class=\"dataframe\">\n",
              "  <thead>\n",
              "    <tr style=\"text-align: right;\">\n",
              "      <th></th>\n",
              "      <th>Description</th>\n",
              "      <th>Sentiment</th>\n",
              "    </tr>\n",
              "  </thead>\n",
              "  <tbody>\n",
              "    <tr>\n",
              "      <th>0</th>\n",
              "      <td>NaN</td>\n",
              "      <td>NaN</td>\n",
              "    </tr>\n",
              "    <tr>\n",
              "      <th>1</th>\n",
              "      <td>What is momos without chutney?</td>\n",
              "      <td>0.0</td>\n",
              "    </tr>\n",
              "    <tr>\n",
              "      <th>2</th>\n",
              "      <td>NaN</td>\n",
              "      <td>NaN</td>\n",
              "    </tr>\n",
              "    <tr>\n",
              "      <th>3</th>\n",
              "      <td>good</td>\n",
              "      <td>1.0</td>\n",
              "    </tr>\n",
              "    <tr>\n",
              "      <th>4</th>\n",
              "      <td>NaN</td>\n",
              "      <td>NaN</td>\n",
              "    </tr>\n",
              "    <tr>\n",
              "      <th>5</th>\n",
              "      <td>pls stop do this and warning for this out let.</td>\n",
              "      <td>0.0</td>\n",
              "    </tr>\n",
              "    <tr>\n",
              "      <th>6</th>\n",
              "      <td>NaN</td>\n",
              "      <td>NaN</td>\n",
              "    </tr>\n",
              "    <tr>\n",
              "      <th>7</th>\n",
              "      <td>the delivery was delayed . the momos are not p...</td>\n",
              "      <td>0.0</td>\n",
              "    </tr>\n",
              "    <tr>\n",
              "      <th>8</th>\n",
              "      <td>NaN</td>\n",
              "      <td>NaN</td>\n",
              "    </tr>\n",
              "    <tr>\n",
              "      <th>9</th>\n",
              "      <td>Delivery was good</td>\n",
              "      <td>1.0</td>\n",
              "    </tr>\n",
              "  </tbody>\n",
              "</table>\n",
              "</div>\n",
              "      <button class=\"colab-df-convert\" onclick=\"convertToInteractive('df-adc3a2ee-e29f-4daf-a9a9-69e02b7e85f0')\"\n",
              "              title=\"Convert this dataframe to an interactive table.\"\n",
              "              style=\"display:none;\">\n",
              "        \n",
              "  <svg xmlns=\"http://www.w3.org/2000/svg\" height=\"24px\"viewBox=\"0 0 24 24\"\n",
              "       width=\"24px\">\n",
              "    <path d=\"M0 0h24v24H0V0z\" fill=\"none\"/>\n",
              "    <path d=\"M18.56 5.44l.94 2.06.94-2.06 2.06-.94-2.06-.94-.94-2.06-.94 2.06-2.06.94zm-11 1L8.5 8.5l.94-2.06 2.06-.94-2.06-.94L8.5 2.5l-.94 2.06-2.06.94zm10 10l.94 2.06.94-2.06 2.06-.94-2.06-.94-.94-2.06-.94 2.06-2.06.94z\"/><path d=\"M17.41 7.96l-1.37-1.37c-.4-.4-.92-.59-1.43-.59-.52 0-1.04.2-1.43.59L10.3 9.45l-7.72 7.72c-.78.78-.78 2.05 0 2.83L4 21.41c.39.39.9.59 1.41.59.51 0 1.02-.2 1.41-.59l7.78-7.78 2.81-2.81c.8-.78.8-2.07 0-2.86zM5.41 20L4 18.59l7.72-7.72 1.47 1.35L5.41 20z\"/>\n",
              "  </svg>\n",
              "      </button>\n",
              "      \n",
              "  <style>\n",
              "    .colab-df-container {\n",
              "      display:flex;\n",
              "      flex-wrap:wrap;\n",
              "      gap: 12px;\n",
              "    }\n",
              "\n",
              "    .colab-df-convert {\n",
              "      background-color: #E8F0FE;\n",
              "      border: none;\n",
              "      border-radius: 50%;\n",
              "      cursor: pointer;\n",
              "      display: none;\n",
              "      fill: #1967D2;\n",
              "      height: 32px;\n",
              "      padding: 0 0 0 0;\n",
              "      width: 32px;\n",
              "    }\n",
              "\n",
              "    .colab-df-convert:hover {\n",
              "      background-color: #E2EBFA;\n",
              "      box-shadow: 0px 1px 2px rgba(60, 64, 67, 0.3), 0px 1px 3px 1px rgba(60, 64, 67, 0.15);\n",
              "      fill: #174EA6;\n",
              "    }\n",
              "\n",
              "    [theme=dark] .colab-df-convert {\n",
              "      background-color: #3B4455;\n",
              "      fill: #D2E3FC;\n",
              "    }\n",
              "\n",
              "    [theme=dark] .colab-df-convert:hover {\n",
              "      background-color: #434B5C;\n",
              "      box-shadow: 0px 1px 3px 1px rgba(0, 0, 0, 0.15);\n",
              "      filter: drop-shadow(0px 1px 2px rgba(0, 0, 0, 0.3));\n",
              "      fill: #FFFFFF;\n",
              "    }\n",
              "  </style>\n",
              "\n",
              "      <script>\n",
              "        const buttonEl =\n",
              "          document.querySelector('#df-adc3a2ee-e29f-4daf-a9a9-69e02b7e85f0 button.colab-df-convert');\n",
              "        buttonEl.style.display =\n",
              "          google.colab.kernel.accessAllowed ? 'block' : 'none';\n",
              "\n",
              "        async function convertToInteractive(key) {\n",
              "          const element = document.querySelector('#df-adc3a2ee-e29f-4daf-a9a9-69e02b7e85f0');\n",
              "          const dataTable =\n",
              "            await google.colab.kernel.invokeFunction('convertToInteractive',\n",
              "                                                     [key], {});\n",
              "          if (!dataTable) return;\n",
              "\n",
              "          const docLinkHtml = 'Like what you see? Visit the ' +\n",
              "            '<a target=\"_blank\" href=https://colab.research.google.com/notebooks/data_table.ipynb>data table notebook</a>'\n",
              "            + ' to learn more about interactive tables.';\n",
              "          element.innerHTML = '';\n",
              "          dataTable['output_type'] = 'display_data';\n",
              "          await google.colab.output.renderOutput(dataTable, element);\n",
              "          const docLink = document.createElement('div');\n",
              "          docLink.innerHTML = docLinkHtml;\n",
              "          element.appendChild(docLink);\n",
              "        }\n",
              "      </script>\n",
              "    </div>\n",
              "  </div>\n",
              "  "
            ],
            "text/plain": [
              "                                         Description  Sentiment\n",
              "0                                                NaN        NaN\n",
              "1                     What is momos without chutney?        0.0\n",
              "2                                                NaN        NaN\n",
              "3                                               good        1.0\n",
              "4                                                NaN        NaN\n",
              "5     pls stop do this and warning for this out let.        0.0\n",
              "6                                                NaN        NaN\n",
              "7  the delivery was delayed . the momos are not p...        0.0\n",
              "8                                                NaN        NaN\n",
              "9                                  Delivery was good        1.0"
            ]
          },
          "execution_count": 5,
          "metadata": {},
          "output_type": "execute_result"
        }
      ],
      "source": [
        "df.head(10) #returns the first 10 rows of the dataset"
      ]
    },
    {
      "cell_type": "code",
      "execution_count": 6,
      "metadata": {
        "colab": {
          "base_uri": "https://localhost:8080/",
          "height": 363
        },
        "id": "pKSlExtm_4HW",
        "outputId": "76ec2fbb-18b1-4e36-b063-743acf2d414c"
      },
      "outputs": [
        {
          "data": {
            "text/html": [
              "\n",
              "  <div id=\"df-b105f6d6-d994-4a1c-b5c9-8fbfe950c523\">\n",
              "    <div class=\"colab-df-container\">\n",
              "      <div>\n",
              "<style scoped>\n",
              "    .dataframe tbody tr th:only-of-type {\n",
              "        vertical-align: middle;\n",
              "    }\n",
              "\n",
              "    .dataframe tbody tr th {\n",
              "        vertical-align: top;\n",
              "    }\n",
              "\n",
              "    .dataframe thead th {\n",
              "        text-align: right;\n",
              "    }\n",
              "</style>\n",
              "<table border=\"1\" class=\"dataframe\">\n",
              "  <thead>\n",
              "    <tr style=\"text-align: right;\">\n",
              "      <th></th>\n",
              "      <th>Description</th>\n",
              "      <th>Sentiment</th>\n",
              "    </tr>\n",
              "  </thead>\n",
              "  <tbody>\n",
              "    <tr>\n",
              "      <th>88454</th>\n",
              "      <td>NaN</td>\n",
              "      <td>NaN</td>\n",
              "    </tr>\n",
              "    <tr>\n",
              "      <th>88455</th>\n",
              "      <td>soggy and cold food</td>\n",
              "      <td>NaN</td>\n",
              "    </tr>\n",
              "    <tr>\n",
              "      <th>88456</th>\n",
              "      <td>NaN</td>\n",
              "      <td>NaN</td>\n",
              "    </tr>\n",
              "    <tr>\n",
              "      <th>88457</th>\n",
              "      <td>Dough was little sour , couldn't able to enjoy it</td>\n",
              "      <td>NaN</td>\n",
              "    </tr>\n",
              "    <tr>\n",
              "      <th>88458</th>\n",
              "      <td>NaN</td>\n",
              "      <td>NaN</td>\n",
              "    </tr>\n",
              "    <tr>\n",
              "      <th>88459</th>\n",
              "      <td>they didn't send chutney n mayonnaise and gree...</td>\n",
              "      <td>NaN</td>\n",
              "    </tr>\n",
              "    <tr>\n",
              "      <th>88460</th>\n",
              "      <td>NaN</td>\n",
              "      <td>NaN</td>\n",
              "    </tr>\n",
              "    <tr>\n",
              "      <th>88461</th>\n",
              "      <td>Tasty</td>\n",
              "      <td>NaN</td>\n",
              "    </tr>\n",
              "    <tr>\n",
              "      <th>88462</th>\n",
              "      <td>NaN</td>\n",
              "      <td>NaN</td>\n",
              "    </tr>\n",
              "    <tr>\n",
              "      <th>88463</th>\n",
              "      <td>NaN</td>\n",
              "      <td>NaN</td>\n",
              "    </tr>\n",
              "  </tbody>\n",
              "</table>\n",
              "</div>\n",
              "      <button class=\"colab-df-convert\" onclick=\"convertToInteractive('df-b105f6d6-d994-4a1c-b5c9-8fbfe950c523')\"\n",
              "              title=\"Convert this dataframe to an interactive table.\"\n",
              "              style=\"display:none;\">\n",
              "        \n",
              "  <svg xmlns=\"http://www.w3.org/2000/svg\" height=\"24px\"viewBox=\"0 0 24 24\"\n",
              "       width=\"24px\">\n",
              "    <path d=\"M0 0h24v24H0V0z\" fill=\"none\"/>\n",
              "    <path d=\"M18.56 5.44l.94 2.06.94-2.06 2.06-.94-2.06-.94-.94-2.06-.94 2.06-2.06.94zm-11 1L8.5 8.5l.94-2.06 2.06-.94-2.06-.94L8.5 2.5l-.94 2.06-2.06.94zm10 10l.94 2.06.94-2.06 2.06-.94-2.06-.94-.94-2.06-.94 2.06-2.06.94z\"/><path d=\"M17.41 7.96l-1.37-1.37c-.4-.4-.92-.59-1.43-.59-.52 0-1.04.2-1.43.59L10.3 9.45l-7.72 7.72c-.78.78-.78 2.05 0 2.83L4 21.41c.39.39.9.59 1.41.59.51 0 1.02-.2 1.41-.59l7.78-7.78 2.81-2.81c.8-.78.8-2.07 0-2.86zM5.41 20L4 18.59l7.72-7.72 1.47 1.35L5.41 20z\"/>\n",
              "  </svg>\n",
              "      </button>\n",
              "      \n",
              "  <style>\n",
              "    .colab-df-container {\n",
              "      display:flex;\n",
              "      flex-wrap:wrap;\n",
              "      gap: 12px;\n",
              "    }\n",
              "\n",
              "    .colab-df-convert {\n",
              "      background-color: #E8F0FE;\n",
              "      border: none;\n",
              "      border-radius: 50%;\n",
              "      cursor: pointer;\n",
              "      display: none;\n",
              "      fill: #1967D2;\n",
              "      height: 32px;\n",
              "      padding: 0 0 0 0;\n",
              "      width: 32px;\n",
              "    }\n",
              "\n",
              "    .colab-df-convert:hover {\n",
              "      background-color: #E2EBFA;\n",
              "      box-shadow: 0px 1px 2px rgba(60, 64, 67, 0.3), 0px 1px 3px 1px rgba(60, 64, 67, 0.15);\n",
              "      fill: #174EA6;\n",
              "    }\n",
              "\n",
              "    [theme=dark] .colab-df-convert {\n",
              "      background-color: #3B4455;\n",
              "      fill: #D2E3FC;\n",
              "    }\n",
              "\n",
              "    [theme=dark] .colab-df-convert:hover {\n",
              "      background-color: #434B5C;\n",
              "      box-shadow: 0px 1px 3px 1px rgba(0, 0, 0, 0.15);\n",
              "      filter: drop-shadow(0px 1px 2px rgba(0, 0, 0, 0.3));\n",
              "      fill: #FFFFFF;\n",
              "    }\n",
              "  </style>\n",
              "\n",
              "      <script>\n",
              "        const buttonEl =\n",
              "          document.querySelector('#df-b105f6d6-d994-4a1c-b5c9-8fbfe950c523 button.colab-df-convert');\n",
              "        buttonEl.style.display =\n",
              "          google.colab.kernel.accessAllowed ? 'block' : 'none';\n",
              "\n",
              "        async function convertToInteractive(key) {\n",
              "          const element = document.querySelector('#df-b105f6d6-d994-4a1c-b5c9-8fbfe950c523');\n",
              "          const dataTable =\n",
              "            await google.colab.kernel.invokeFunction('convertToInteractive',\n",
              "                                                     [key], {});\n",
              "          if (!dataTable) return;\n",
              "\n",
              "          const docLinkHtml = 'Like what you see? Visit the ' +\n",
              "            '<a target=\"_blank\" href=https://colab.research.google.com/notebooks/data_table.ipynb>data table notebook</a>'\n",
              "            + ' to learn more about interactive tables.';\n",
              "          element.innerHTML = '';\n",
              "          dataTable['output_type'] = 'display_data';\n",
              "          await google.colab.output.renderOutput(dataTable, element);\n",
              "          const docLink = document.createElement('div');\n",
              "          docLink.innerHTML = docLinkHtml;\n",
              "          element.appendChild(docLink);\n",
              "        }\n",
              "      </script>\n",
              "    </div>\n",
              "  </div>\n",
              "  "
            ],
            "text/plain": [
              "                                             Description  Sentiment\n",
              "88454                                                NaN        NaN\n",
              "88455                                soggy and cold food        NaN\n",
              "88456                                                NaN        NaN\n",
              "88457  Dough was little sour , couldn't able to enjoy it        NaN\n",
              "88458                                                NaN        NaN\n",
              "88459  they didn't send chutney n mayonnaise and gree...        NaN\n",
              "88460                                                NaN        NaN\n",
              "88461                                              Tasty        NaN\n",
              "88462                                                NaN        NaN\n",
              "88463                                                NaN        NaN"
            ]
          },
          "execution_count": 6,
          "metadata": {},
          "output_type": "execute_result"
        }
      ],
      "source": [
        "df.tail(10) #returns the last 10 rows of the dataset"
      ]
    },
    {
      "cell_type": "code",
      "execution_count": 7,
      "metadata": {
        "colab": {
          "base_uri": "https://localhost:8080/"
        },
        "id": "AgiVg2n5_7Fs",
        "outputId": "ffe772b6-2a9e-4c46-c63a-53eff1c251fb"
      },
      "outputs": [
        {
          "data": {
            "text/plain": [
              "(88464, 2)"
            ]
          },
          "execution_count": 7,
          "metadata": {},
          "output_type": "execute_result"
        }
      ],
      "source": [
        "df.shape #returns the dimensions of the dataframe"
      ]
    },
    {
      "cell_type": "code",
      "execution_count": 8,
      "metadata": {
        "colab": {
          "base_uri": "https://localhost:8080/",
          "height": 300
        },
        "id": "uyFIJJdO__Xr",
        "outputId": "2e13a770-7c8e-45ea-d016-332d7ef0761a"
      },
      "outputs": [
        {
          "data": {
            "text/html": [
              "\n",
              "  <div id=\"df-7e5e5321-5cc5-4788-ba56-db933d2d27c7\">\n",
              "    <div class=\"colab-df-container\">\n",
              "      <div>\n",
              "<style scoped>\n",
              "    .dataframe tbody tr th:only-of-type {\n",
              "        vertical-align: middle;\n",
              "    }\n",
              "\n",
              "    .dataframe tbody tr th {\n",
              "        vertical-align: top;\n",
              "    }\n",
              "\n",
              "    .dataframe thead th {\n",
              "        text-align: right;\n",
              "    }\n",
              "</style>\n",
              "<table border=\"1\" class=\"dataframe\">\n",
              "  <thead>\n",
              "    <tr style=\"text-align: right;\">\n",
              "      <th></th>\n",
              "      <th>Sentiment</th>\n",
              "    </tr>\n",
              "  </thead>\n",
              "  <tbody>\n",
              "    <tr>\n",
              "      <th>count</th>\n",
              "      <td>2312.000000</td>\n",
              "    </tr>\n",
              "    <tr>\n",
              "      <th>mean</th>\n",
              "      <td>0.202855</td>\n",
              "    </tr>\n",
              "    <tr>\n",
              "      <th>std</th>\n",
              "      <td>0.402212</td>\n",
              "    </tr>\n",
              "    <tr>\n",
              "      <th>min</th>\n",
              "      <td>0.000000</td>\n",
              "    </tr>\n",
              "    <tr>\n",
              "      <th>25%</th>\n",
              "      <td>0.000000</td>\n",
              "    </tr>\n",
              "    <tr>\n",
              "      <th>50%</th>\n",
              "      <td>0.000000</td>\n",
              "    </tr>\n",
              "    <tr>\n",
              "      <th>75%</th>\n",
              "      <td>0.000000</td>\n",
              "    </tr>\n",
              "    <tr>\n",
              "      <th>max</th>\n",
              "      <td>1.000000</td>\n",
              "    </tr>\n",
              "  </tbody>\n",
              "</table>\n",
              "</div>\n",
              "      <button class=\"colab-df-convert\" onclick=\"convertToInteractive('df-7e5e5321-5cc5-4788-ba56-db933d2d27c7')\"\n",
              "              title=\"Convert this dataframe to an interactive table.\"\n",
              "              style=\"display:none;\">\n",
              "        \n",
              "  <svg xmlns=\"http://www.w3.org/2000/svg\" height=\"24px\"viewBox=\"0 0 24 24\"\n",
              "       width=\"24px\">\n",
              "    <path d=\"M0 0h24v24H0V0z\" fill=\"none\"/>\n",
              "    <path d=\"M18.56 5.44l.94 2.06.94-2.06 2.06-.94-2.06-.94-.94-2.06-.94 2.06-2.06.94zm-11 1L8.5 8.5l.94-2.06 2.06-.94-2.06-.94L8.5 2.5l-.94 2.06-2.06.94zm10 10l.94 2.06.94-2.06 2.06-.94-2.06-.94-.94-2.06-.94 2.06-2.06.94z\"/><path d=\"M17.41 7.96l-1.37-1.37c-.4-.4-.92-.59-1.43-.59-.52 0-1.04.2-1.43.59L10.3 9.45l-7.72 7.72c-.78.78-.78 2.05 0 2.83L4 21.41c.39.39.9.59 1.41.59.51 0 1.02-.2 1.41-.59l7.78-7.78 2.81-2.81c.8-.78.8-2.07 0-2.86zM5.41 20L4 18.59l7.72-7.72 1.47 1.35L5.41 20z\"/>\n",
              "  </svg>\n",
              "      </button>\n",
              "      \n",
              "  <style>\n",
              "    .colab-df-container {\n",
              "      display:flex;\n",
              "      flex-wrap:wrap;\n",
              "      gap: 12px;\n",
              "    }\n",
              "\n",
              "    .colab-df-convert {\n",
              "      background-color: #E8F0FE;\n",
              "      border: none;\n",
              "      border-radius: 50%;\n",
              "      cursor: pointer;\n",
              "      display: none;\n",
              "      fill: #1967D2;\n",
              "      height: 32px;\n",
              "      padding: 0 0 0 0;\n",
              "      width: 32px;\n",
              "    }\n",
              "\n",
              "    .colab-df-convert:hover {\n",
              "      background-color: #E2EBFA;\n",
              "      box-shadow: 0px 1px 2px rgba(60, 64, 67, 0.3), 0px 1px 3px 1px rgba(60, 64, 67, 0.15);\n",
              "      fill: #174EA6;\n",
              "    }\n",
              "\n",
              "    [theme=dark] .colab-df-convert {\n",
              "      background-color: #3B4455;\n",
              "      fill: #D2E3FC;\n",
              "    }\n",
              "\n",
              "    [theme=dark] .colab-df-convert:hover {\n",
              "      background-color: #434B5C;\n",
              "      box-shadow: 0px 1px 3px 1px rgba(0, 0, 0, 0.15);\n",
              "      filter: drop-shadow(0px 1px 2px rgba(0, 0, 0, 0.3));\n",
              "      fill: #FFFFFF;\n",
              "    }\n",
              "  </style>\n",
              "\n",
              "      <script>\n",
              "        const buttonEl =\n",
              "          document.querySelector('#df-7e5e5321-5cc5-4788-ba56-db933d2d27c7 button.colab-df-convert');\n",
              "        buttonEl.style.display =\n",
              "          google.colab.kernel.accessAllowed ? 'block' : 'none';\n",
              "\n",
              "        async function convertToInteractive(key) {\n",
              "          const element = document.querySelector('#df-7e5e5321-5cc5-4788-ba56-db933d2d27c7');\n",
              "          const dataTable =\n",
              "            await google.colab.kernel.invokeFunction('convertToInteractive',\n",
              "                                                     [key], {});\n",
              "          if (!dataTable) return;\n",
              "\n",
              "          const docLinkHtml = 'Like what you see? Visit the ' +\n",
              "            '<a target=\"_blank\" href=https://colab.research.google.com/notebooks/data_table.ipynb>data table notebook</a>'\n",
              "            + ' to learn more about interactive tables.';\n",
              "          element.innerHTML = '';\n",
              "          dataTable['output_type'] = 'display_data';\n",
              "          await google.colab.output.renderOutput(dataTable, element);\n",
              "          const docLink = document.createElement('div');\n",
              "          docLink.innerHTML = docLinkHtml;\n",
              "          element.appendChild(docLink);\n",
              "        }\n",
              "      </script>\n",
              "    </div>\n",
              "  </div>\n",
              "  "
            ],
            "text/plain": [
              "         Sentiment\n",
              "count  2312.000000\n",
              "mean      0.202855\n",
              "std       0.402212\n",
              "min       0.000000\n",
              "25%       0.000000\n",
              "50%       0.000000\n",
              "75%       0.000000\n",
              "max       1.000000"
            ]
          },
          "execution_count": 8,
          "metadata": {},
          "output_type": "execute_result"
        }
      ],
      "source": [
        "df.describe() #returns count, mean, std, etc for each column"
      ]
    },
    {
      "cell_type": "code",
      "execution_count": 9,
      "metadata": {
        "colab": {
          "base_uri": "https://localhost:8080/"
        },
        "id": "GYgsvmmRABvX",
        "outputId": "8f52752f-e625-4d0e-d913-6c37f40dd77f"
      },
      "outputs": [
        {
          "name": "stdout",
          "output_type": "stream",
          "text": [
            "<class 'pandas.core.frame.DataFrame'>\n",
            "RangeIndex: 88464 entries, 0 to 88463\n",
            "Data columns (total 2 columns):\n",
            " #   Column       Non-Null Count  Dtype  \n",
            "---  ------       --------------  -----  \n",
            " 0   Description  44225 non-null  object \n",
            " 1   Sentiment    2312 non-null   float64\n",
            "dtypes: float64(1), object(1)\n",
            "memory usage: 1.3+ MB\n"
          ]
        }
      ],
      "source": [
        "df.info()"
      ]
    },
    {
      "cell_type": "code",
      "execution_count": 10,
      "metadata": {
        "colab": {
          "base_uri": "https://localhost:8080/"
        },
        "id": "kdYMMLjaAGuN",
        "outputId": "85c7aeb2-bf60-4d90-b15f-fc9944c21168"
      },
      "outputs": [
        {
          "data": {
            "text/plain": [
              "Description    44239\n",
              "Sentiment      86152\n",
              "dtype: int64"
            ]
          },
          "execution_count": 10,
          "metadata": {},
          "output_type": "execute_result"
        }
      ],
      "source": [
        "df.isnull().sum()"
      ]
    },
    {
      "cell_type": "code",
      "execution_count": 11,
      "metadata": {
        "colab": {
          "base_uri": "https://localhost:8080/"
        },
        "id": "YCuTSKdYAJDh",
        "outputId": "5e810829-87d0-435b-a56a-21ace2d51c1c"
      },
      "outputs": [
        {
          "data": {
            "text/plain": [
              "array([nan,  0.,  1.])"
            ]
          },
          "execution_count": 11,
          "metadata": {},
          "output_type": "execute_result"
        }
      ],
      "source": [
        "df.Sentiment.unique()"
      ]
    },
    {
      "cell_type": "markdown",
      "metadata": {
        "id": "CJIiedkTAiRo"
      },
      "source": [
        "**Dataset Pre-Processing**"
      ]
    },
    {
      "cell_type": "code",
      "execution_count": 12,
      "metadata": {
        "id": "1qyTv8UaAPRF"
      },
      "outputs": [],
      "source": [
        "df=df.dropna()"
      ]
    },
    {
      "cell_type": "code",
      "execution_count": 13,
      "metadata": {
        "colab": {
          "base_uri": "https://localhost:8080/",
          "height": 423
        },
        "id": "tKY33VW1ArBG",
        "outputId": "6e217a05-c580-4301-bd16-0be7009ca939"
      },
      "outputs": [
        {
          "data": {
            "text/html": [
              "\n",
              "  <div id=\"df-d57c51f3-8a02-4622-8276-63339549f498\">\n",
              "    <div class=\"colab-df-container\">\n",
              "      <div>\n",
              "<style scoped>\n",
              "    .dataframe tbody tr th:only-of-type {\n",
              "        vertical-align: middle;\n",
              "    }\n",
              "\n",
              "    .dataframe tbody tr th {\n",
              "        vertical-align: top;\n",
              "    }\n",
              "\n",
              "    .dataframe thead th {\n",
              "        text-align: right;\n",
              "    }\n",
              "</style>\n",
              "<table border=\"1\" class=\"dataframe\">\n",
              "  <thead>\n",
              "    <tr style=\"text-align: right;\">\n",
              "      <th></th>\n",
              "      <th>Description</th>\n",
              "      <th>Sentiment</th>\n",
              "    </tr>\n",
              "  </thead>\n",
              "  <tbody>\n",
              "    <tr>\n",
              "      <th>1</th>\n",
              "      <td>What is momos without chutney?</td>\n",
              "      <td>0.0</td>\n",
              "    </tr>\n",
              "    <tr>\n",
              "      <th>3</th>\n",
              "      <td>good</td>\n",
              "      <td>1.0</td>\n",
              "    </tr>\n",
              "    <tr>\n",
              "      <th>5</th>\n",
              "      <td>pls stop do this and warning for this out let.</td>\n",
              "      <td>0.0</td>\n",
              "    </tr>\n",
              "    <tr>\n",
              "      <th>7</th>\n",
              "      <td>the delivery was delayed . the momos are not p...</td>\n",
              "      <td>0.0</td>\n",
              "    </tr>\n",
              "    <tr>\n",
              "      <th>9</th>\n",
              "      <td>Delivery was good</td>\n",
              "      <td>1.0</td>\n",
              "    </tr>\n",
              "    <tr>\n",
              "      <th>...</th>\n",
              "      <td>...</td>\n",
              "      <td>...</td>\n",
              "    </tr>\n",
              "    <tr>\n",
              "      <th>5043</th>\n",
              "      <td>restaurants no.is invalid</td>\n",
              "      <td>0.0</td>\n",
              "    </tr>\n",
              "    <tr>\n",
              "      <th>5045</th>\n",
              "      <td>chicken was not fresh</td>\n",
              "      <td>0.0</td>\n",
              "    </tr>\n",
              "    <tr>\n",
              "      <th>5047</th>\n",
              "      <td>restaurants no.is invalid</td>\n",
              "      <td>0.0</td>\n",
              "    </tr>\n",
              "    <tr>\n",
              "      <th>5049</th>\n",
              "      <td>good</td>\n",
              "      <td>1.0</td>\n",
              "    </tr>\n",
              "    <tr>\n",
              "      <th>5051</th>\n",
              "      <td>????</td>\n",
              "      <td>1.0</td>\n",
              "    </tr>\n",
              "  </tbody>\n",
              "</table>\n",
              "<p>2312 rows × 2 columns</p>\n",
              "</div>\n",
              "      <button class=\"colab-df-convert\" onclick=\"convertToInteractive('df-d57c51f3-8a02-4622-8276-63339549f498')\"\n",
              "              title=\"Convert this dataframe to an interactive table.\"\n",
              "              style=\"display:none;\">\n",
              "        \n",
              "  <svg xmlns=\"http://www.w3.org/2000/svg\" height=\"24px\"viewBox=\"0 0 24 24\"\n",
              "       width=\"24px\">\n",
              "    <path d=\"M0 0h24v24H0V0z\" fill=\"none\"/>\n",
              "    <path d=\"M18.56 5.44l.94 2.06.94-2.06 2.06-.94-2.06-.94-.94-2.06-.94 2.06-2.06.94zm-11 1L8.5 8.5l.94-2.06 2.06-.94-2.06-.94L8.5 2.5l-.94 2.06-2.06.94zm10 10l.94 2.06.94-2.06 2.06-.94-2.06-.94-.94-2.06-.94 2.06-2.06.94z\"/><path d=\"M17.41 7.96l-1.37-1.37c-.4-.4-.92-.59-1.43-.59-.52 0-1.04.2-1.43.59L10.3 9.45l-7.72 7.72c-.78.78-.78 2.05 0 2.83L4 21.41c.39.39.9.59 1.41.59.51 0 1.02-.2 1.41-.59l7.78-7.78 2.81-2.81c.8-.78.8-2.07 0-2.86zM5.41 20L4 18.59l7.72-7.72 1.47 1.35L5.41 20z\"/>\n",
              "  </svg>\n",
              "      </button>\n",
              "      \n",
              "  <style>\n",
              "    .colab-df-container {\n",
              "      display:flex;\n",
              "      flex-wrap:wrap;\n",
              "      gap: 12px;\n",
              "    }\n",
              "\n",
              "    .colab-df-convert {\n",
              "      background-color: #E8F0FE;\n",
              "      border: none;\n",
              "      border-radius: 50%;\n",
              "      cursor: pointer;\n",
              "      display: none;\n",
              "      fill: #1967D2;\n",
              "      height: 32px;\n",
              "      padding: 0 0 0 0;\n",
              "      width: 32px;\n",
              "    }\n",
              "\n",
              "    .colab-df-convert:hover {\n",
              "      background-color: #E2EBFA;\n",
              "      box-shadow: 0px 1px 2px rgba(60, 64, 67, 0.3), 0px 1px 3px 1px rgba(60, 64, 67, 0.15);\n",
              "      fill: #174EA6;\n",
              "    }\n",
              "\n",
              "    [theme=dark] .colab-df-convert {\n",
              "      background-color: #3B4455;\n",
              "      fill: #D2E3FC;\n",
              "    }\n",
              "\n",
              "    [theme=dark] .colab-df-convert:hover {\n",
              "      background-color: #434B5C;\n",
              "      box-shadow: 0px 1px 3px 1px rgba(0, 0, 0, 0.15);\n",
              "      filter: drop-shadow(0px 1px 2px rgba(0, 0, 0, 0.3));\n",
              "      fill: #FFFFFF;\n",
              "    }\n",
              "  </style>\n",
              "\n",
              "      <script>\n",
              "        const buttonEl =\n",
              "          document.querySelector('#df-d57c51f3-8a02-4622-8276-63339549f498 button.colab-df-convert');\n",
              "        buttonEl.style.display =\n",
              "          google.colab.kernel.accessAllowed ? 'block' : 'none';\n",
              "\n",
              "        async function convertToInteractive(key) {\n",
              "          const element = document.querySelector('#df-d57c51f3-8a02-4622-8276-63339549f498');\n",
              "          const dataTable =\n",
              "            await google.colab.kernel.invokeFunction('convertToInteractive',\n",
              "                                                     [key], {});\n",
              "          if (!dataTable) return;\n",
              "\n",
              "          const docLinkHtml = 'Like what you see? Visit the ' +\n",
              "            '<a target=\"_blank\" href=https://colab.research.google.com/notebooks/data_table.ipynb>data table notebook</a>'\n",
              "            + ' to learn more about interactive tables.';\n",
              "          element.innerHTML = '';\n",
              "          dataTable['output_type'] = 'display_data';\n",
              "          await google.colab.output.renderOutput(dataTable, element);\n",
              "          const docLink = document.createElement('div');\n",
              "          docLink.innerHTML = docLinkHtml;\n",
              "          element.appendChild(docLink);\n",
              "        }\n",
              "      </script>\n",
              "    </div>\n",
              "  </div>\n",
              "  "
            ],
            "text/plain": [
              "                                            Description  Sentiment\n",
              "1                        What is momos without chutney?        0.0\n",
              "3                                                  good        1.0\n",
              "5        pls stop do this and warning for this out let.        0.0\n",
              "7     the delivery was delayed . the momos are not p...        0.0\n",
              "9                                     Delivery was good        1.0\n",
              "...                                                 ...        ...\n",
              "5043                          restaurants no.is invalid        0.0\n",
              "5045                              chicken was not fresh        0.0\n",
              "5047                          restaurants no.is invalid        0.0\n",
              "5049                                               good        1.0\n",
              "5051                                               ????        1.0\n",
              "\n",
              "[2312 rows x 2 columns]"
            ]
          },
          "execution_count": 13,
          "metadata": {},
          "output_type": "execute_result"
        }
      ],
      "source": [
        "df"
      ]
    },
    {
      "cell_type": "code",
      "execution_count": 14,
      "metadata": {
        "colab": {
          "base_uri": "https://localhost:8080/",
          "height": 712
        },
        "id": "xcXPWNuLAsko",
        "outputId": "21733ac3-a0ff-43b6-ae1a-af1d9e053c21"
      },
      "outputs": [
        {
          "name": "stderr",
          "output_type": "stream",
          "text": [
            "<ipython-input-14-0e91e3a2c1ac>:1: SettingWithCopyWarning:\n",
            "\n",
            "\n",
            "A value is trying to be set on a copy of a slice from a DataFrame.\n",
            "Try using .loc[row_indexer,col_indexer] = value instead\n",
            "\n",
            "See the caveats in the documentation: https://pandas.pydata.org/pandas-docs/stable/user_guide/indexing.html#returning-a-view-versus-a-copy\n",
            "\n",
            "<ipython-input-14-0e91e3a2c1ac>:2: SettingWithCopyWarning:\n",
            "\n",
            "\n",
            "A value is trying to be set on a copy of a slice from a DataFrame.\n",
            "Try using .loc[row_indexer,col_indexer] = value instead\n",
            "\n",
            "See the caveats in the documentation: https://pandas.pydata.org/pandas-docs/stable/user_guide/indexing.html#returning-a-view-versus-a-copy\n",
            "\n"
          ]
        },
        {
          "data": {
            "text/html": [
              "\n",
              "  <div id=\"df-fa1e66d8-1354-4812-8da3-6c4ea1e0b762\">\n",
              "    <div class=\"colab-df-container\">\n",
              "      <div>\n",
              "<style scoped>\n",
              "    .dataframe tbody tr th:only-of-type {\n",
              "        vertical-align: middle;\n",
              "    }\n",
              "\n",
              "    .dataframe tbody tr th {\n",
              "        vertical-align: top;\n",
              "    }\n",
              "\n",
              "    .dataframe thead th {\n",
              "        text-align: right;\n",
              "    }\n",
              "</style>\n",
              "<table border=\"1\" class=\"dataframe\">\n",
              "  <thead>\n",
              "    <tr style=\"text-align: right;\">\n",
              "      <th></th>\n",
              "      <th>Description</th>\n",
              "      <th>Sentiment</th>\n",
              "    </tr>\n",
              "  </thead>\n",
              "  <tbody>\n",
              "    <tr>\n",
              "      <th>0</th>\n",
              "      <td>What is momos without chutney?</td>\n",
              "      <td>1</td>\n",
              "    </tr>\n",
              "    <tr>\n",
              "      <th>1</th>\n",
              "      <td>good</td>\n",
              "      <td>0</td>\n",
              "    </tr>\n",
              "    <tr>\n",
              "      <th>2</th>\n",
              "      <td>pls stop do this and warning for this out let.</td>\n",
              "      <td>1</td>\n",
              "    </tr>\n",
              "    <tr>\n",
              "      <th>3</th>\n",
              "      <td>the delivery was delayed . the momos are not p...</td>\n",
              "      <td>1</td>\n",
              "    </tr>\n",
              "    <tr>\n",
              "      <th>4</th>\n",
              "      <td>Delivery was good</td>\n",
              "      <td>0</td>\n",
              "    </tr>\n",
              "    <tr>\n",
              "      <th>...</th>\n",
              "      <td>...</td>\n",
              "      <td>...</td>\n",
              "    </tr>\n",
              "    <tr>\n",
              "      <th>2307</th>\n",
              "      <td>restaurants no.is invalid</td>\n",
              "      <td>1</td>\n",
              "    </tr>\n",
              "    <tr>\n",
              "      <th>2308</th>\n",
              "      <td>chicken was not fresh</td>\n",
              "      <td>1</td>\n",
              "    </tr>\n",
              "    <tr>\n",
              "      <th>2309</th>\n",
              "      <td>restaurants no.is invalid</td>\n",
              "      <td>1</td>\n",
              "    </tr>\n",
              "    <tr>\n",
              "      <th>2310</th>\n",
              "      <td>good</td>\n",
              "      <td>0</td>\n",
              "    </tr>\n",
              "    <tr>\n",
              "      <th>2311</th>\n",
              "      <td>????</td>\n",
              "      <td>0</td>\n",
              "    </tr>\n",
              "  </tbody>\n",
              "</table>\n",
              "<p>2312 rows × 2 columns</p>\n",
              "</div>\n",
              "      <button class=\"colab-df-convert\" onclick=\"convertToInteractive('df-fa1e66d8-1354-4812-8da3-6c4ea1e0b762')\"\n",
              "              title=\"Convert this dataframe to an interactive table.\"\n",
              "              style=\"display:none;\">\n",
              "        \n",
              "  <svg xmlns=\"http://www.w3.org/2000/svg\" height=\"24px\"viewBox=\"0 0 24 24\"\n",
              "       width=\"24px\">\n",
              "    <path d=\"M0 0h24v24H0V0z\" fill=\"none\"/>\n",
              "    <path d=\"M18.56 5.44l.94 2.06.94-2.06 2.06-.94-2.06-.94-.94-2.06-.94 2.06-2.06.94zm-11 1L8.5 8.5l.94-2.06 2.06-.94-2.06-.94L8.5 2.5l-.94 2.06-2.06.94zm10 10l.94 2.06.94-2.06 2.06-.94-2.06-.94-.94-2.06-.94 2.06-2.06.94z\"/><path d=\"M17.41 7.96l-1.37-1.37c-.4-.4-.92-.59-1.43-.59-.52 0-1.04.2-1.43.59L10.3 9.45l-7.72 7.72c-.78.78-.78 2.05 0 2.83L4 21.41c.39.39.9.59 1.41.59.51 0 1.02-.2 1.41-.59l7.78-7.78 2.81-2.81c.8-.78.8-2.07 0-2.86zM5.41 20L4 18.59l7.72-7.72 1.47 1.35L5.41 20z\"/>\n",
              "  </svg>\n",
              "      </button>\n",
              "      \n",
              "  <style>\n",
              "    .colab-df-container {\n",
              "      display:flex;\n",
              "      flex-wrap:wrap;\n",
              "      gap: 12px;\n",
              "    }\n",
              "\n",
              "    .colab-df-convert {\n",
              "      background-color: #E8F0FE;\n",
              "      border: none;\n",
              "      border-radius: 50%;\n",
              "      cursor: pointer;\n",
              "      display: none;\n",
              "      fill: #1967D2;\n",
              "      height: 32px;\n",
              "      padding: 0 0 0 0;\n",
              "      width: 32px;\n",
              "    }\n",
              "\n",
              "    .colab-df-convert:hover {\n",
              "      background-color: #E2EBFA;\n",
              "      box-shadow: 0px 1px 2px rgba(60, 64, 67, 0.3), 0px 1px 3px 1px rgba(60, 64, 67, 0.15);\n",
              "      fill: #174EA6;\n",
              "    }\n",
              "\n",
              "    [theme=dark] .colab-df-convert {\n",
              "      background-color: #3B4455;\n",
              "      fill: #D2E3FC;\n",
              "    }\n",
              "\n",
              "    [theme=dark] .colab-df-convert:hover {\n",
              "      background-color: #434B5C;\n",
              "      box-shadow: 0px 1px 3px 1px rgba(0, 0, 0, 0.15);\n",
              "      filter: drop-shadow(0px 1px 2px rgba(0, 0, 0, 0.3));\n",
              "      fill: #FFFFFF;\n",
              "    }\n",
              "  </style>\n",
              "\n",
              "      <script>\n",
              "        const buttonEl =\n",
              "          document.querySelector('#df-fa1e66d8-1354-4812-8da3-6c4ea1e0b762 button.colab-df-convert');\n",
              "        buttonEl.style.display =\n",
              "          google.colab.kernel.accessAllowed ? 'block' : 'none';\n",
              "\n",
              "        async function convertToInteractive(key) {\n",
              "          const element = document.querySelector('#df-fa1e66d8-1354-4812-8da3-6c4ea1e0b762');\n",
              "          const dataTable =\n",
              "            await google.colab.kernel.invokeFunction('convertToInteractive',\n",
              "                                                     [key], {});\n",
              "          if (!dataTable) return;\n",
              "\n",
              "          const docLinkHtml = 'Like what you see? Visit the ' +\n",
              "            '<a target=\"_blank\" href=https://colab.research.google.com/notebooks/data_table.ipynb>data table notebook</a>'\n",
              "            + ' to learn more about interactive tables.';\n",
              "          element.innerHTML = '';\n",
              "          dataTable['output_type'] = 'display_data';\n",
              "          await google.colab.output.renderOutput(dataTable, element);\n",
              "          const docLink = document.createElement('div');\n",
              "          docLink.innerHTML = docLinkHtml;\n",
              "          element.appendChild(docLink);\n",
              "        }\n",
              "      </script>\n",
              "    </div>\n",
              "  </div>\n",
              "  "
            ],
            "text/plain": [
              "                                            Description  Sentiment\n",
              "0                        What is momos without chutney?          1\n",
              "1                                                  good          0\n",
              "2        pls stop do this and warning for this out let.          1\n",
              "3     the delivery was delayed . the momos are not p...          1\n",
              "4                                     Delivery was good          0\n",
              "...                                                 ...        ...\n",
              "2307                          restaurants no.is invalid          1\n",
              "2308                              chicken was not fresh          1\n",
              "2309                          restaurants no.is invalid          1\n",
              "2310                                               good          0\n",
              "2311                                               ????          0\n",
              "\n",
              "[2312 rows x 2 columns]"
            ]
          },
          "execution_count": 14,
          "metadata": {},
          "output_type": "execute_result"
        }
      ],
      "source": [
        "df['Sentiment'] = df['Sentiment'].astype(int)\n",
        "df['Sentiment']=(df['Sentiment']+1)%2\n",
        "df = df.reset_index(drop=True)\n",
        "df"
      ]
    },
    {
      "cell_type": "markdown",
      "metadata": {
        "id": "Hb2Jwxx9BSO1"
      },
      "source": [
        "**Data Exploration and Visualisation**"
      ]
    },
    {
      "cell_type": "code",
      "execution_count": 15,
      "metadata": {
        "colab": {
          "base_uri": "https://localhost:8080/",
          "height": 414
        },
        "id": "VPrL8zZoA_5z",
        "outputId": "84c71e4e-5881-4413-ee4a-e773608bf826"
      },
      "outputs": [
        {
          "name": "stderr",
          "output_type": "stream",
          "text": [
            "/usr/local/lib/python3.8/dist-packages/seaborn/_decorators.py:36: FutureWarning:\n",
            "\n",
            "Pass the following variables as keyword args: x, y. From version 0.12, the only valid positional argument will be `data`, and passing other arguments without an explicit keyword will result in an error or misinterpretation.\n",
            "\n"
          ]
        },
        {
          "data": {
            "text/plain": [
              "1    1843\n",
              "0     469\n",
              "Name: Sentiment, dtype: int64"
            ]
          },
          "execution_count": 15,
          "metadata": {},
          "output_type": "execute_result"
        },
        {
          "data": {
            "image/png": "[encoded data removed]",
            "text/plain": [
              "<Figure size 432x288 with 1 Axes>"
            ]
          },
          "metadata": {},
          "output_type": "display_data"
        }
      ],
      "source": [
        "count_values = df['Sentiment'].value_counts()\n",
        "sns.set(style=\"whitegrid\")\n",
        "sns.barplot(count_values.index,count_values.values, palette='PuRd')\n",
        "count_values"
      ]
    },
    {
      "cell_type": "code",
      "execution_count": 16,
      "metadata": {
        "colab": {
          "base_uri": "https://localhost:8080/"
        },
        "id": "xzwxF6FqCRLv",
        "outputId": "f886a0ac-9eba-46b5-a3f3-23b8a1848d13"
      },
      "outputs": [
        {
          "data": {
            "text/plain": [
              "count    2312.000000\n",
              "mean       59.934689\n",
              "std        61.515953\n",
              "min         1.000000\n",
              "25%        22.000000\n",
              "50%        44.000000\n",
              "75%        78.000000\n",
              "max      1033.000000\n",
              "Name: length, dtype: float64"
            ]
          },
          "execution_count": 16,
          "metadata": {},
          "output_type": "execute_result"
        }
      ],
      "source": [
        "df['length'] = df['Description'].apply(len) # number of characters\n",
        "df['length'].describe() # info()"
      ]
    },
    {
      "cell_type": "code",
      "execution_count": 17,
      "metadata": {
        "colab": {
          "base_uri": "https://localhost:8080/",
          "height": 363
        },
        "id": "jsLZuZcCCY9d",
        "outputId": "5c1e664b-1775-42ae-de72-a86061be40c7"
      },
      "outputs": [
        {
          "data": {
            "text/html": [
              "\n",
              "  <div id=\"df-ebe3237a-7f88-4bab-96f8-bef9a14c0ffb\">\n",
              "    <div class=\"colab-df-container\">\n",
              "      <div>\n",
              "<style scoped>\n",
              "    .dataframe tbody tr th:only-of-type {\n",
              "        vertical-align: middle;\n",
              "    }\n",
              "\n",
              "    .dataframe tbody tr th {\n",
              "        vertical-align: top;\n",
              "    }\n",
              "\n",
              "    .dataframe thead th {\n",
              "        text-align: right;\n",
              "    }\n",
              "</style>\n",
              "<table border=\"1\" class=\"dataframe\">\n",
              "  <thead>\n",
              "    <tr style=\"text-align: right;\">\n",
              "      <th></th>\n",
              "      <th>Description</th>\n",
              "      <th>Sentiment</th>\n",
              "      <th>length</th>\n",
              "    </tr>\n",
              "  </thead>\n",
              "  <tbody>\n",
              "    <tr>\n",
              "      <th>0</th>\n",
              "      <td>What is momos without chutney?</td>\n",
              "      <td>1</td>\n",
              "      <td>30</td>\n",
              "    </tr>\n",
              "    <tr>\n",
              "      <th>1</th>\n",
              "      <td>good</td>\n",
              "      <td>0</td>\n",
              "      <td>4</td>\n",
              "    </tr>\n",
              "    <tr>\n",
              "      <th>2</th>\n",
              "      <td>pls stop do this and warning for this out let.</td>\n",
              "      <td>1</td>\n",
              "      <td>46</td>\n",
              "    </tr>\n",
              "    <tr>\n",
              "      <th>3</th>\n",
              "      <td>the delivery was delayed . the momos are not p...</td>\n",
              "      <td>1</td>\n",
              "      <td>92</td>\n",
              "    </tr>\n",
              "    <tr>\n",
              "      <th>4</th>\n",
              "      <td>Delivery was good</td>\n",
              "      <td>0</td>\n",
              "      <td>17</td>\n",
              "    </tr>\n",
              "    <tr>\n",
              "      <th>5</th>\n",
              "      <td>I have got wrong item, delived non veg. I want...</td>\n",
              "      <td>1</td>\n",
              "      <td>53</td>\n",
              "    </tr>\n",
              "    <tr>\n",
              "      <th>6</th>\n",
              "      <td>I have order 3 pepsi but only got 2...very bad</td>\n",
              "      <td>1</td>\n",
              "      <td>46</td>\n",
              "    </tr>\n",
              "    <tr>\n",
              "      <th>7</th>\n",
              "      <td>not cooked properly. raw smell of chicken</td>\n",
              "      <td>1</td>\n",
              "      <td>41</td>\n",
              "    </tr>\n",
              "    <tr>\n",
              "      <th>8</th>\n",
              "      <td>no doubt . absolutely fine</td>\n",
              "      <td>0</td>\n",
              "      <td>26</td>\n",
              "    </tr>\n",
              "    <tr>\n",
              "      <th>9</th>\n",
              "      <td>no tissues or spoons neither chutney . horribl...</td>\n",
              "      <td>1</td>\n",
              "      <td>58</td>\n",
              "    </tr>\n",
              "  </tbody>\n",
              "</table>\n",
              "</div>\n",
              "      <button class=\"colab-df-convert\" onclick=\"convertToInteractive('df-ebe3237a-7f88-4bab-96f8-bef9a14c0ffb')\"\n",
              "              title=\"Convert this dataframe to an interactive table.\"\n",
              "              style=\"display:none;\">\n",
              "        \n",
              "  <svg xmlns=\"http://www.w3.org/2000/svg\" height=\"24px\"viewBox=\"0 0 24 24\"\n",
              "       width=\"24px\">\n",
              "    <path d=\"M0 0h24v24H0V0z\" fill=\"none\"/>\n",
              "    <path d=\"M18.56 5.44l.94 2.06.94-2.06 2.06-.94-2.06-.94-.94-2.06-.94 2.06-2.06.94zm-11 1L8.5 8.5l.94-2.06 2.06-.94-2.06-.94L8.5 2.5l-.94 2.06-2.06.94zm10 10l.94 2.06.94-2.06 2.06-.94-2.06-.94-.94-2.06-.94 2.06-2.06.94z\"/><path d=\"M17.41 7.96l-1.37-1.37c-.4-.4-.92-.59-1.43-.59-.52 0-1.04.2-1.43.59L10.3 9.45l-7.72 7.72c-.78.78-.78 2.05 0 2.83L4 21.41c.39.39.9.59 1.41.59.51 0 1.02-.2 1.41-.59l7.78-7.78 2.81-2.81c.8-.78.8-2.07 0-2.86zM5.41 20L4 18.59l7.72-7.72 1.47 1.35L5.41 20z\"/>\n",
              "  </svg>\n",
              "      </button>\n",
              "      \n",
              "  <style>\n",
              "    .colab-df-container {\n",
              "      display:flex;\n",
              "      flex-wrap:wrap;\n",
              "      gap: 12px;\n",
              "    }\n",
              "\n",
              "    .colab-df-convert {\n",
              "      background-color: #E8F0FE;\n",
              "      border: none;\n",
              "      border-radius: 50%;\n",
              "      cursor: pointer;\n",
              "      display: none;\n",
              "      fill: #1967D2;\n",
              "      height: 32px;\n",
              "      padding: 0 0 0 0;\n",
              "      width: 32px;\n",
              "    }\n",
              "\n",
              "    .colab-df-convert:hover {\n",
              "      background-color: #E2EBFA;\n",
              "      box-shadow: 0px 1px 2px rgba(60, 64, 67, 0.3), 0px 1px 3px 1px rgba(60, 64, 67, 0.15);\n",
              "      fill: #174EA6;\n",
              "    }\n",
              "\n",
              "    [theme=dark] .colab-df-convert {\n",
              "      background-color: #3B4455;\n",
              "      fill: #D2E3FC;\n",
              "    }\n",
              "\n",
              "    [theme=dark] .colab-df-convert:hover {\n",
              "      background-color: #434B5C;\n",
              "      box-shadow: 0px 1px 3px 1px rgba(0, 0, 0, 0.15);\n",
              "      filter: drop-shadow(0px 1px 2px rgba(0, 0, 0, 0.3));\n",
              "      fill: #FFFFFF;\n",
              "    }\n",
              "  </style>\n",
              "\n",
              "      <script>\n",
              "        const buttonEl =\n",
              "          document.querySelector('#df-ebe3237a-7f88-4bab-96f8-bef9a14c0ffb button.colab-df-convert');\n",
              "        buttonEl.style.display =\n",
              "          google.colab.kernel.accessAllowed ? 'block' : 'none';\n",
              "\n",
              "        async function convertToInteractive(key) {\n",
              "          const element = document.querySelector('#df-ebe3237a-7f88-4bab-96f8-bef9a14c0ffb');\n",
              "          const dataTable =\n",
              "            await google.colab.kernel.invokeFunction('convertToInteractive',\n",
              "                                                     [key], {});\n",
              "          if (!dataTable) return;\n",
              "\n",
              "          const docLinkHtml = 'Like what you see? Visit the ' +\n",
              "            '<a target=\"_blank\" href=https://colab.research.google.com/notebooks/data_table.ipynb>data table notebook</a>'\n",
              "            + ' to learn more about interactive tables.';\n",
              "          element.innerHTML = '';\n",
              "          dataTable['output_type'] = 'display_data';\n",
              "          await google.colab.output.renderOutput(dataTable, element);\n",
              "          const docLink = document.createElement('div');\n",
              "          docLink.innerHTML = docLinkHtml;\n",
              "          element.appendChild(docLink);\n",
              "        }\n",
              "      </script>\n",
              "    </div>\n",
              "  </div>\n",
              "  "
            ],
            "text/plain": [
              "                                         Description  Sentiment  length\n",
              "0                     What is momos without chutney?          1      30\n",
              "1                                               good          0       4\n",
              "2     pls stop do this and warning for this out let.          1      46\n",
              "3  the delivery was delayed . the momos are not p...          1      92\n",
              "4                                  Delivery was good          0      17\n",
              "5  I have got wrong item, delived non veg. I want...          1      53\n",
              "6     I have order 3 pepsi but only got 2...very bad          1      46\n",
              "7          not cooked properly. raw smell of chicken          1      41\n",
              "8                         no doubt . absolutely fine          0      26\n",
              "9  no tissues or spoons neither chutney . horribl...          1      58"
            ]
          },
          "execution_count": 17,
          "metadata": {},
          "output_type": "execute_result"
        }
      ],
      "source": [
        "df.head(10)"
      ]
    },
    {
      "cell_type": "code",
      "execution_count": 18,
      "metadata": {
        "colab": {
          "base_uri": "https://localhost:8080/",
          "height": 589
        },
        "id": "130qMGYpELbC",
        "outputId": "8cf41533-dfda-46f8-8eb0-02e153a79885"
      },
      "outputs": [
        {
          "data": {
            "image/png": "[encoded data removed]",
            "text/plain": [
              "<Figure size 1440x1440 with 1 Axes>"
            ]
          },
          "metadata": {},
          "output_type": "display_data"
        }
      ],
      "source": [
        "def show_wordcloud(data, title = None):\n",
        "    wordcloud = WordCloud(\n",
        "        background_color = 'white',\n",
        "        max_words = 200,\n",
        "        max_font_size = 40, \n",
        "        scale = 3,\n",
        "        random_state = 42\n",
        "    ).generate(str(data))\n",
        "\n",
        "    fig = plt.figure(1, figsize = (20, 20))\n",
        "    plt.axis('off')\n",
        "    if title: \n",
        "        fig.suptitle(title, fontsize = 20)\n",
        "        fig.subplots_adjust(top = 2.3)\n",
        "\n",
        "    plt.imshow(wordcloud)\n",
        "    plt.show()\n",
        "    \n",
        "# print wordcloud\n",
        "show_wordcloud(df[\"Description\"])"
      ]
    },
    {
      "cell_type": "code",
      "execution_count": 19,
      "metadata": {
        "colab": {
          "base_uri": "https://localhost:8080/",
          "height": 377
        },
        "id": "WE6AfG1pIs0p",
        "outputId": "9ac4088f-5c4e-4b02-a1bf-c7a6a90c8191"
      },
      "outputs": [
        {
          "name": "stderr",
          "output_type": "stream",
          "text": [
            "/usr/local/lib/python3.8/dist-packages/seaborn/distributions.py:2619: FutureWarning:\n",
            "\n",
            "`distplot` is a deprecated function and will be removed in a future version. Please adapt your code to use either `displot` (a figure-level function with similar flexibility) or `histplot` (an axes-level function for histograms).\n",
            "\n"
          ]
        },
        {
          "data": {
            "image/png": "[encoded data removed]",
            "text/plain": [
              "<Figure size 432x288 with 1 Axes>"
            ]
          },
          "metadata": {},
          "output_type": "display_data"
        }
      ],
      "source": [
        "sns.distplot(df['length'])\n",
        "plt.xlim([0, 512]);\n",
        "plt.xlabel('Text Length');"
      ]
    },
    {
      "cell_type": "code",
      "execution_count": 20,
      "metadata": {
        "colab": {
          "base_uri": "https://localhost:8080/",
          "height": 319
        },
        "id": "JscASjMoI0OY",
        "outputId": "9ed0d748-907a-4063-c3b9-e51a855e8a5c"
      },
      "outputs": [
        {
          "data": {
            "image/png": "[encoded data removed]",
            "text/plain": [
              "<Figure size 360x360 with 1 Axes>"
            ]
          },
          "metadata": {},
          "output_type": "display_data"
        }
      ],
      "source": [
        "colors = ['plum', 'pink', 'peachpuff','paleturquoise','thistle','lightsteelblue']\n",
        "# explode = (0.05,0.05)\n",
        "plt.figure(figsize=(5, 5))\n",
        "sentiments = ['Negative Reviews', 'Positive Reviews']\n",
        "plt.pie(df['Sentiment'].value_counts(), colors=colors, labels=sentiments, autopct='%1.1f%%', startangle=90, pctdistance=0.85)\n",
        "plt.legend()\n",
        "plt.title(\"Sentiments\")\n",
        "plt.show()"
      ]
    },
    {
      "cell_type": "code",
      "execution_count": 21,
      "metadata": {
        "colab": {
          "base_uri": "https://localhost:8080/",
          "height": 284
        },
        "id": "hgzz9NprJApA",
        "outputId": "0114d479-501f-4d5c-c741-d1ed6f68261b"
      },
      "outputs": [
        {
          "data": {
            "image/png": "[encoded data removed]",
            "text/plain": [
              "<Figure size 432x288 with 2 Axes>"
            ]
          },
          "metadata": {},
          "output_type": "display_data"
        }
      ],
      "source": [
        "df.hist(color='thistle') #to draw histogram\n",
        "plt.show()"
      ]
    },
    {
      "cell_type": "markdown",
      "metadata": {
        "id": "bxQbWbwsbNsC"
      },
      "source": [
        "**Text Proprocessing**\n",
        "\n",
        "Decontracted\n",
        "Data cleaning\n",
        "Spell check\n",
        "Stop Words Removal\n",
        "Tokenization\n",
        "POS Tagging\n",
        "Stemming\n",
        "Lemmatization\n"
      ]
    },
    {
      "cell_type": "markdown",
      "metadata": {
        "id": "yuyFVQG2bRvh"
      },
      "source": [
        "**Decontraction:** Contractions are words or combinations of words that are shortened by dropping letters and replacing them by an apostrophe. Decontracting the contracted words.\n",
        "\n",
        "**DataCleaning:** Removing html, xml tags, punctautions, urls, etc."
      ]
    },
    {
      "cell_type": "code",
      "execution_count": 22,
      "metadata": {
        "colab": {
          "base_uri": "https://localhost:8080/",
          "height": 381
        },
        "id": "29IBRJiWJERU",
        "outputId": "8f99ede2-4197-44a1-8dc4-2d53bc1390f0"
      },
      "outputs": [
        {
          "name": "stderr",
          "output_type": "stream",
          "text": [
            "100%|██████████| 2312/2312 [00:00<00:00, 3540.96it/s]\n"
          ]
        },
        {
          "data": {
            "text/html": [
              "\n",
              "  <div id=\"df-cfafb2ca-bad0-493d-a219-a7aa97c305a8\">\n",
              "    <div class=\"colab-df-container\">\n",
              "      <div>\n",
              "<style scoped>\n",
              "    .dataframe tbody tr th:only-of-type {\n",
              "        vertical-align: middle;\n",
              "    }\n",
              "\n",
              "    .dataframe tbody tr th {\n",
              "        vertical-align: top;\n",
              "    }\n",
              "\n",
              "    .dataframe thead th {\n",
              "        text-align: right;\n",
              "    }\n",
              "</style>\n",
              "<table border=\"1\" class=\"dataframe\">\n",
              "  <thead>\n",
              "    <tr style=\"text-align: right;\">\n",
              "      <th></th>\n",
              "      <th>Description</th>\n",
              "      <th>Sentiment</th>\n",
              "      <th>length</th>\n",
              "      <th>Cleaned_Text</th>\n",
              "    </tr>\n",
              "  </thead>\n",
              "  <tbody>\n",
              "    <tr>\n",
              "      <th>0</th>\n",
              "      <td>What is momos without chutney?</td>\n",
              "      <td>1</td>\n",
              "      <td>30</td>\n",
              "      <td>What is momos without chutney</td>\n",
              "    </tr>\n",
              "    <tr>\n",
              "      <th>1</th>\n",
              "      <td>good</td>\n",
              "      <td>0</td>\n",
              "      <td>4</td>\n",
              "      <td>good</td>\n",
              "    </tr>\n",
              "    <tr>\n",
              "      <th>2</th>\n",
              "      <td>pls stop do this and warning for this out let.</td>\n",
              "      <td>1</td>\n",
              "      <td>46</td>\n",
              "      <td>pls stop do this and warning for this out let</td>\n",
              "    </tr>\n",
              "    <tr>\n",
              "      <th>3</th>\n",
              "      <td>the delivery was delayed . the momos are not p...</td>\n",
              "      <td>1</td>\n",
              "      <td>92</td>\n",
              "      <td>the delivery was delayed   the momos are not p...</td>\n",
              "    </tr>\n",
              "    <tr>\n",
              "      <th>4</th>\n",
              "      <td>Delivery was good</td>\n",
              "      <td>0</td>\n",
              "      <td>17</td>\n",
              "      <td>Delivery was good</td>\n",
              "    </tr>\n",
              "    <tr>\n",
              "      <th>5</th>\n",
              "      <td>I have got wrong item, delived non veg. I want...</td>\n",
              "      <td>1</td>\n",
              "      <td>53</td>\n",
              "      <td>I have got wrong item  delived non veg  I want...</td>\n",
              "    </tr>\n",
              "    <tr>\n",
              "      <th>6</th>\n",
              "      <td>I have order 3 pepsi but only got 2...very bad</td>\n",
              "      <td>1</td>\n",
              "      <td>46</td>\n",
              "      <td>I have order   pepsi but only got     very bad</td>\n",
              "    </tr>\n",
              "    <tr>\n",
              "      <th>7</th>\n",
              "      <td>not cooked properly. raw smell of chicken</td>\n",
              "      <td>1</td>\n",
              "      <td>41</td>\n",
              "      <td>not cooked properly  raw smell of chicken</td>\n",
              "    </tr>\n",
              "    <tr>\n",
              "      <th>8</th>\n",
              "      <td>no doubt . absolutely fine</td>\n",
              "      <td>0</td>\n",
              "      <td>26</td>\n",
              "      <td>no doubt   absolutely fine</td>\n",
              "    </tr>\n",
              "    <tr>\n",
              "      <th>9</th>\n",
              "      <td>no tissues or spoons neither chutney . horribl...</td>\n",
              "      <td>1</td>\n",
              "      <td>58</td>\n",
              "      <td>no tissues or spoons neither chutney   horribl...</td>\n",
              "    </tr>\n",
              "  </tbody>\n",
              "</table>\n",
              "</div>\n",
              "      <button class=\"colab-df-convert\" onclick=\"convertToInteractive('df-cfafb2ca-bad0-493d-a219-a7aa97c305a8')\"\n",
              "              title=\"Convert this dataframe to an interactive table.\"\n",
              "              style=\"display:none;\">\n",
              "        \n",
              "  <svg xmlns=\"http://www.w3.org/2000/svg\" height=\"24px\"viewBox=\"0 0 24 24\"\n",
              "       width=\"24px\">\n",
              "    <path d=\"M0 0h24v24H0V0z\" fill=\"none\"/>\n",
              "    <path d=\"M18.56 5.44l.94 2.06.94-2.06 2.06-.94-2.06-.94-.94-2.06-.94 2.06-2.06.94zm-11 1L8.5 8.5l.94-2.06 2.06-.94-2.06-.94L8.5 2.5l-.94 2.06-2.06.94zm10 10l.94 2.06.94-2.06 2.06-.94-2.06-.94-.94-2.06-.94 2.06-2.06.94z\"/><path d=\"M17.41 7.96l-1.37-1.37c-.4-.4-.92-.59-1.43-.59-.52 0-1.04.2-1.43.59L10.3 9.45l-7.72 7.72c-.78.78-.78 2.05 0 2.83L4 21.41c.39.39.9.59 1.41.59.51 0 1.02-.2 1.41-.59l7.78-7.78 2.81-2.81c.8-.78.8-2.07 0-2.86zM5.41 20L4 18.59l7.72-7.72 1.47 1.35L5.41 20z\"/>\n",
              "  </svg>\n",
              "      </button>\n",
              "      \n",
              "  <style>\n",
              "    .colab-df-container {\n",
              "      display:flex;\n",
              "      flex-wrap:wrap;\n",
              "      gap: 12px;\n",
              "    }\n",
              "\n",
              "    .colab-df-convert {\n",
              "      background-color: #E8F0FE;\n",
              "      border: none;\n",
              "      border-radius: 50%;\n",
              "      cursor: pointer;\n",
              "      display: none;\n",
              "      fill: #1967D2;\n",
              "      height: 32px;\n",
              "      padding: 0 0 0 0;\n",
              "      width: 32px;\n",
              "    }\n",
              "\n",
              "    .colab-df-convert:hover {\n",
              "      background-color: #E2EBFA;\n",
              "      box-shadow: 0px 1px 2px rgba(60, 64, 67, 0.3), 0px 1px 3px 1px rgba(60, 64, 67, 0.15);\n",
              "      fill: #174EA6;\n",
              "    }\n",
              "\n",
              "    [theme=dark] .colab-df-convert {\n",
              "      background-color: #3B4455;\n",
              "      fill: #D2E3FC;\n",
              "    }\n",
              "\n",
              "    [theme=dark] .colab-df-convert:hover {\n",
              "      background-color: #434B5C;\n",
              "      box-shadow: 0px 1px 3px 1px rgba(0, 0, 0, 0.15);\n",
              "      filter: drop-shadow(0px 1px 2px rgba(0, 0, 0, 0.3));\n",
              "      fill: #FFFFFF;\n",
              "    }\n",
              "  </style>\n",
              "\n",
              "      <script>\n",
              "        const buttonEl =\n",
              "          document.querySelector('#df-cfafb2ca-bad0-493d-a219-a7aa97c305a8 button.colab-df-convert');\n",
              "        buttonEl.style.display =\n",
              "          google.colab.kernel.accessAllowed ? 'block' : 'none';\n",
              "\n",
              "        async function convertToInteractive(key) {\n",
              "          const element = document.querySelector('#df-cfafb2ca-bad0-493d-a219-a7aa97c305a8');\n",
              "          const dataTable =\n",
              "            await google.colab.kernel.invokeFunction('convertToInteractive',\n",
              "                                                     [key], {});\n",
              "          if (!dataTable) return;\n",
              "\n",
              "          const docLinkHtml = 'Like what you see? Visit the ' +\n",
              "            '<a target=\"_blank\" href=https://colab.research.google.com/notebooks/data_table.ipynb>data table notebook</a>'\n",
              "            + ' to learn more about interactive tables.';\n",
              "          element.innerHTML = '';\n",
              "          dataTable['output_type'] = 'display_data';\n",
              "          await google.colab.output.renderOutput(dataTable, element);\n",
              "          const docLink = document.createElement('div');\n",
              "          docLink.innerHTML = docLinkHtml;\n",
              "          element.appendChild(docLink);\n",
              "        }\n",
              "      </script>\n",
              "    </div>\n",
              "  </div>\n",
              "  "
            ],
            "text/plain": [
              "                                         Description  Sentiment  length  \\\n",
              "0                     What is momos without chutney?          1      30   \n",
              "1                                               good          0       4   \n",
              "2     pls stop do this and warning for this out let.          1      46   \n",
              "3  the delivery was delayed . the momos are not p...          1      92   \n",
              "4                                  Delivery was good          0      17   \n",
              "5  I have got wrong item, delived non veg. I want...          1      53   \n",
              "6     I have order 3 pepsi but only got 2...very bad          1      46   \n",
              "7          not cooked properly. raw smell of chicken          1      41   \n",
              "8                         no doubt . absolutely fine          0      26   \n",
              "9  no tissues or spoons neither chutney . horribl...          1      58   \n",
              "\n",
              "                                        Cleaned_Text  \n",
              "0                     What is momos without chutney   \n",
              "1                                               good  \n",
              "2     pls stop do this and warning for this out let   \n",
              "3  the delivery was delayed   the momos are not p...  \n",
              "4                                  Delivery was good  \n",
              "5  I have got wrong item  delived non veg  I want...  \n",
              "6     I have order   pepsi but only got     very bad  \n",
              "7          not cooked properly  raw smell of chicken  \n",
              "8                         no doubt   absolutely fine  \n",
              "9  no tissues or spoons neither chutney   horribl...  "
            ]
          },
          "execution_count": 22,
          "metadata": {},
          "output_type": "execute_result"
        }
      ],
      "source": [
        "from tqdm import tqdm\n",
        "import re\n",
        "from bs4 import BeautifulSoup\n",
        "from nltk.stem import PorterStemmer\n",
        "from nltk.stem import WordNetLemmatizer\n",
        "\n",
        "def decontracted(phrase):\n",
        "    # specific\n",
        "    phrase = re.sub(r\"wont\", \"will not\", phrase)\n",
        "    phrase = re.sub(r\"wouldnt\", \"would not\", phrase)\n",
        "    phrase = re.sub(r\"shouldnt\", \"should not\", phrase)\n",
        "    phrase = re.sub(r\"couldnt\", \"could not\", phrase)\n",
        "    phrase = re.sub(r\"cudnt\", \"could not\", phrase)\n",
        "    phrase = re.sub(r\"cant\", \"can not\", phrase)\n",
        "    phrase = re.sub(r\"dont\", \"do not\", phrase)\n",
        "    phrase = re.sub(r\"doesnt\", \"does not\", phrase)\n",
        "    phrase = re.sub(r\"didnt\", \"did not\", phrase)\n",
        "    phrase = re.sub(r\"wasnt\", \"was not\", phrase)\n",
        "    phrase = re.sub(r\"werent\", \"were not\", phrase)\n",
        "    phrase = re.sub(r\"havent\", \"have not\", phrase)\n",
        "    phrase = re.sub(r\"hadnt\", \"had not\", phrase)\n",
        "\n",
        "    # general\n",
        "    phrase = re.sub(r\"n\\ t\", \" not\", phrase)\n",
        "    phrase = re.sub(r\"\\re\", \" are\", phrase)\n",
        "    phrase = re.sub(r\"\\ s \", \" is \", phrase)  \n",
        "    phrase = re.sub(r\"\\ d \", \" would \", phrase)\n",
        "    phrase = re.sub(r\"\\ ll \", \" will \", phrase)\n",
        "    phrase = re.sub(r\"\\dunno\", \"do not \", phrase)\n",
        "    phrase = re.sub(r\"ive \", \"i have \", phrase)\n",
        "    phrase = re.sub(r\"im \", \"i am \", phrase)\n",
        "    phrase = re.sub(r\"i m \", \"i am \", phrase)\n",
        "    phrase = re.sub(r\" w \", \" with \", phrase)\n",
        "    \n",
        "    return phrase\n",
        "\n",
        "    \n",
        "def clean_text(df):\n",
        "    \n",
        "    cleaned_review = []\n",
        "\n",
        "    for review_text in tqdm(df['Description']):\n",
        "        \n",
        "        # expand the contracted words\n",
        "        review_text = decontracted(review_text)\n",
        "        #remove html tags\n",
        "        review_text = BeautifulSoup(review_text, 'lxml').get_text().strip() # re.sub(r'<.*?>', '', text)\n",
        "        \n",
        "        #remove non-alphabetic characters\n",
        "        review_text = re.sub(\"[^a-zA-Z]\",\" \", review_text)\n",
        "    \n",
        "        #remove url \n",
        "        review_text = re.sub(r'https?://\\S+|www\\.\\S+', '', review_text)\n",
        "        \n",
        "        #Removing punctutation, string.punctuation in python consists of !\"#$%&\\'()*+,-./:;<=>?@[\\\\]^_{|}~`\n",
        "        review_text = review_text.translate(str.maketrans('', '', string.punctuation))\n",
        "        # ''.join([char for char in movie_text_data if char not in string.punctuation])\n",
        "        \n",
        "        # remove emails\n",
        "        review_text = re.sub(r\"(^[a-zA-Z0-9_.+-]+@[a-zA-Z0-9-]+\\.[a-zA-Z0-9-.]+$)\", '', review_text)\n",
        "    \n",
        "        cleaned_review.append(review_text)\n",
        "\n",
        "    return cleaned_review  \n",
        "\n",
        "df['Cleaned_Text'] = clean_text(df)\n",
        "df.head(10)  "
      ]
    },
    {
      "cell_type": "markdown",
      "metadata": {
        "id": "gcKDak1XbXJp"
      },
      "source": [
        "**Tokenization:** Splitting sentences into words(tokens)."
      ]
    },
    {
      "cell_type": "code",
      "execution_count": 23,
      "metadata": {
        "colab": {
          "base_uri": "https://localhost:8080/",
          "height": 314
        },
        "id": "KB2l9YnGJxF0",
        "outputId": "013cd817-ee8b-4783-c5ee-5f5d3502cabb"
      },
      "outputs": [
        {
          "name": "stderr",
          "output_type": "stream",
          "text": [
            "[nltk_data] Downloading package averaged_perceptron_tagger to\n",
            "[nltk_data]     /root/nltk_data...\n",
            "[nltk_data]   Package averaged_perceptron_tagger is already up-to-\n",
            "[nltk_data]       date!\n",
            "100%|██████████| 2312/2312 [00:00<00:00, 8293.21it/s]\n",
            "100%|██████████| 2312/2312 [00:00<00:00, 8837.36it/s]\n"
          ]
        },
        {
          "data": {
            "text/html": [
              "\n",
              "  <div id=\"df-de407fe8-6796-4fa8-b2a2-8ea2a42aa4d5\">\n",
              "    <div class=\"colab-df-container\">\n",
              "      <div>\n",
              "<style scoped>\n",
              "    .dataframe tbody tr th:only-of-type {\n",
              "        vertical-align: middle;\n",
              "    }\n",
              "\n",
              "    .dataframe tbody tr th {\n",
              "        vertical-align: top;\n",
              "    }\n",
              "\n",
              "    .dataframe thead th {\n",
              "        text-align: right;\n",
              "    }\n",
              "</style>\n",
              "<table border=\"1\" class=\"dataframe\">\n",
              "  <thead>\n",
              "    <tr style=\"text-align: right;\">\n",
              "      <th></th>\n",
              "      <th>Description</th>\n",
              "      <th>Sentiment</th>\n",
              "      <th>length</th>\n",
              "      <th>Cleaned_Text</th>\n",
              "    </tr>\n",
              "  </thead>\n",
              "  <tbody>\n",
              "    <tr>\n",
              "      <th>0</th>\n",
              "      <td>What is momos without chutney?</td>\n",
              "      <td>1</td>\n",
              "      <td>30</td>\n",
              "      <td>[What, is, momos, without, chutney]</td>\n",
              "    </tr>\n",
              "    <tr>\n",
              "      <th>1</th>\n",
              "      <td>good</td>\n",
              "      <td>0</td>\n",
              "      <td>4</td>\n",
              "      <td>[good]</td>\n",
              "    </tr>\n",
              "    <tr>\n",
              "      <th>2</th>\n",
              "      <td>pls stop do this and warning for this out let.</td>\n",
              "      <td>1</td>\n",
              "      <td>46</td>\n",
              "      <td>[pls, stop, do, this, and, warning, for, this,...</td>\n",
              "    </tr>\n",
              "    <tr>\n",
              "      <th>3</th>\n",
              "      <td>the delivery was delayed . the momos are not p...</td>\n",
              "      <td>1</td>\n",
              "      <td>92</td>\n",
              "      <td>[the, delivery, was, delayed, the, momos, are,...</td>\n",
              "    </tr>\n",
              "    <tr>\n",
              "      <th>4</th>\n",
              "      <td>Delivery was good</td>\n",
              "      <td>0</td>\n",
              "      <td>17</td>\n",
              "      <td>[Delivery, was, good]</td>\n",
              "    </tr>\n",
              "  </tbody>\n",
              "</table>\n",
              "</div>\n",
              "      <button class=\"colab-df-convert\" onclick=\"convertToInteractive('df-de407fe8-6796-4fa8-b2a2-8ea2a42aa4d5')\"\n",
              "              title=\"Convert this dataframe to an interactive table.\"\n",
              "              style=\"display:none;\">\n",
              "        \n",
              "  <svg xmlns=\"http://www.w3.org/2000/svg\" height=\"24px\"viewBox=\"0 0 24 24\"\n",
              "       width=\"24px\">\n",
              "    <path d=\"M0 0h24v24H0V0z\" fill=\"none\"/>\n",
              "    <path d=\"M18.56 5.44l.94 2.06.94-2.06 2.06-.94-2.06-.94-.94-2.06-.94 2.06-2.06.94zm-11 1L8.5 8.5l.94-2.06 2.06-.94-2.06-.94L8.5 2.5l-.94 2.06-2.06.94zm10 10l.94 2.06.94-2.06 2.06-.94-2.06-.94-.94-2.06-.94 2.06-2.06.94z\"/><path d=\"M17.41 7.96l-1.37-1.37c-.4-.4-.92-.59-1.43-.59-.52 0-1.04.2-1.43.59L10.3 9.45l-7.72 7.72c-.78.78-.78 2.05 0 2.83L4 21.41c.39.39.9.59 1.41.59.51 0 1.02-.2 1.41-.59l7.78-7.78 2.81-2.81c.8-.78.8-2.07 0-2.86zM5.41 20L4 18.59l7.72-7.72 1.47 1.35L5.41 20z\"/>\n",
              "  </svg>\n",
              "      </button>\n",
              "      \n",
              "  <style>\n",
              "    .colab-df-container {\n",
              "      display:flex;\n",
              "      flex-wrap:wrap;\n",
              "      gap: 12px;\n",
              "    }\n",
              "\n",
              "    .colab-df-convert {\n",
              "      background-color: #E8F0FE;\n",
              "      border: none;\n",
              "      border-radius: 50%;\n",
              "      cursor: pointer;\n",
              "      display: none;\n",
              "      fill: #1967D2;\n",
              "      height: 32px;\n",
              "      padding: 0 0 0 0;\n",
              "      width: 32px;\n",
              "    }\n",
              "\n",
              "    .colab-df-convert:hover {\n",
              "      background-color: #E2EBFA;\n",
              "      box-shadow: 0px 1px 2px rgba(60, 64, 67, 0.3), 0px 1px 3px 1px rgba(60, 64, 67, 0.15);\n",
              "      fill: #174EA6;\n",
              "    }\n",
              "\n",
              "    [theme=dark] .colab-df-convert {\n",
              "      background-color: #3B4455;\n",
              "      fill: #D2E3FC;\n",
              "    }\n",
              "\n",
              "    [theme=dark] .colab-df-convert:hover {\n",
              "      background-color: #434B5C;\n",
              "      box-shadow: 0px 1px 3px 1px rgba(0, 0, 0, 0.15);\n",
              "      filter: drop-shadow(0px 1px 2px rgba(0, 0, 0, 0.3));\n",
              "      fill: #FFFFFF;\n",
              "    }\n",
              "  </style>\n",
              "\n",
              "      <script>\n",
              "        const buttonEl =\n",
              "          document.querySelector('#df-de407fe8-6796-4fa8-b2a2-8ea2a42aa4d5 button.colab-df-convert');\n",
              "        buttonEl.style.display =\n",
              "          google.colab.kernel.accessAllowed ? 'block' : 'none';\n",
              "\n",
              "        async function convertToInteractive(key) {\n",
              "          const element = document.querySelector('#df-de407fe8-6796-4fa8-b2a2-8ea2a42aa4d5');\n",
              "          const dataTable =\n",
              "            await google.colab.kernel.invokeFunction('convertToInteractive',\n",
              "                                                     [key], {});\n",
              "          if (!dataTable) return;\n",
              "\n",
              "          const docLinkHtml = 'Like what you see? Visit the ' +\n",
              "            '<a target=\"_blank\" href=https://colab.research.google.com/notebooks/data_table.ipynb>data table notebook</a>'\n",
              "            + ' to learn more about interactive tables.';\n",
              "          element.innerHTML = '';\n",
              "          dataTable['output_type'] = 'display_data';\n",
              "          await google.colab.output.renderOutput(dataTable, element);\n",
              "          const docLink = document.createElement('div');\n",
              "          docLink.innerHTML = docLinkHtml;\n",
              "          element.appendChild(docLink);\n",
              "        }\n",
              "      </script>\n",
              "    </div>\n",
              "  </div>\n",
              "  "
            ],
            "text/plain": [
              "                                         Description  Sentiment  length  \\\n",
              "0                     What is momos without chutney?          1      30   \n",
              "1                                               good          0       4   \n",
              "2     pls stop do this and warning for this out let.          1      46   \n",
              "3  the delivery was delayed . the momos are not p...          1      92   \n",
              "4                                  Delivery was good          0      17   \n",
              "\n",
              "                                        Cleaned_Text  \n",
              "0                [What, is, momos, without, chutney]  \n",
              "1                                             [good]  \n",
              "2  [pls, stop, do, this, and, warning, for, this,...  \n",
              "3  [the, delivery, was, delayed, the, momos, are,...  \n",
              "4                              [Delivery, was, good]  "
            ]
          },
          "execution_count": 23,
          "metadata": {},
          "output_type": "execute_result"
        }
      ],
      "source": [
        "from nltk import word_tokenize, pos_tag\n",
        "nltk.download('averaged_perceptron_tagger')\n",
        "\n",
        "def tokenize(phrase):\n",
        "    tokens_list = []\n",
        "    tokenizer = RegexpTokenizer(r'[a-zA-Z0-9]+')\n",
        "    \n",
        "    for review_text in tqdm(phrase):\n",
        "        tokens1 = word_tokenize(review_text)\n",
        "        tokens1 = [word for word in tokens1]\n",
        "        tokens_list.append(tokens1)\n",
        "    return tokens_list\n",
        "\n",
        "df2 = df.reset_index(drop=True)\n",
        "df2['length'] = df['Description'].apply(len) # number of characters\n",
        "df2['length'].describe() # info()\n",
        "df2['Cleaned_Text'] = tokenize(df['Cleaned_Text'])\n",
        "token_list = tokenize(df['Cleaned_Text'])\n",
        "df2.head()"
      ]
    },
    {
      "cell_type": "markdown",
      "metadata": {
        "id": "j-IslA_nbfBB"
      },
      "source": [
        "**Remove Stopwords:** Words like a,am,the,is,and,or, etc. will be removed."
      ]
    },
    {
      "cell_type": "code",
      "execution_count": 24,
      "metadata": {
        "colab": {
          "base_uri": "https://localhost:8080/",
          "height": 224
        },
        "id": "peaCADF9bF_T",
        "outputId": "bc717884-e463-4d2f-af0e-4af8e5201fc3"
      },
      "outputs": [
        {
          "name": "stderr",
          "output_type": "stream",
          "text": [
            "100%|██████████| 2312/2312 [00:00<00:00, 6181.51it/s]\n"
          ]
        },
        {
          "data": {
            "text/html": [
              "\n",
              "  <div id=\"df-4e847b75-4ad9-4ff2-999d-f1d883da2d1b\">\n",
              "    <div class=\"colab-df-container\">\n",
              "      <div>\n",
              "<style scoped>\n",
              "    .dataframe tbody tr th:only-of-type {\n",
              "        vertical-align: middle;\n",
              "    }\n",
              "\n",
              "    .dataframe tbody tr th {\n",
              "        vertical-align: top;\n",
              "    }\n",
              "\n",
              "    .dataframe thead th {\n",
              "        text-align: right;\n",
              "    }\n",
              "</style>\n",
              "<table border=\"1\" class=\"dataframe\">\n",
              "  <thead>\n",
              "    <tr style=\"text-align: right;\">\n",
              "      <th></th>\n",
              "      <th>Description</th>\n",
              "      <th>Sentiment</th>\n",
              "      <th>length</th>\n",
              "      <th>Cleaned_Text</th>\n",
              "    </tr>\n",
              "  </thead>\n",
              "  <tbody>\n",
              "    <tr>\n",
              "      <th>0</th>\n",
              "      <td>What is momos without chutney?</td>\n",
              "      <td>1</td>\n",
              "      <td>30</td>\n",
              "      <td>[What, momos, without, chutney]</td>\n",
              "    </tr>\n",
              "    <tr>\n",
              "      <th>1</th>\n",
              "      <td>good</td>\n",
              "      <td>0</td>\n",
              "      <td>4</td>\n",
              "      <td>[good]</td>\n",
              "    </tr>\n",
              "    <tr>\n",
              "      <th>2</th>\n",
              "      <td>pls stop do this and warning for this out let.</td>\n",
              "      <td>1</td>\n",
              "      <td>46</td>\n",
              "      <td>[pls, stop, warning, let]</td>\n",
              "    </tr>\n",
              "    <tr>\n",
              "      <th>3</th>\n",
              "      <td>the delivery was delayed . the momos are not p...</td>\n",
              "      <td>1</td>\n",
              "      <td>92</td>\n",
              "      <td>[delivery, delayed, momos, prepared, properly,...</td>\n",
              "    </tr>\n",
              "    <tr>\n",
              "      <th>4</th>\n",
              "      <td>Delivery was good</td>\n",
              "      <td>0</td>\n",
              "      <td>17</td>\n",
              "      <td>[Delivery, good]</td>\n",
              "    </tr>\n",
              "  </tbody>\n",
              "</table>\n",
              "</div>\n",
              "      <button class=\"colab-df-convert\" onclick=\"convertToInteractive('df-4e847b75-4ad9-4ff2-999d-f1d883da2d1b')\"\n",
              "              title=\"Convert this dataframe to an interactive table.\"\n",
              "              style=\"display:none;\">\n",
              "        \n",
              "  <svg xmlns=\"http://www.w3.org/2000/svg\" height=\"24px\"viewBox=\"0 0 24 24\"\n",
              "       width=\"24px\">\n",
              "    <path d=\"M0 0h24v24H0V0z\" fill=\"none\"/>\n",
              "    <path d=\"M18.56 5.44l.94 2.06.94-2.06 2.06-.94-2.06-.94-.94-2.06-.94 2.06-2.06.94zm-11 1L8.5 8.5l.94-2.06 2.06-.94-2.06-.94L8.5 2.5l-.94 2.06-2.06.94zm10 10l.94 2.06.94-2.06 2.06-.94-2.06-.94-.94-2.06-.94 2.06-2.06.94z\"/><path d=\"M17.41 7.96l-1.37-1.37c-.4-.4-.92-.59-1.43-.59-.52 0-1.04.2-1.43.59L10.3 9.45l-7.72 7.72c-.78.78-.78 2.05 0 2.83L4 21.41c.39.39.9.59 1.41.59.51 0 1.02-.2 1.41-.59l7.78-7.78 2.81-2.81c.8-.78.8-2.07 0-2.86zM5.41 20L4 18.59l7.72-7.72 1.47 1.35L5.41 20z\"/>\n",
              "  </svg>\n",
              "      </button>\n",
              "      \n",
              "  <style>\n",
              "    .colab-df-container {\n",
              "      display:flex;\n",
              "      flex-wrap:wrap;\n",
              "      gap: 12px;\n",
              "    }\n",
              "\n",
              "    .colab-df-convert {\n",
              "      background-color: #E8F0FE;\n",
              "      border: none;\n",
              "      border-radius: 50%;\n",
              "      cursor: pointer;\n",
              "      display: none;\n",
              "      fill: #1967D2;\n",
              "      height: 32px;\n",
              "      padding: 0 0 0 0;\n",
              "      width: 32px;\n",
              "    }\n",
              "\n",
              "    .colab-df-convert:hover {\n",
              "      background-color: #E2EBFA;\n",
              "      box-shadow: 0px 1px 2px rgba(60, 64, 67, 0.3), 0px 1px 3px 1px rgba(60, 64, 67, 0.15);\n",
              "      fill: #174EA6;\n",
              "    }\n",
              "\n",
              "    [theme=dark] .colab-df-convert {\n",
              "      background-color: #3B4455;\n",
              "      fill: #D2E3FC;\n",
              "    }\n",
              "\n",
              "    [theme=dark] .colab-df-convert:hover {\n",
              "      background-color: #434B5C;\n",
              "      box-shadow: 0px 1px 3px 1px rgba(0, 0, 0, 0.15);\n",
              "      filter: drop-shadow(0px 1px 2px rgba(0, 0, 0, 0.3));\n",
              "      fill: #FFFFFF;\n",
              "    }\n",
              "  </style>\n",
              "\n",
              "      <script>\n",
              "        const buttonEl =\n",
              "          document.querySelector('#df-4e847b75-4ad9-4ff2-999d-f1d883da2d1b button.colab-df-convert');\n",
              "        buttonEl.style.display =\n",
              "          google.colab.kernel.accessAllowed ? 'block' : 'none';\n",
              "\n",
              "        async function convertToInteractive(key) {\n",
              "          const element = document.querySelector('#df-4e847b75-4ad9-4ff2-999d-f1d883da2d1b');\n",
              "          const dataTable =\n",
              "            await google.colab.kernel.invokeFunction('convertToInteractive',\n",
              "                                                     [key], {});\n",
              "          if (!dataTable) return;\n",
              "\n",
              "          const docLinkHtml = 'Like what you see? Visit the ' +\n",
              "            '<a target=\"_blank\" href=https://colab.research.google.com/notebooks/data_table.ipynb>data table notebook</a>'\n",
              "            + ' to learn more about interactive tables.';\n",
              "          element.innerHTML = '';\n",
              "          dataTable['output_type'] = 'display_data';\n",
              "          await google.colab.output.renderOutput(dataTable, element);\n",
              "          const docLink = document.createElement('div');\n",
              "          docLink.innerHTML = docLinkHtml;\n",
              "          element.appendChild(docLink);\n",
              "        }\n",
              "      </script>\n",
              "    </div>\n",
              "  </div>\n",
              "  "
            ],
            "text/plain": [
              "                                         Description  Sentiment  length  \\\n",
              "0                     What is momos without chutney?          1      30   \n",
              "1                                               good          0       4   \n",
              "2     pls stop do this and warning for this out let.          1      46   \n",
              "3  the delivery was delayed . the momos are not p...          1      92   \n",
              "4                                  Delivery was good          0      17   \n",
              "\n",
              "                                        Cleaned_Text  \n",
              "0                    [What, momos, without, chutney]  \n",
              "1                                             [good]  \n",
              "2                          [pls, stop, warning, let]  \n",
              "3  [delivery, delayed, momos, prepared, properly,...  \n",
              "4                                   [Delivery, good]  "
            ]
          },
          "execution_count": 24,
          "metadata": {},
          "output_type": "execute_result"
        }
      ],
      "source": [
        "def remove_stopwords(phrase):\n",
        "    remove_sw = []\n",
        "    tokenizer = RegexpTokenizer(r'[a-zA-Z0-9]+')\n",
        "    stop_words = stopwords.words('english')\n",
        "    \n",
        "    for review_text in tqdm(phrase):\n",
        "        tokens = word_tokenize(review_text)\n",
        "        tokens = [word for word in tokens if not word in stop_words]\n",
        "        remove_sw.append(tokens)\n",
        "    return remove_sw\n",
        "\n",
        "df['Cleaned_Text'] = remove_stopwords(df['Cleaned_Text'])\n",
        "df.head()"
      ]
    },
    {
      "cell_type": "markdown",
      "metadata": {
        "id": "StI8-8pEbpZv"
      },
      "source": [
        "**POS Tagging:** Identify the Part of Speech of each tokens"
      ]
    },
    {
      "cell_type": "code",
      "execution_count": 25,
      "metadata": {
        "colab": {
          "base_uri": "https://localhost:8080/"
        },
        "id": "lVElEJkjbnFl",
        "outputId": "feae2a0c-8e5e-4131-c4b4-9575f9a0b977"
      },
      "outputs": [
        {
          "data": {
            "text/plain": [
              "[[('What', 'WP'),\n",
              "  ('is', 'VBZ'),\n",
              "  ('momos', 'VBN'),\n",
              "  ('without', 'IN'),\n",
              "  ('chutney', 'NN')]]"
            ]
          },
          "execution_count": 25,
          "metadata": {},
          "output_type": "execute_result"
        }
      ],
      "source": [
        "def Pos_tagging(phrase):\n",
        "    postags = []\n",
        "    for i in range(len(df['Cleaned_Text'])):\n",
        "        pos_tagger = nltk.pos_tag(token_list[i])\n",
        "        postags.append(pos_tagger)\n",
        "        return postags\n",
        "\n",
        "df3 = df.reset_index(drop=True)\n",
        "df3['length'] = df['Description'].apply(len) # number of characters\n",
        "df3['length'].describe() # info()\n",
        "res = Pos_tagging(df['Cleaned_Text'])\n",
        "res"
      ]
    },
    {
      "cell_type": "markdown",
      "metadata": {
        "id": "baVXT-30b2Tf"
      },
      "source": [
        "Now we have the POS tags for every text. There are lots of categories. Here are the meanings:\n",
        "\n",
        "NN: noun (there are other categories that can fit within this one for our purposes, such as NNS, NNP, NNPS, which all belong to nouns, containing plurals and proper names)\n",
        "\n",
        "RB: adverb\n",
        "\n",
        "VB: verb (and similar categories indicating tense: VBP, VBG, VBS..)\n",
        "\n",
        "JJ: adjective or numeral"
      ]
    },
    {
      "cell_type": "markdown",
      "metadata": {
        "id": "Huk__T-2b3nQ"
      },
      "source": [
        "**Stemming:** Extrating root word by removing the suffixes and prefixes"
      ]
    },
    {
      "cell_type": "code",
      "execution_count": 26,
      "metadata": {
        "colab": {
          "base_uri": "https://localhost:8080/",
          "height": 224
        },
        "id": "r4gHqZhnb0Ni",
        "outputId": "46b2bd5b-e777-4d18-9c22-92bc650e32ac"
      },
      "outputs": [
        {
          "name": "stderr",
          "output_type": "stream",
          "text": [
            "100%|██████████| 2312/2312 [00:00<00:00, 6393.91it/s]\n"
          ]
        },
        {
          "data": {
            "text/html": [
              "\n",
              "  <div id=\"df-aaaae116-b109-48ec-9d48-a11a9e4b43ef\">\n",
              "    <div class=\"colab-df-container\">\n",
              "      <div>\n",
              "<style scoped>\n",
              "    .dataframe tbody tr th:only-of-type {\n",
              "        vertical-align: middle;\n",
              "    }\n",
              "\n",
              "    .dataframe tbody tr th {\n",
              "        vertical-align: top;\n",
              "    }\n",
              "\n",
              "    .dataframe thead th {\n",
              "        text-align: right;\n",
              "    }\n",
              "</style>\n",
              "<table border=\"1\" class=\"dataframe\">\n",
              "  <thead>\n",
              "    <tr style=\"text-align: right;\">\n",
              "      <th></th>\n",
              "      <th>Description</th>\n",
              "      <th>Sentiment</th>\n",
              "      <th>length</th>\n",
              "      <th>Cleaned_Text</th>\n",
              "    </tr>\n",
              "  </thead>\n",
              "  <tbody>\n",
              "    <tr>\n",
              "      <th>0</th>\n",
              "      <td>What is momos without chutney?</td>\n",
              "      <td>1</td>\n",
              "      <td>30</td>\n",
              "      <td>[what, momo, without, chutney]</td>\n",
              "    </tr>\n",
              "    <tr>\n",
              "      <th>1</th>\n",
              "      <td>good</td>\n",
              "      <td>0</td>\n",
              "      <td>4</td>\n",
              "      <td>[good]</td>\n",
              "    </tr>\n",
              "    <tr>\n",
              "      <th>2</th>\n",
              "      <td>pls stop do this and warning for this out let.</td>\n",
              "      <td>1</td>\n",
              "      <td>46</td>\n",
              "      <td>[pl, stop, warn, let]</td>\n",
              "    </tr>\n",
              "    <tr>\n",
              "      <th>3</th>\n",
              "      <td>the delivery was delayed . the momos are not p...</td>\n",
              "      <td>1</td>\n",
              "      <td>92</td>\n",
              "      <td>[deliveri, delay, momo, prepar, properli, enti...</td>\n",
              "    </tr>\n",
              "    <tr>\n",
              "      <th>4</th>\n",
              "      <td>Delivery was good</td>\n",
              "      <td>0</td>\n",
              "      <td>17</td>\n",
              "      <td>[deliveri, good]</td>\n",
              "    </tr>\n",
              "  </tbody>\n",
              "</table>\n",
              "</div>\n",
              "      <button class=\"colab-df-convert\" onclick=\"convertToInteractive('df-aaaae116-b109-48ec-9d48-a11a9e4b43ef')\"\n",
              "              title=\"Convert this dataframe to an interactive table.\"\n",
              "              style=\"display:none;\">\n",
              "        \n",
              "  <svg xmlns=\"http://www.w3.org/2000/svg\" height=\"24px\"viewBox=\"0 0 24 24\"\n",
              "       width=\"24px\">\n",
              "    <path d=\"M0 0h24v24H0V0z\" fill=\"none\"/>\n",
              "    <path d=\"M18.56 5.44l.94 2.06.94-2.06 2.06-.94-2.06-.94-.94-2.06-.94 2.06-2.06.94zm-11 1L8.5 8.5l.94-2.06 2.06-.94-2.06-.94L8.5 2.5l-.94 2.06-2.06.94zm10 10l.94 2.06.94-2.06 2.06-.94-2.06-.94-.94-2.06-.94 2.06-2.06.94z\"/><path d=\"M17.41 7.96l-1.37-1.37c-.4-.4-.92-.59-1.43-.59-.52 0-1.04.2-1.43.59L10.3 9.45l-7.72 7.72c-.78.78-.78 2.05 0 2.83L4 21.41c.39.39.9.59 1.41.59.51 0 1.02-.2 1.41-.59l7.78-7.78 2.81-2.81c.8-.78.8-2.07 0-2.86zM5.41 20L4 18.59l7.72-7.72 1.47 1.35L5.41 20z\"/>\n",
              "  </svg>\n",
              "      </button>\n",
              "      \n",
              "  <style>\n",
              "    .colab-df-container {\n",
              "      display:flex;\n",
              "      flex-wrap:wrap;\n",
              "      gap: 12px;\n",
              "    }\n",
              "\n",
              "    .colab-df-convert {\n",
              "      background-color: #E8F0FE;\n",
              "      border: none;\n",
              "      border-radius: 50%;\n",
              "      cursor: pointer;\n",
              "      display: none;\n",
              "      fill: #1967D2;\n",
              "      height: 32px;\n",
              "      padding: 0 0 0 0;\n",
              "      width: 32px;\n",
              "    }\n",
              "\n",
              "    .colab-df-convert:hover {\n",
              "      background-color: #E2EBFA;\n",
              "      box-shadow: 0px 1px 2px rgba(60, 64, 67, 0.3), 0px 1px 3px 1px rgba(60, 64, 67, 0.15);\n",
              "      fill: #174EA6;\n",
              "    }\n",
              "\n",
              "    [theme=dark] .colab-df-convert {\n",
              "      background-color: #3B4455;\n",
              "      fill: #D2E3FC;\n",
              "    }\n",
              "\n",
              "    [theme=dark] .colab-df-convert:hover {\n",
              "      background-color: #434B5C;\n",
              "      box-shadow: 0px 1px 3px 1px rgba(0, 0, 0, 0.15);\n",
              "      filter: drop-shadow(0px 1px 2px rgba(0, 0, 0, 0.3));\n",
              "      fill: #FFFFFF;\n",
              "    }\n",
              "  </style>\n",
              "\n",
              "      <script>\n",
              "        const buttonEl =\n",
              "          document.querySelector('#df-aaaae116-b109-48ec-9d48-a11a9e4b43ef button.colab-df-convert');\n",
              "        buttonEl.style.display =\n",
              "          google.colab.kernel.accessAllowed ? 'block' : 'none';\n",
              "\n",
              "        async function convertToInteractive(key) {\n",
              "          const element = document.querySelector('#df-aaaae116-b109-48ec-9d48-a11a9e4b43ef');\n",
              "          const dataTable =\n",
              "            await google.colab.kernel.invokeFunction('convertToInteractive',\n",
              "                                                     [key], {});\n",
              "          if (!dataTable) return;\n",
              "\n",
              "          const docLinkHtml = 'Like what you see? Visit the ' +\n",
              "            '<a target=\"_blank\" href=https://colab.research.google.com/notebooks/data_table.ipynb>data table notebook</a>'\n",
              "            + ' to learn more about interactive tables.';\n",
              "          element.innerHTML = '';\n",
              "          dataTable['output_type'] = 'display_data';\n",
              "          await google.colab.output.renderOutput(dataTable, element);\n",
              "          const docLink = document.createElement('div');\n",
              "          docLink.innerHTML = docLinkHtml;\n",
              "          element.appendChild(docLink);\n",
              "        }\n",
              "      </script>\n",
              "    </div>\n",
              "  </div>\n",
              "  "
            ],
            "text/plain": [
              "                                         Description  Sentiment  length  \\\n",
              "0                     What is momos without chutney?          1      30   \n",
              "1                                               good          0       4   \n",
              "2     pls stop do this and warning for this out let.          1      46   \n",
              "3  the delivery was delayed . the momos are not p...          1      92   \n",
              "4                                  Delivery was good          0      17   \n",
              "\n",
              "                                        Cleaned_Text  \n",
              "0                     [what, momo, without, chutney]  \n",
              "1                                             [good]  \n",
              "2                              [pl, stop, warn, let]  \n",
              "3  [deliveri, delay, momo, prepar, properli, enti...  \n",
              "4                                   [deliveri, good]  "
            ]
          },
          "execution_count": 26,
          "metadata": {},
          "output_type": "execute_result"
        }
      ],
      "source": [
        "from nltk.stem import PorterStemmer\n",
        "\n",
        "def stemming(phrase):\n",
        "    stemmer = PorterStemmer()\n",
        "    stem_output=[]\n",
        "    stemmed=[]\n",
        "    for review_text in tqdm(phrase):\n",
        "        stemmed = [stemmer.stem(word) for word in review_text]\n",
        "        stem_output.append(stemmed)\n",
        "    return stem_output\n",
        "\n",
        "df1 = df.reset_index(drop=True)\n",
        "df1['length'] = df['Description'].apply(len) # number of characters\n",
        "df1['length'].describe() # info()\n",
        "df1['Cleaned_Text'] = stemming(df['Cleaned_Text'])\n",
        "df1.head()"
      ]
    },
    {
      "cell_type": "markdown",
      "metadata": {
        "id": "WKjZmV7vcK0N"
      },
      "source": [
        "**Lemmatization:** Extracting root word by refering the dictionary of words."
      ]
    },
    {
      "cell_type": "code",
      "execution_count": 27,
      "metadata": {
        "colab": {
          "base_uri": "https://localhost:8080/",
          "height": 224
        },
        "id": "ywz220c2cHkg",
        "outputId": "fa535d86-f087-4572-c618-e4831375dcde"
      },
      "outputs": [
        {
          "name": "stderr",
          "output_type": "stream",
          "text": [
            "100%|██████████| 2312/2312 [00:02<00:00, 1061.79it/s]\n"
          ]
        },
        {
          "data": {
            "text/html": [
              "\n",
              "  <div id=\"df-a9301124-3c5e-4bb4-924a-fb7987226081\">\n",
              "    <div class=\"colab-df-container\">\n",
              "      <div>\n",
              "<style scoped>\n",
              "    .dataframe tbody tr th:only-of-type {\n",
              "        vertical-align: middle;\n",
              "    }\n",
              "\n",
              "    .dataframe tbody tr th {\n",
              "        vertical-align: top;\n",
              "    }\n",
              "\n",
              "    .dataframe thead th {\n",
              "        text-align: right;\n",
              "    }\n",
              "</style>\n",
              "<table border=\"1\" class=\"dataframe\">\n",
              "  <thead>\n",
              "    <tr style=\"text-align: right;\">\n",
              "      <th></th>\n",
              "      <th>Description</th>\n",
              "      <th>Sentiment</th>\n",
              "      <th>length</th>\n",
              "      <th>Cleaned_Text</th>\n",
              "    </tr>\n",
              "  </thead>\n",
              "  <tbody>\n",
              "    <tr>\n",
              "      <th>0</th>\n",
              "      <td>What is momos without chutney?</td>\n",
              "      <td>1</td>\n",
              "      <td>30</td>\n",
              "      <td>[What, momos, without, chutney]</td>\n",
              "    </tr>\n",
              "    <tr>\n",
              "      <th>1</th>\n",
              "      <td>good</td>\n",
              "      <td>0</td>\n",
              "      <td>4</td>\n",
              "      <td>[good]</td>\n",
              "    </tr>\n",
              "    <tr>\n",
              "      <th>2</th>\n",
              "      <td>pls stop do this and warning for this out let.</td>\n",
              "      <td>1</td>\n",
              "      <td>46</td>\n",
              "      <td>[pls, stop, warning, let]</td>\n",
              "    </tr>\n",
              "    <tr>\n",
              "      <th>3</th>\n",
              "      <td>the delivery was delayed . the momos are not p...</td>\n",
              "      <td>1</td>\n",
              "      <td>92</td>\n",
              "      <td>[delivery, delayed, momos, prepared, properly,...</td>\n",
              "    </tr>\n",
              "    <tr>\n",
              "      <th>4</th>\n",
              "      <td>Delivery was good</td>\n",
              "      <td>0</td>\n",
              "      <td>17</td>\n",
              "      <td>[Delivery, good]</td>\n",
              "    </tr>\n",
              "  </tbody>\n",
              "</table>\n",
              "</div>\n",
              "      <button class=\"colab-df-convert\" onclick=\"convertToInteractive('df-a9301124-3c5e-4bb4-924a-fb7987226081')\"\n",
              "              title=\"Convert this dataframe to an interactive table.\"\n",
              "              style=\"display:none;\">\n",
              "        \n",
              "  <svg xmlns=\"http://www.w3.org/2000/svg\" height=\"24px\"viewBox=\"0 0 24 24\"\n",
              "       width=\"24px\">\n",
              "    <path d=\"M0 0h24v24H0V0z\" fill=\"none\"/>\n",
              "    <path d=\"M18.56 5.44l.94 2.06.94-2.06 2.06-.94-2.06-.94-.94-2.06-.94 2.06-2.06.94zm-11 1L8.5 8.5l.94-2.06 2.06-.94-2.06-.94L8.5 2.5l-.94 2.06-2.06.94zm10 10l.94 2.06.94-2.06 2.06-.94-2.06-.94-.94-2.06-.94 2.06-2.06.94z\"/><path d=\"M17.41 7.96l-1.37-1.37c-.4-.4-.92-.59-1.43-.59-.52 0-1.04.2-1.43.59L10.3 9.45l-7.72 7.72c-.78.78-.78 2.05 0 2.83L4 21.41c.39.39.9.59 1.41.59.51 0 1.02-.2 1.41-.59l7.78-7.78 2.81-2.81c.8-.78.8-2.07 0-2.86zM5.41 20L4 18.59l7.72-7.72 1.47 1.35L5.41 20z\"/>\n",
              "  </svg>\n",
              "      </button>\n",
              "      \n",
              "  <style>\n",
              "    .colab-df-container {\n",
              "      display:flex;\n",
              "      flex-wrap:wrap;\n",
              "      gap: 12px;\n",
              "    }\n",
              "\n",
              "    .colab-df-convert {\n",
              "      background-color: #E8F0FE;\n",
              "      border: none;\n",
              "      border-radius: 50%;\n",
              "      cursor: pointer;\n",
              "      display: none;\n",
              "      fill: #1967D2;\n",
              "      height: 32px;\n",
              "      padding: 0 0 0 0;\n",
              "      width: 32px;\n",
              "    }\n",
              "\n",
              "    .colab-df-convert:hover {\n",
              "      background-color: #E2EBFA;\n",
              "      box-shadow: 0px 1px 2px rgba(60, 64, 67, 0.3), 0px 1px 3px 1px rgba(60, 64, 67, 0.15);\n",
              "      fill: #174EA6;\n",
              "    }\n",
              "\n",
              "    [theme=dark] .colab-df-convert {\n",
              "      background-color: #3B4455;\n",
              "      fill: #D2E3FC;\n",
              "    }\n",
              "\n",
              "    [theme=dark] .colab-df-convert:hover {\n",
              "      background-color: #434B5C;\n",
              "      box-shadow: 0px 1px 3px 1px rgba(0, 0, 0, 0.15);\n",
              "      filter: drop-shadow(0px 1px 2px rgba(0, 0, 0, 0.3));\n",
              "      fill: #FFFFFF;\n",
              "    }\n",
              "  </style>\n",
              "\n",
              "      <script>\n",
              "        const buttonEl =\n",
              "          document.querySelector('#df-a9301124-3c5e-4bb4-924a-fb7987226081 button.colab-df-convert');\n",
              "        buttonEl.style.display =\n",
              "          google.colab.kernel.accessAllowed ? 'block' : 'none';\n",
              "\n",
              "        async function convertToInteractive(key) {\n",
              "          const element = document.querySelector('#df-a9301124-3c5e-4bb4-924a-fb7987226081');\n",
              "          const dataTable =\n",
              "            await google.colab.kernel.invokeFunction('convertToInteractive',\n",
              "                                                     [key], {});\n",
              "          if (!dataTable) return;\n",
              "\n",
              "          const docLinkHtml = 'Like what you see? Visit the ' +\n",
              "            '<a target=\"_blank\" href=https://colab.research.google.com/notebooks/data_table.ipynb>data table notebook</a>'\n",
              "            + ' to learn more about interactive tables.';\n",
              "          element.innerHTML = '';\n",
              "          dataTable['output_type'] = 'display_data';\n",
              "          await google.colab.output.renderOutput(dataTable, element);\n",
              "          const docLink = document.createElement('div');\n",
              "          docLink.innerHTML = docLinkHtml;\n",
              "          element.appendChild(docLink);\n",
              "        }\n",
              "      </script>\n",
              "    </div>\n",
              "  </div>\n",
              "  "
            ],
            "text/plain": [
              "                                         Description  Sentiment  length  \\\n",
              "0                     What is momos without chutney?          1      30   \n",
              "1                                               good          0       4   \n",
              "2     pls stop do this and warning for this out let.          1      46   \n",
              "3  the delivery was delayed . the momos are not p...          1      92   \n",
              "4                                  Delivery was good          0      17   \n",
              "\n",
              "                                        Cleaned_Text  \n",
              "0                    [What, momos, without, chutney]  \n",
              "1                                             [good]  \n",
              "2                          [pls, stop, warning, let]  \n",
              "3  [delivery, delayed, momos, prepared, properly,...  \n",
              "4                                   [Delivery, good]  "
            ]
          },
          "execution_count": 27,
          "metadata": {},
          "output_type": "execute_result"
        }
      ],
      "source": [
        "def lemmatizing(phrase):\n",
        "    lemmatizer = WordNetLemmatizer()\n",
        "    lemmated_output=[]\n",
        "    lemmated=[]\n",
        "    for review_text in tqdm(phrase):\n",
        "        lemmated = [lemmatizer.lemmatize(word) for word in review_text]\n",
        "        lemmated_output.append(lemmated)\n",
        "    return lemmated_output\n",
        "\n",
        "df['Cleaned_Text'] = lemmatizing(df['Cleaned_Text'])\n",
        "df.head()"
      ]
    },
    {
      "cell_type": "code",
      "execution_count": 28,
      "metadata": {
        "colab": {
          "base_uri": "https://localhost:8080/",
          "height": 224
        },
        "id": "ijQkEc_TcSew",
        "outputId": "5d93d84e-bb18-40ea-bb7a-a2736e072c35"
      },
      "outputs": [
        {
          "name": "stderr",
          "output_type": "stream",
          "text": [
            "100%|██████████| 2312/2312 [00:00<00:00, 638311.67it/s]\n"
          ]
        },
        {
          "data": {
            "text/html": [
              "\n",
              "  <div id=\"df-cb51aa75-28cc-427c-b466-4e5e4528fbb4\">\n",
              "    <div class=\"colab-df-container\">\n",
              "      <div>\n",
              "<style scoped>\n",
              "    .dataframe tbody tr th:only-of-type {\n",
              "        vertical-align: middle;\n",
              "    }\n",
              "\n",
              "    .dataframe tbody tr th {\n",
              "        vertical-align: top;\n",
              "    }\n",
              "\n",
              "    .dataframe thead th {\n",
              "        text-align: right;\n",
              "    }\n",
              "</style>\n",
              "<table border=\"1\" class=\"dataframe\">\n",
              "  <thead>\n",
              "    <tr style=\"text-align: right;\">\n",
              "      <th></th>\n",
              "      <th>Description</th>\n",
              "      <th>Sentiment</th>\n",
              "      <th>length</th>\n",
              "      <th>Cleaned_Text</th>\n",
              "    </tr>\n",
              "  </thead>\n",
              "  <tbody>\n",
              "    <tr>\n",
              "      <th>0</th>\n",
              "      <td>What is momos without chutney?</td>\n",
              "      <td>1</td>\n",
              "      <td>30</td>\n",
              "      <td>What momos without chutney</td>\n",
              "    </tr>\n",
              "    <tr>\n",
              "      <th>1</th>\n",
              "      <td>good</td>\n",
              "      <td>0</td>\n",
              "      <td>4</td>\n",
              "      <td>good</td>\n",
              "    </tr>\n",
              "    <tr>\n",
              "      <th>2</th>\n",
              "      <td>pls stop do this and warning for this out let.</td>\n",
              "      <td>1</td>\n",
              "      <td>46</td>\n",
              "      <td>pls stop warning let</td>\n",
              "    </tr>\n",
              "    <tr>\n",
              "      <th>3</th>\n",
              "      <td>the delivery was delayed . the momos are not p...</td>\n",
              "      <td>1</td>\n",
              "      <td>92</td>\n",
              "      <td>delivery delayed momos prepared properly entir...</td>\n",
              "    </tr>\n",
              "    <tr>\n",
              "      <th>4</th>\n",
              "      <td>Delivery was good</td>\n",
              "      <td>0</td>\n",
              "      <td>17</td>\n",
              "      <td>Delivery good</td>\n",
              "    </tr>\n",
              "  </tbody>\n",
              "</table>\n",
              "</div>\n",
              "      <button class=\"colab-df-convert\" onclick=\"convertToInteractive('df-cb51aa75-28cc-427c-b466-4e5e4528fbb4')\"\n",
              "              title=\"Convert this dataframe to an interactive table.\"\n",
              "              style=\"display:none;\">\n",
              "        \n",
              "  <svg xmlns=\"http://www.w3.org/2000/svg\" height=\"24px\"viewBox=\"0 0 24 24\"\n",
              "       width=\"24px\">\n",
              "    <path d=\"M0 0h24v24H0V0z\" fill=\"none\"/>\n",
              "    <path d=\"M18.56 5.44l.94 2.06.94-2.06 2.06-.94-2.06-.94-.94-2.06-.94 2.06-2.06.94zm-11 1L8.5 8.5l.94-2.06 2.06-.94-2.06-.94L8.5 2.5l-.94 2.06-2.06.94zm10 10l.94 2.06.94-2.06 2.06-.94-2.06-.94-.94-2.06-.94 2.06-2.06.94z\"/><path d=\"M17.41 7.96l-1.37-1.37c-.4-.4-.92-.59-1.43-.59-.52 0-1.04.2-1.43.59L10.3 9.45l-7.72 7.72c-.78.78-.78 2.05 0 2.83L4 21.41c.39.39.9.59 1.41.59.51 0 1.02-.2 1.41-.59l7.78-7.78 2.81-2.81c.8-.78.8-2.07 0-2.86zM5.41 20L4 18.59l7.72-7.72 1.47 1.35L5.41 20z\"/>\n",
              "  </svg>\n",
              "      </button>\n",
              "      \n",
              "  <style>\n",
              "    .colab-df-container {\n",
              "      display:flex;\n",
              "      flex-wrap:wrap;\n",
              "      gap: 12px;\n",
              "    }\n",
              "\n",
              "    .colab-df-convert {\n",
              "      background-color: #E8F0FE;\n",
              "      border: none;\n",
              "      border-radius: 50%;\n",
              "      cursor: pointer;\n",
              "      display: none;\n",
              "      fill: #1967D2;\n",
              "      height: 32px;\n",
              "      padding: 0 0 0 0;\n",
              "      width: 32px;\n",
              "    }\n",
              "\n",
              "    .colab-df-convert:hover {\n",
              "      background-color: #E2EBFA;\n",
              "      box-shadow: 0px 1px 2px rgba(60, 64, 67, 0.3), 0px 1px 3px 1px rgba(60, 64, 67, 0.15);\n",
              "      fill: #174EA6;\n",
              "    }\n",
              "\n",
              "    [theme=dark] .colab-df-convert {\n",
              "      background-color: #3B4455;\n",
              "      fill: #D2E3FC;\n",
              "    }\n",
              "\n",
              "    [theme=dark] .colab-df-convert:hover {\n",
              "      background-color: #434B5C;\n",
              "      box-shadow: 0px 1px 3px 1px rgba(0, 0, 0, 0.15);\n",
              "      filter: drop-shadow(0px 1px 2px rgba(0, 0, 0, 0.3));\n",
              "      fill: #FFFFFF;\n",
              "    }\n",
              "  </style>\n",
              "\n",
              "      <script>\n",
              "        const buttonEl =\n",
              "          document.querySelector('#df-cb51aa75-28cc-427c-b466-4e5e4528fbb4 button.colab-df-convert');\n",
              "        buttonEl.style.display =\n",
              "          google.colab.kernel.accessAllowed ? 'block' : 'none';\n",
              "\n",
              "        async function convertToInteractive(key) {\n",
              "          const element = document.querySelector('#df-cb51aa75-28cc-427c-b466-4e5e4528fbb4');\n",
              "          const dataTable =\n",
              "            await google.colab.kernel.invokeFunction('convertToInteractive',\n",
              "                                                     [key], {});\n",
              "          if (!dataTable) return;\n",
              "\n",
              "          const docLinkHtml = 'Like what you see? Visit the ' +\n",
              "            '<a target=\"_blank\" href=https://colab.research.google.com/notebooks/data_table.ipynb>data table notebook</a>'\n",
              "            + ' to learn more about interactive tables.';\n",
              "          element.innerHTML = '';\n",
              "          dataTable['output_type'] = 'display_data';\n",
              "          await google.colab.output.renderOutput(dataTable, element);\n",
              "          const docLink = document.createElement('div');\n",
              "          docLink.innerHTML = docLinkHtml;\n",
              "          element.appendChild(docLink);\n",
              "        }\n",
              "      </script>\n",
              "    </div>\n",
              "  </div>\n",
              "  "
            ],
            "text/plain": [
              "                                         Description  Sentiment  length  \\\n",
              "0                     What is momos without chutney?          1      30   \n",
              "1                                               good          0       4   \n",
              "2     pls stop do this and warning for this out let.          1      46   \n",
              "3  the delivery was delayed . the momos are not p...          1      92   \n",
              "4                                  Delivery was good          0      17   \n",
              "\n",
              "                                        Cleaned_Text  \n",
              "0                         What momos without chutney  \n",
              "1                                               good  \n",
              "2                               pls stop warning let  \n",
              "3  delivery delayed momos prepared properly entir...  \n",
              "4                                      Delivery good  "
            ]
          },
          "execution_count": 28,
          "metadata": {},
          "output_type": "execute_result"
        }
      ],
      "source": [
        "def to_sentence(phrase):\n",
        "    sentence=[]\n",
        "    for words in tqdm(phrase):\n",
        "        sentence.append((\" \").join(words))\n",
        "    return sentence\n",
        "df['Cleaned_Text']=to_sentence(df['Cleaned_Text'])\n",
        "df.head()"
      ]
    },
    {
      "cell_type": "code",
      "execution_count": 29,
      "metadata": {
        "colab": {
          "base_uri": "https://localhost:8080/",
          "height": 423
        },
        "id": "X6tDgKfocYKd",
        "outputId": "447545cc-82d1-4858-81d9-df1070bb78d9"
      },
      "outputs": [
        {
          "data": {
            "text/html": [
              "\n",
              "  <div id=\"df-8963d316-fd3a-4300-98fb-1eec1d877122\">\n",
              "    <div class=\"colab-df-container\">\n",
              "      <div>\n",
              "<style scoped>\n",
              "    .dataframe tbody tr th:only-of-type {\n",
              "        vertical-align: middle;\n",
              "    }\n",
              "\n",
              "    .dataframe tbody tr th {\n",
              "        vertical-align: top;\n",
              "    }\n",
              "\n",
              "    .dataframe thead th {\n",
              "        text-align: right;\n",
              "    }\n",
              "</style>\n",
              "<table border=\"1\" class=\"dataframe\">\n",
              "  <thead>\n",
              "    <tr style=\"text-align: right;\">\n",
              "      <th></th>\n",
              "      <th>Description</th>\n",
              "      <th>Sentiment</th>\n",
              "      <th>length</th>\n",
              "      <th>Cleaned_Text</th>\n",
              "    </tr>\n",
              "  </thead>\n",
              "  <tbody>\n",
              "    <tr>\n",
              "      <th>0</th>\n",
              "      <td>What is momos without chutney?</td>\n",
              "      <td>1</td>\n",
              "      <td>30</td>\n",
              "      <td>What momos without chutney</td>\n",
              "    </tr>\n",
              "    <tr>\n",
              "      <th>1</th>\n",
              "      <td>good</td>\n",
              "      <td>0</td>\n",
              "      <td>4</td>\n",
              "      <td>good</td>\n",
              "    </tr>\n",
              "    <tr>\n",
              "      <th>2</th>\n",
              "      <td>pls stop do this and warning for this out let.</td>\n",
              "      <td>1</td>\n",
              "      <td>46</td>\n",
              "      <td>pls stop warning let</td>\n",
              "    </tr>\n",
              "    <tr>\n",
              "      <th>3</th>\n",
              "      <td>the delivery was delayed . the momos are not p...</td>\n",
              "      <td>1</td>\n",
              "      <td>92</td>\n",
              "      <td>delivery delayed momos prepared properly entir...</td>\n",
              "    </tr>\n",
              "    <tr>\n",
              "      <th>4</th>\n",
              "      <td>Delivery was good</td>\n",
              "      <td>0</td>\n",
              "      <td>17</td>\n",
              "      <td>Delivery good</td>\n",
              "    </tr>\n",
              "    <tr>\n",
              "      <th>...</th>\n",
              "      <td>...</td>\n",
              "      <td>...</td>\n",
              "      <td>...</td>\n",
              "      <td>...</td>\n",
              "    </tr>\n",
              "    <tr>\n",
              "      <th>2307</th>\n",
              "      <td>restaurants no.is invalid</td>\n",
              "      <td>1</td>\n",
              "      <td>25</td>\n",
              "      <td>restaurant invalid</td>\n",
              "    </tr>\n",
              "    <tr>\n",
              "      <th>2308</th>\n",
              "      <td>chicken was not fresh</td>\n",
              "      <td>1</td>\n",
              "      <td>21</td>\n",
              "      <td>chicken fresh</td>\n",
              "    </tr>\n",
              "    <tr>\n",
              "      <th>2309</th>\n",
              "      <td>restaurants no.is invalid</td>\n",
              "      <td>1</td>\n",
              "      <td>25</td>\n",
              "      <td>restaurant invalid</td>\n",
              "    </tr>\n",
              "    <tr>\n",
              "      <th>2310</th>\n",
              "      <td>good</td>\n",
              "      <td>0</td>\n",
              "      <td>4</td>\n",
              "      <td>good</td>\n",
              "    </tr>\n",
              "    <tr>\n",
              "      <th>2311</th>\n",
              "      <td>????</td>\n",
              "      <td>0</td>\n",
              "      <td>4</td>\n",
              "      <td></td>\n",
              "    </tr>\n",
              "  </tbody>\n",
              "</table>\n",
              "<p>2312 rows × 4 columns</p>\n",
              "</div>\n",
              "      <button class=\"colab-df-convert\" onclick=\"convertToInteractive('df-8963d316-fd3a-4300-98fb-1eec1d877122')\"\n",
              "              title=\"Convert this dataframe to an interactive table.\"\n",
              "              style=\"display:none;\">\n",
              "        \n",
              "  <svg xmlns=\"http://www.w3.org/2000/svg\" height=\"24px\"viewBox=\"0 0 24 24\"\n",
              "       width=\"24px\">\n",
              "    <path d=\"M0 0h24v24H0V0z\" fill=\"none\"/>\n",
              "    <path d=\"M18.56 5.44l.94 2.06.94-2.06 2.06-.94-2.06-.94-.94-2.06-.94 2.06-2.06.94zm-11 1L8.5 8.5l.94-2.06 2.06-.94-2.06-.94L8.5 2.5l-.94 2.06-2.06.94zm10 10l.94 2.06.94-2.06 2.06-.94-2.06-.94-.94-2.06-.94 2.06-2.06.94z\"/><path d=\"M17.41 7.96l-1.37-1.37c-.4-.4-.92-.59-1.43-.59-.52 0-1.04.2-1.43.59L10.3 9.45l-7.72 7.72c-.78.78-.78 2.05 0 2.83L4 21.41c.39.39.9.59 1.41.59.51 0 1.02-.2 1.41-.59l7.78-7.78 2.81-2.81c.8-.78.8-2.07 0-2.86zM5.41 20L4 18.59l7.72-7.72 1.47 1.35L5.41 20z\"/>\n",
              "  </svg>\n",
              "      </button>\n",
              "      \n",
              "  <style>\n",
              "    .colab-df-container {\n",
              "      display:flex;\n",
              "      flex-wrap:wrap;\n",
              "      gap: 12px;\n",
              "    }\n",
              "\n",
              "    .colab-df-convert {\n",
              "      background-color: #E8F0FE;\n",
              "      border: none;\n",
              "      border-radius: 50%;\n",
              "      cursor: pointer;\n",
              "      display: none;\n",
              "      fill: #1967D2;\n",
              "      height: 32px;\n",
              "      padding: 0 0 0 0;\n",
              "      width: 32px;\n",
              "    }\n",
              "\n",
              "    .colab-df-convert:hover {\n",
              "      background-color: #E2EBFA;\n",
              "      box-shadow: 0px 1px 2px rgba(60, 64, 67, 0.3), 0px 1px 3px 1px rgba(60, 64, 67, 0.15);\n",
              "      fill: #174EA6;\n",
              "    }\n",
              "\n",
              "    [theme=dark] .colab-df-convert {\n",
              "      background-color: #3B4455;\n",
              "      fill: #D2E3FC;\n",
              "    }\n",
              "\n",
              "    [theme=dark] .colab-df-convert:hover {\n",
              "      background-color: #434B5C;\n",
              "      box-shadow: 0px 1px 3px 1px rgba(0, 0, 0, 0.15);\n",
              "      filter: drop-shadow(0px 1px 2px rgba(0, 0, 0, 0.3));\n",
              "      fill: #FFFFFF;\n",
              "    }\n",
              "  </style>\n",
              "\n",
              "      <script>\n",
              "        const buttonEl =\n",
              "          document.querySelector('#df-8963d316-fd3a-4300-98fb-1eec1d877122 button.colab-df-convert');\n",
              "        buttonEl.style.display =\n",
              "          google.colab.kernel.accessAllowed ? 'block' : 'none';\n",
              "\n",
              "        async function convertToInteractive(key) {\n",
              "          const element = document.querySelector('#df-8963d316-fd3a-4300-98fb-1eec1d877122');\n",
              "          const dataTable =\n",
              "            await google.colab.kernel.invokeFunction('convertToInteractive',\n",
              "                                                     [key], {});\n",
              "          if (!dataTable) return;\n",
              "\n",
              "          const docLinkHtml = 'Like what you see? Visit the ' +\n",
              "            '<a target=\"_blank\" href=https://colab.research.google.com/notebooks/data_table.ipynb>data table notebook</a>'\n",
              "            + ' to learn more about interactive tables.';\n",
              "          element.innerHTML = '';\n",
              "          dataTable['output_type'] = 'display_data';\n",
              "          await google.colab.output.renderOutput(dataTable, element);\n",
              "          const docLink = document.createElement('div');\n",
              "          docLink.innerHTML = docLinkHtml;\n",
              "          element.appendChild(docLink);\n",
              "        }\n",
              "      </script>\n",
              "    </div>\n",
              "  </div>\n",
              "  "
            ],
            "text/plain": [
              "                                            Description  Sentiment  length  \\\n",
              "0                        What is momos without chutney?          1      30   \n",
              "1                                                  good          0       4   \n",
              "2        pls stop do this and warning for this out let.          1      46   \n",
              "3     the delivery was delayed . the momos are not p...          1      92   \n",
              "4                                     Delivery was good          0      17   \n",
              "...                                                 ...        ...     ...   \n",
              "2307                          restaurants no.is invalid          1      25   \n",
              "2308                              chicken was not fresh          1      21   \n",
              "2309                          restaurants no.is invalid          1      25   \n",
              "2310                                               good          0       4   \n",
              "2311                                               ????          0       4   \n",
              "\n",
              "                                           Cleaned_Text  \n",
              "0                            What momos without chutney  \n",
              "1                                                  good  \n",
              "2                                  pls stop warning let  \n",
              "3     delivery delayed momos prepared properly entir...  \n",
              "4                                         Delivery good  \n",
              "...                                                 ...  \n",
              "2307                                 restaurant invalid  \n",
              "2308                                      chicken fresh  \n",
              "2309                                 restaurant invalid  \n",
              "2310                                               good  \n",
              "2311                                                     \n",
              "\n",
              "[2312 rows x 4 columns]"
            ]
          },
          "execution_count": 29,
          "metadata": {},
          "output_type": "execute_result"
        }
      ],
      "source": [
        "df"
      ]
    },
    {
      "cell_type": "markdown",
      "metadata": {
        "id": "hqGQTBRWcfPr"
      },
      "source": [
        "**Vector Generation**"
      ]
    },
    {
      "cell_type": "code",
      "execution_count": 30,
      "metadata": {
        "colab": {
          "base_uri": "https://localhost:8080/"
        },
        "id": "SopLwTxAcexK",
        "outputId": "46712c19-0808-4bc5-af43-4c451410bf55"
      },
      "outputs": [
        {
          "name": "stdout",
          "output_type": "stream",
          "text": [
            "X.shape :  (2312, 578)\n",
            "y.shape :  (2312,)\n",
            "Number of training examples:1618\n",
            "Number of testing examples:694\n",
            "\n",
            "Training data: X_train : (1618, 578), y_train : (1618,)\n",
            "Testing data: X_test : (694, 578), y_test : (694,)\n"
          ]
        }
      ],
      "source": [
        "from sklearn.feature_extraction.text import CountVectorizer\n",
        "token = RegexpTokenizer(r'[a-zA-Z0-9]+')\n",
        "\n",
        "vectorizer = CountVectorizer(stop_words='english', max_df=0.5, min_df=3, ngram_range=(1,1),tokenizer = token.tokenize)\n",
        "x = vectorizer.fit_transform(df.Cleaned_Text)\n",
        "y = df.Sentiment.values\n",
        "\n",
        "print(\"X.shape : \",x.shape)\n",
        "print(\"y.shape : \",y.shape)\n",
        "\n",
        "train_idx, test_idx = train_test_split(np.arange(df.shape[0]), test_size=0.3,shuffle=True, random_state=42)\n",
        "\n",
        "x_train = x[train_idx]\n",
        "y_train = y[train_idx]\n",
        "\n",
        "x_test = x[test_idx]\n",
        "y_test = y[test_idx]\n",
        "print(\"Number of training examples:{}\".format(len(train_idx)))\n",
        "print(\"Number of testing examples:{}\\n\".format(len(test_idx)))\n",
        "print(\"Training data: X_train : {}, y_train : {}\".format(x_train.shape, y_train.shape))\n",
        "print(\"Testing data: X_test : {}, y_test : {}\".format(x_test.shape, y_test.shape))"
      ]
    },
    {
      "cell_type": "markdown",
      "metadata": {
        "id": "ZhxXNXNoc5CC"
      },
      "source": [
        "**Logistic Regression:** Logistic regression is a process of modeling the probability of a discrete outcome given an input variable."
      ]
    },
    {
      "cell_type": "code",
      "execution_count": 31,
      "metadata": {
        "colab": {
          "base_uri": "https://localhost:8080/",
          "height": 520
        },
        "id": "imwHStRacydz",
        "outputId": "8a79ae76-032b-4d3d-9795-357b95f87a6d"
      },
      "outputs": [
        {
          "name": "stdout",
          "output_type": "stream",
          "text": [
            "              precision    recall  f1-score   support\n",
            "\n",
            "           0       0.89      0.75      0.82       153\n",
            "           1       0.93      0.97      0.95       541\n",
            "\n",
            "    accuracy                           0.93       694\n",
            "   macro avg       0.91      0.86      0.88       694\n",
            "weighted avg       0.92      0.93      0.92       694\n",
            "\n",
            "\n",
            "Accuracy for Logistic Regression Model is: 0.9250720461095101\n",
            "\n",
            "\n"
          ]
        },
        {
          "data": {
            "image/png": "[encoded data removed]",
            "text/plain": [
              "<Figure size 432x288 with 2 Axes>"
            ]
          },
          "metadata": {},
          "output_type": "display_data"
        }
      ],
      "source": [
        "from sklearn import linear_model\n",
        "lr_clf =  linear_model.LogisticRegression(multi_class='ovr', solver='liblinear')#LogisticRegression()\n",
        "\n",
        "lr_clf.fit(x_train, y_train)\n",
        "\n",
        "y_pred_test_lr = lr_clf.predict(x_test)\n",
        "y_predprob_lr = lr_clf.predict_proba(x_test)\n",
        "matrix_lr = confusion_matrix(y_test,y_pred_test_lr, )\n",
        "print(classification_report(y_test, y_pred_test_lr))\n",
        "print(\"\\nAccuracy for Logistic Regression Model is:\",metrics.accuracy_score(y_test, y_pred_test_lr))\n",
        "print(\"\\n\")\n",
        "\n",
        "y_predict = lr_clf.predict(x_test)\n",
        "acc_lr = metrics.accuracy_score(y_test, y_pred_test_lr)\n",
        "matrix_display = ConfusionMatrixDisplay(matrix_lr).plot()"
      ]
    },
    {
      "cell_type": "code",
      "execution_count": 32,
      "metadata": {
        "id": "ZMXyTbvEc9XR"
      },
      "outputs": [],
      "source": [
        "def print_score(clf, X_train, y_train, X_test, y_test, train=True):\n",
        "    if train:\n",
        "        pred = clf.predict(X_train)\n",
        "        clf_report = pd.DataFrame(classification_report(y_train, pred, output_dict=True))\n",
        "        print(\"Train Result:\\n================================================\")\n",
        "        print(f\"Accuracy Score: {accuracy_score(y_train, pred) * 100:.2f}%\")\n",
        "        print(\"_______________________________________________\")\n",
        "        print(f\"CLASSIFICATION REPORT:\\n{clf_report}\")\n",
        "        print(\"_______________________________________________\")\n",
        "        print(f\"Confusion Matrix: \\n {confusion_matrix(y_train, pred)}\\n\")\n",
        "    \n",
        "    elif train==False:\n",
        "        pred = clf.predict(X_test)\n",
        "        clf_report = pd.DataFrame(classification_report(y_test, pred, output_dict=True))\n",
        "        print(\"Test Result:\\n================================================\")        \n",
        "        print(f\"Accuracy Score: {accuracy_score(y_test, pred) * 100:.2f}%\")\n",
        "        print(\"_______________________________________________\")\n",
        "        print(f\"CLASSIFICATION REPORT:\\n{clf_report}\")\n",
        "        print(\"_______________________________________________\")\n",
        "        print(f\"Confusion Matrix: \\n {confusion_matrix(y_test, pred)}\\n\")"
      ]
    },
    {
      "cell_type": "code",
      "execution_count": 33,
      "metadata": {
        "colab": {
          "base_uri": "https://localhost:8080/"
        },
        "id": "N7jSmw0GdC0H",
        "outputId": "0dc79f55-e6a4-40ba-bf3a-9d1827ad39a9"
      },
      "outputs": [
        {
          "name": "stdout",
          "output_type": "stream",
          "text": [
            "Train Result:\n",
            "================================================\n",
            "Accuracy Score: 95.67%\n",
            "_______________________________________________\n",
            "CLASSIFICATION REPORT:\n",
            "                    0            1  accuracy    macro avg  weighted avg\n",
            "precision    0.952206     0.957652  0.956737     0.954929      0.956589\n",
            "recall       0.819620     0.990015  0.956737     0.904818      0.956737\n",
            "f1-score     0.880952     0.973565  0.956737     0.927259      0.955477\n",
            "support    316.000000  1302.000000  0.956737  1618.000000   1618.000000\n",
            "_______________________________________________\n",
            "Confusion Matrix: \n",
            " [[ 259   57]\n",
            " [  13 1289]]\n",
            "\n",
            "Test Result:\n",
            "================================================\n",
            "Accuracy Score: 92.51%\n",
            "_______________________________________________\n",
            "CLASSIFICATION REPORT:\n",
            "                    0           1  accuracy   macro avg  weighted avg\n",
            "precision    0.891473    0.932743  0.925072    0.912108      0.923645\n",
            "recall       0.751634    0.974122  0.925072    0.862878      0.925072\n",
            "f1-score     0.815603    0.952984  0.925072    0.884293      0.922697\n",
            "support    153.000000  541.000000  0.925072  694.000000    694.000000\n",
            "_______________________________________________\n",
            "Confusion Matrix: \n",
            " [[115  38]\n",
            " [ 14 527]]\n",
            "\n"
          ]
        }
      ],
      "source": [
        "print_score(lr_clf, x_train, y_train, x_test, y_test, train=True)\n",
        "print_score(lr_clf, x_train, y_train, x_test, y_test, train=False)"
      ]
    },
    {
      "cell_type": "code",
      "execution_count": 34,
      "metadata": {
        "colab": {
          "base_uri": "https://localhost:8080/",
          "height": 520
        },
        "id": "L_nG5gR8eN8_",
        "outputId": "a2b9deb0-b5ee-4b9d-b0a7-197831191afb"
      },
      "outputs": [
        {
          "name": "stdout",
          "output_type": "stream",
          "text": [
            "              precision    recall  f1-score   support\n",
            "\n",
            "           0       0.69      0.88      0.77       153\n",
            "           1       0.96      0.89      0.92       541\n",
            "\n",
            "    accuracy                           0.88       694\n",
            "   macro avg       0.82      0.88      0.85       694\n",
            "weighted avg       0.90      0.88      0.89       694\n",
            "\n",
            "\n",
            "Accuracy for Decision Tree Model is: 0.8847262247838616\n",
            "\n",
            "\n"
          ]
        },
        {
          "data": {
            "image/png": "[encoded data removed]",
            "text/plain": [
              "<Figure size 432x288 with 2 Axes>"
            ]
          },
          "metadata": {},
          "output_type": "display_data"
        }
      ],
      "source": [
        "from sklearn.tree import DecisionTreeClassifier\n",
        "\n",
        "clf_DT = DecisionTreeClassifier()\n",
        "clf_DT.fit(x_train, y_train)\n",
        "\n",
        "y_pred_test_dt = clf_DT.predict(x_test)\n",
        "matrix_dt = confusion_matrix(y_test,y_pred_test_dt)\n",
        "print(classification_report(y_test, y_pred_test_dt))\n",
        "print(\"\\nAccuracy for Decision Tree Model is:\",metrics.accuracy_score(y_test, y_pred_test_dt))\n",
        "print(\"\\n\")\n",
        "acc_dt = metrics.accuracy_score(y_test, y_pred_test_dt)\n",
        "matrix_display = ConfusionMatrixDisplay(matrix_dt).plot()"
      ]
    },
    {
      "cell_type": "code",
      "execution_count": 35,
      "metadata": {
        "colab": {
          "base_uri": "https://localhost:8080/"
        },
        "id": "c9_z-KFVeYTg",
        "outputId": "33cceba4-1135-45f0-a508-ebbbb4f4fdd9"
      },
      "outputs": [
        {
          "name": "stdout",
          "output_type": "stream",
          "text": [
            "Train Result:\n",
            "================================================\n",
            "Accuracy Score: 98.33%\n",
            "_______________________________________________\n",
            "CLASSIFICATION REPORT:\n",
            "                    0            1  accuracy    macro avg  weighted avg\n",
            "precision    0.926254     0.998436  0.983313     0.962345      0.984339\n",
            "recall       0.993671     0.980799  0.983313     0.987235      0.983313\n",
            "f1-score     0.958779     0.989539  0.983313     0.974159      0.983531\n",
            "support    316.000000  1302.000000  0.983313  1618.000000   1618.000000\n",
            "_______________________________________________\n",
            "Confusion Matrix: \n",
            " [[ 314    2]\n",
            " [  25 1277]]\n",
            "\n",
            "Test Result:\n",
            "================================================\n",
            "Accuracy Score: 88.47%\n",
            "_______________________________________________\n",
            "CLASSIFICATION REPORT:\n",
            "                    0           1  accuracy   macro avg  weighted avg\n",
            "precision    0.685279    0.963783  0.884726    0.824531      0.902384\n",
            "recall       0.882353    0.885397  0.884726    0.883875      0.884726\n",
            "f1-score     0.771429    0.922929  0.884726    0.847179      0.889529\n",
            "support    153.000000  541.000000  0.884726  694.000000    694.000000\n",
            "_______________________________________________\n",
            "Confusion Matrix: \n",
            " [[135  18]\n",
            " [ 62 479]]\n",
            "\n"
          ]
        }
      ],
      "source": [
        "print_score(clf_DT, x_train, y_train, x_test, y_test, train=True)\n",
        "print_score(clf_DT, x_train, y_train, x_test, y_test, train=False)"
      ]
    },
    {
      "cell_type": "markdown",
      "metadata": {
        "id": "xO3zvszPha-R"
      },
      "source": [
        "**Randon Forest:** Random forest is a Supervised Machine Learning Algorithm that is used widely in Classification and Regression problems. It builds decision trees on different samples and takes their majority vote for classification and average in case of regression."
      ]
    },
    {
      "cell_type": "code",
      "execution_count": 36,
      "metadata": {
        "colab": {
          "base_uri": "https://localhost:8080/",
          "height": 522
        },
        "id": "sL-Z9tMIeb1H",
        "outputId": "d66d7771-b00d-41b7-8101-0be868042006"
      },
      "outputs": [
        {
          "name": "stdout",
          "output_type": "stream",
          "text": [
            "              precision    recall  f1-score   support\n",
            "\n",
            "           0       0.79      0.90      0.84       153\n",
            "           1       0.97      0.93      0.95       541\n",
            "\n",
            "    accuracy                           0.93       694\n",
            "   macro avg       0.88      0.92      0.90       694\n",
            "weighted avg       0.93      0.93      0.93       694\n",
            "\n",
            "\n",
            "Accuracy for Random Forest Model is: 0.8847262247838616\n",
            "\n",
            "\n"
          ]
        },
        {
          "data": {
            "image/png": "[encoded data removed]",
            "text/plain": [
              "<Figure size 432x288 with 2 Axes>"
            ]
          },
          "metadata": {},
          "output_type": "display_data"
        }
      ],
      "source": [
        "from sklearn.ensemble import RandomForestClassifier\n",
        "\n",
        "clf_RF = RandomForestClassifier(n_estimators=200)\n",
        "clf_RF.fit(x_train, y_train)\n",
        "\n",
        "y_pred_test_re = clf_RF.predict(x_test)\n",
        "matrix_re = confusion_matrix(y_test,y_pred_test_re)\n",
        "print(classification_report(y_test, y_pred_test_re))\n",
        "print(\"\\nAccuracy for Random Forest Model is:\",metrics.accuracy_score(y_test, y_pred_test_dt))\n",
        "print(\"\\n\")\n",
        "acc_rf = metrics.accuracy_score(y_test, y_pred_test_re)\n",
        "matrix_display = ConfusionMatrixDisplay(matrix_re).plot()"
      ]
    },
    {
      "cell_type": "code",
      "execution_count": 37,
      "metadata": {
        "colab": {
          "base_uri": "https://localhost:8080/"
        },
        "id": "Bh8Yt8HzhWTE",
        "outputId": "ed1670de-bc3d-47d3-9aad-47f854d3ccbd"
      },
      "outputs": [
        {
          "name": "stdout",
          "output_type": "stream",
          "text": [
            "Train Result:\n",
            "================================================\n",
            "Accuracy Score: 98.33%\n",
            "_______________________________________________\n",
            "CLASSIFICATION REPORT:\n",
            "                    0            1  accuracy    macro avg  weighted avg\n",
            "precision    0.931343     0.996882  0.983313     0.964113      0.984082\n",
            "recall       0.987342     0.982335  0.983313     0.984838      0.983313\n",
            "f1-score     0.958525     0.989555  0.983313     0.974040      0.983495\n",
            "support    316.000000  1302.000000  0.983313  1618.000000   1618.000000\n",
            "_______________________________________________\n",
            "Confusion Matrix: \n",
            " [[ 312    4]\n",
            " [  23 1279]]\n",
            "\n",
            "Test Result:\n",
            "================================================\n",
            "Accuracy Score: 92.51%\n",
            "_______________________________________________\n",
            "CLASSIFICATION REPORT:\n",
            "                    0           1  accuracy   macro avg  weighted avg\n",
            "precision    0.788571    0.971098  0.925072    0.879835      0.930858\n",
            "recall       0.901961    0.931608  0.925072    0.916784      0.925072\n",
            "f1-score     0.841463    0.950943  0.925072    0.896203      0.926807\n",
            "support    153.000000  541.000000  0.925072  694.000000    694.000000\n",
            "_______________________________________________\n",
            "Confusion Matrix: \n",
            " [[138  15]\n",
            " [ 37 504]]\n",
            "\n"
          ]
        }
      ],
      "source": [
        "print_score(clf_RF, x_train, y_train, x_test, y_test, train=True)\n",
        "print_score(clf_RF, x_train, y_train, x_test, y_test, train=False)"
      ]
    },
    {
      "cell_type": "markdown",
      "metadata": {
        "id": "OHTefWdbThuZ"
      },
      "source": [
        "**Support Vector Machine:** Support Vector Machine or SVM is one of the most popular Supervised Learning algorithms, which is used for Classification as well as Regression problems. However, primarily, it is used for Classification problems in Machine Learning.\n",
        "\n",
        "The goal of the SVM algorithm is to create the best line or decision boundary that can segregate n-dimensional space into classes so that we can easily put the new data point in the correct category in the future. This best decision boundary is called a hyperplane."
      ]
    },
    {
      "cell_type": "code",
      "execution_count": 38,
      "metadata": {
        "colab": {
          "base_uri": "https://localhost:8080/",
          "height": 520
        },
        "id": "wrHAzNLMThFc",
        "outputId": "a9dc5518-c616-45f9-f57b-e0bc3e95113c"
      },
      "outputs": [
        {
          "name": "stdout",
          "output_type": "stream",
          "text": [
            "              precision    recall  f1-score   support\n",
            "\n",
            "           0       0.86      0.82      0.84       153\n",
            "           1       0.95      0.96      0.96       541\n",
            "\n",
            "    accuracy                           0.93       694\n",
            "   macro avg       0.90      0.89      0.90       694\n",
            "weighted avg       0.93      0.93      0.93       694\n",
            "\n",
            "\n",
            "Accuracy for Support Vector Machine Model is: 0.9293948126801153\n",
            "\n",
            "\n"
          ]
        },
        {
          "data": {
            "image/png": "[encoded data removed]",
            "text/plain": [
              "<Figure size 432x288 with 2 Axes>"
            ]
          },
          "metadata": {},
          "output_type": "display_data"
        }
      ],
      "source": [
        "from sklearn.svm import LinearSVC\n",
        "model_svc = LinearSVC(loss='hinge', dual=True)\n",
        "\n",
        "model_svc.fit(x_train, y_train)\n",
        "y_pred_test_sv = model_svc.predict(x_test)\n",
        "matrix_sv = confusion_matrix(y_test,y_pred_test_sv)\n",
        "print(classification_report(y_test, y_pred_test_sv))\n",
        "print(\"\\nAccuracy for Support Vector Machine Model is:\",metrics.accuracy_score(y_test, y_pred_test_sv))\n",
        "print(\"\\n\")\n",
        "acc_svm = metrics.accuracy_score(y_test, y_pred_test_sv)\n",
        "matrix_display = ConfusionMatrixDisplay(matrix_sv).plot()"
      ]
    },
    {
      "cell_type": "code",
      "execution_count": 39,
      "metadata": {
        "colab": {
          "base_uri": "https://localhost:8080/"
        },
        "id": "v34h_r1ETl4d",
        "outputId": "f2db153b-b79c-4fe5-8af8-4b2e5e8c3005"
      },
      "outputs": [
        {
          "name": "stdout",
          "output_type": "stream",
          "text": [
            "Train Result:\n",
            "================================================\n",
            "Accuracy Score: 96.54%\n",
            "_______________________________________________\n",
            "CLASSIFICATION REPORT:\n",
            "                    0            1  accuracy    macro avg  weighted avg\n",
            "precision    0.948276     0.969127  0.965389     0.958701      0.965054\n",
            "recall       0.870253     0.988479  0.965389     0.929366      0.965389\n",
            "f1-score     0.907591     0.978707  0.965389     0.943149      0.964818\n",
            "support    316.000000  1302.000000  0.965389  1618.000000   1618.000000\n",
            "_______________________________________________\n",
            "Confusion Matrix: \n",
            " [[ 275   41]\n",
            " [  15 1287]]\n",
            "\n",
            "Test Result:\n",
            "================================================\n",
            "Accuracy Score: 92.94%\n",
            "_______________________________________________\n",
            "CLASSIFICATION REPORT:\n",
            "                    0           1  accuracy   macro avg  weighted avg\n",
            "precision    0.856164    0.948905  0.929395    0.902535      0.928459\n",
            "recall       0.816993    0.961183  0.929395    0.889088      0.929395\n",
            "f1-score     0.836120    0.955005  0.929395    0.895562      0.928795\n",
            "support    153.000000  541.000000  0.929395  694.000000    694.000000\n",
            "_______________________________________________\n",
            "Confusion Matrix: \n",
            " [[125  28]\n",
            " [ 21 520]]\n",
            "\n"
          ]
        }
      ],
      "source": [
        "print_score(model_svc, x_train, y_train, x_test, y_test, train=True)\n",
        "print_score(model_svc, x_train, y_train, x_test, y_test, train=False)"
      ]
    },
    {
      "cell_type": "markdown",
      "metadata": {
        "id": "9EtCZgsKLd_Q"
      },
      "source": [
        "**Hyperparameter Tuning using GridSearchCV for Logistic Regression**"
      ]
    },
    {
      "cell_type": "code",
      "execution_count": 40,
      "metadata": {
        "colab": {
          "base_uri": "https://localhost:8080/"
        },
        "id": "opaFsaUOijTM",
        "outputId": "f09b6513-6186-428a-f4b5-d5b5bc664156"
      },
      "outputs": [
        {
          "name": "stdout",
          "output_type": "stream",
          "text": [
            "best paremeters for logistic regression:  {'C': 1.0, 'penalty': 'l2'}\n",
            "best score for logistic regression after grid search cv: 0.9277164327888967\n"
          ]
        }
      ],
      "source": [
        "from sklearn.model_selection import GridSearchCV\n",
        "grid={\"C\":np.logspace(-3,3,7), \"penalty\":[\"l1\",\"l2\"]}# l1 lasso l2 ridge\n",
        "logreg_cv = GridSearchCV(lr_clf,grid,cv=10)\n",
        "logreg_cv.fit(x_train,y_train)\n",
        "\n",
        "print('best paremeters for logistic regression: ', logreg_cv.best_params_)\n",
        "print('best score for logistic regression after grid search cv:', logreg_cv.best_score_)\n",
        "acc_logreg = logreg_cv.best_score_"
      ]
    },
    {
      "cell_type": "code",
      "execution_count": 41,
      "metadata": {
        "colab": {
          "base_uri": "https://localhost:8080/"
        },
        "id": "bpujuTvlhcy1",
        "outputId": "3ad1c990-9130-4b46-ee8d-427baa8171e9"
      },
      "outputs": [
        {
          "name": "stdout",
          "output_type": "stream",
          "text": [
            "\n",
            "Enter a Text: good taste\n",
            "\n",
            "Sentiment: Positive Reviews\n",
            "\n",
            "Do you want to continue? (Y/N): Y\n",
            "\n",
            "Enter a Text: soggy and thick crust\n",
            "\n",
            "Sentiment: Negative Reviews\n",
            "\n",
            "Do you want to continue? (Y/N): N\n"
          ]
        }
      ],
      "source": [
        "inp = 'Y'\n",
        "while(inp != 'N'):\n",
        "    ip = input('\\nEnter a Text: ')\n",
        "    test_result = logreg_cv.predict(vectorizer.transform([ip]))\n",
        "    if(test_result[0] == 0):\n",
        "        print(\"\\nSentiment: Positive Reviews\")\n",
        "    if(test_result[0] == 1):\n",
        "        print(\"\\nSentiment: Negative Reviews\")\n",
        "    inp = input(\"\\nDo you want to continue? (Y/N): \")"
      ]
    },
    {
      "cell_type": "markdown",
      "metadata": {
        "id": "DUkeP1k6T133"
      },
      "source": [
        "**Model Evaluation**"
      ]
    },
    {
      "cell_type": "code",
      "execution_count": 42,
      "metadata": {
        "colab": {
          "base_uri": "https://localhost:8080/",
          "height": 515
        },
        "id": "MQe4hJyGTPcN",
        "outputId": "5233b9e2-9aa7-473b-8ab2-d93d7a5310e0"
      },
      "outputs": [
        {
          "data": {
            "image/png": "[encoded data removed]",
            "text/plain": [
              "<Figure size 1080x432 with 1 Axes>"
            ]
          },
          "metadata": {},
          "output_type": "display_data"
        }
      ],
      "source": [
        "MLA_Name = ['Logistic Regression', 'Support Vector Machine', 'Decision Tree','Random Forest']\n",
        "MLA_Train_Accuracy = [acc_lr, acc_svm, acc_dt, acc_rf]\n",
        "plt.subplots(figsize=(15,6))\n",
        "sns.barplot(x=MLA_Name, y=MLA_Train_Accuracy,palette='PuRd',edgecolor=sns.color_palette('PuRd',7))\n",
        "plt.xticks(rotation=90)\n",
        "plt.title('Models Accuracy Comparison')\n",
        "plt.show()"
      ]
    },
    {
      "cell_type": "markdown",
      "metadata": {
        "id": "cA2MIWYvj2MJ"
      },
      "source": [
        "**LSTM:**\n",
        "LSTM networks were designed specifically to overcome the long-term dependency problem faced by recurrent neural networks RNNs (due to the vanishing gradient problem). LSTMs have feedback connections which make them different to more traditional feedforward neural networks. This property enables LSTMs to process entire sequences of data (e.g. time series) without treating each point in the sequence independently, but rather, retaining useful information about previous data in the sequence to help with the processing of new data points. As a result, LSTMs are particularly good at processing sequences of data such as text, speech and general time-series."
      ]
    },
    {
      "cell_type": "code",
      "execution_count": 43,
      "metadata": {
        "id": "Mews5sJR9jiW"
      },
      "outputs": [],
      "source": [
        "tokenizer = Tokenizer(num_words=600,filters='!\"#$%&()*+,-./:;<=>?@[\\\\]^_`{|}~\\t\\n',lower=True,split=' ')"
      ]
    },
    {
      "cell_type": "code",
      "execution_count": 44,
      "metadata": {
        "id": "mC0dFrfUTHcQ"
      },
      "outputs": [],
      "source": [
        "tokenizer.fit_on_texts(df[\"Cleaned_Text\"])"
      ]
    },
    {
      "cell_type": "code",
      "execution_count": 45,
      "metadata": {
        "id": "8rp6-0bHTNhh"
      },
      "outputs": [],
      "source": [
        "X = tokenizer.texts_to_sequences(df[\"Cleaned_Text\"])"
      ]
    },
    {
      "cell_type": "code",
      "execution_count": 46,
      "metadata": {
        "id": "0gewPLGqTSGu"
      },
      "outputs": [],
      "source": [
        "X = pad_sequences(X,maxlen=100)"
      ]
    },
    {
      "cell_type": "code",
      "execution_count": 47,
      "metadata": {
        "colab": {
          "base_uri": "https://localhost:8080/"
        },
        "id": "CBpW-B8xTVUM",
        "outputId": "0daddffc-dfe1-4ff2-d0c2-be60b57759a5"
      },
      "outputs": [
        {
          "data": {
            "text/plain": [
              "array([  0,   0,   0,   0,   0,   0,   0,   0,   0,   0,   0,   0,   0,\n",
              "         0,   0,   0,   0,   0,   0,   0,   0,   0,   0,   0,   0,   0,\n",
              "         0,   0,   0,   0,   0,   0,   0,   0,   0,   0,   0,   0,   0,\n",
              "         0,   0,   0,   0,   0,   0,   0,   0,   0,   0,   0,   0,   0,\n",
              "         0,   0,   0,   0,   0,   0,   0,   0,   0,   0,   0,   0,   0,\n",
              "         0,   0,   0,   0,   0,   0,   0,   0,   0,   0,   0,   0,   0,\n",
              "         0,   0,   0,   0,   0,   0,   0,   0,   0,   0,   0,   0,  89,\n",
              "       244,   6, 169, 204,  53,  67, 246,  70,  44], dtype=int32)"
            ]
          },
          "execution_count": 47,
          "metadata": {},
          "output_type": "execute_result"
        }
      ],
      "source": [
        "X[100]"
      ]
    },
    {
      "cell_type": "code",
      "execution_count": 48,
      "metadata": {
        "id": "IoaVp_q8TYTV"
      },
      "outputs": [],
      "source": [
        "y = df[\"Sentiment\"]"
      ]
    },
    {
      "cell_type": "code",
      "execution_count": 49,
      "metadata": {
        "id": "om5JQBssTeFm"
      },
      "outputs": [],
      "source": [
        "vocab_size = len(tokenizer.word_index) + 1"
      ]
    },
    {
      "cell_type": "code",
      "execution_count": 50,
      "metadata": {
        "colab": {
          "base_uri": "https://localhost:8080/"
        },
        "id": "EtGucWFPThhi",
        "outputId": "3e348a12-2d17-4bf4-e10d-7ff341840b1d"
      },
      "outputs": [
        {
          "data": {
            "text/plain": [
              "2086"
            ]
          },
          "execution_count": 50,
          "metadata": {},
          "output_type": "execute_result"
        }
      ],
      "source": [
        "vocab_size"
      ]
    },
    {
      "cell_type": "code",
      "execution_count": 51,
      "metadata": {
        "id": "-U0oj74_Tj8_"
      },
      "outputs": [],
      "source": [
        "X_train, X_test, Y_train, Y_test = train_test_split(X, y, test_size=0.3, random_state = 24)"
      ]
    },
    {
      "cell_type": "code",
      "execution_count": 52,
      "metadata": {
        "id": "SgNEprR4Tp1Z"
      },
      "outputs": [],
      "source": [
        "embedding_vector_features=40\n",
        "model_1=Sequential()\n",
        "model_1.add(Embedding(vocab_size,embedding_vector_features,input_length=100))\n",
        "model_1.add(LSTM(100))\n",
        "model_1.add(Dense(1,activation='sigmoid'))"
      ]
    },
    {
      "cell_type": "code",
      "execution_count": 53,
      "metadata": {
        "colab": {
          "base_uri": "https://localhost:8080/"
        },
        "id": "YS2eRxXmTu6s",
        "outputId": "e9eeeff7-7a1b-49b1-d0a8-c4d53183bba7"
      },
      "outputs": [
        {
          "name": "stdout",
          "output_type": "stream",
          "text": [
            "Model: \"sequential\"\n",
            "_________________________________________________________________\n",
            " Layer (type)                Output Shape              Param #   \n",
            "=================================================================\n",
            " embedding (Embedding)       (None, 100, 40)           83440     \n",
            "                                                                 \n",
            " lstm (LSTM)                 (None, 100)               56400     \n",
            "                                                                 \n",
            " dense (Dense)               (None, 1)                 101       \n",
            "                                                                 \n",
            "=================================================================\n",
            "Total params: 139,941\n",
            "Trainable params: 139,941\n",
            "Non-trainable params: 0\n",
            "_________________________________________________________________\n",
            "None\n"
          ]
        }
      ],
      "source": [
        "model_1.compile(loss='binary_crossentropy',optimizer='adam',metrics=['accuracy'])\n",
        "print(model_1.summary())"
      ]
    },
    {
      "cell_type": "code",
      "execution_count": 54,
      "metadata": {
        "colab": {
          "base_uri": "https://localhost:8080/"
        },
        "id": "xHZpihDmTyLQ",
        "outputId": "90d97aad-792b-4f44-a7b8-fe06a6ace8fa"
      },
      "outputs": [
        {
          "name": "stdout",
          "output_type": "stream",
          "text": [
            "Epoch 1/20\n",
            "51/51 [==============================] - 8s 116ms/step - loss: 0.5331 - accuracy: 0.7967 - val_loss: 0.4683 - val_accuracy: 0.7968\n",
            "Epoch 2/20\n",
            "51/51 [==============================] - 5s 99ms/step - loss: 0.3742 - accuracy: 0.8208 - val_loss: 0.2479 - val_accuracy: 0.9323\n",
            "Epoch 3/20\n",
            "51/51 [==============================] - 5s 100ms/step - loss: 0.2017 - accuracy: 0.9326 - val_loss: 0.1771 - val_accuracy: 0.9452\n",
            "Epoch 4/20\n",
            "51/51 [==============================] - 5s 99ms/step - loss: 0.1425 - accuracy: 0.9481 - val_loss: 0.1654 - val_accuracy: 0.9424\n",
            "Epoch 5/20\n",
            "51/51 [==============================] - 5s 99ms/step - loss: 0.1136 - accuracy: 0.9611 - val_loss: 0.1734 - val_accuracy: 0.9409\n",
            "Epoch 6/20\n",
            "51/51 [==============================] - 5s 97ms/step - loss: 0.1210 - accuracy: 0.9623 - val_loss: 0.1559 - val_accuracy: 0.9510\n",
            "Epoch 7/20\n",
            "51/51 [==============================] - 5s 101ms/step - loss: 0.0905 - accuracy: 0.9685 - val_loss: 0.1772 - val_accuracy: 0.9467\n",
            "Epoch 8/20\n",
            "51/51 [==============================] - 5s 100ms/step - loss: 0.0780 - accuracy: 0.9722 - val_loss: 0.1840 - val_accuracy: 0.9467\n",
            "Epoch 9/20\n",
            "51/51 [==============================] - 5s 99ms/step - loss: 0.0676 - accuracy: 0.9728 - val_loss: 0.1994 - val_accuracy: 0.9481\n",
            "Epoch 10/20\n",
            "51/51 [==============================] - 5s 100ms/step - loss: 0.0639 - accuracy: 0.9753 - val_loss: 0.1911 - val_accuracy: 0.9452\n",
            "Epoch 11/20\n",
            "51/51 [==============================] - 6s 124ms/step - loss: 0.0636 - accuracy: 0.9747 - val_loss: 0.2223 - val_accuracy: 0.9496\n",
            "Epoch 12/20\n",
            "51/51 [==============================] - 7s 130ms/step - loss: 0.0568 - accuracy: 0.9790 - val_loss: 0.2369 - val_accuracy: 0.9438\n",
            "Epoch 13/20\n",
            "51/51 [==============================] - 5s 98ms/step - loss: 0.0536 - accuracy: 0.9802 - val_loss: 0.2560 - val_accuracy: 0.9352\n",
            "Epoch 14/20\n",
            "51/51 [==============================] - 5s 99ms/step - loss: 0.0513 - accuracy: 0.9808 - val_loss: 0.2596 - val_accuracy: 0.9467\n",
            "Epoch 15/20\n",
            "51/51 [==============================] - 5s 101ms/step - loss: 0.0491 - accuracy: 0.9821 - val_loss: 0.2878 - val_accuracy: 0.9366\n",
            "Epoch 16/20\n",
            "51/51 [==============================] - 5s 99ms/step - loss: 0.0490 - accuracy: 0.9821 - val_loss: 0.2699 - val_accuracy: 0.9366\n",
            "Epoch 17/20\n",
            "51/51 [==============================] - 5s 99ms/step - loss: 0.0478 - accuracy: 0.9815 - val_loss: 0.2807 - val_accuracy: 0.9395\n",
            "Epoch 18/20\n",
            "51/51 [==============================] - 5s 102ms/step - loss: 0.0491 - accuracy: 0.9821 - val_loss: 0.2905 - val_accuracy: 0.9409\n",
            "Epoch 19/20\n",
            "51/51 [==============================] - 5s 99ms/step - loss: 0.0459 - accuracy: 0.9827 - val_loss: 0.2845 - val_accuracy: 0.9438\n",
            "Epoch 20/20\n",
            "51/51 [==============================] - 5s 100ms/step - loss: 0.0447 - accuracy: 0.9821 - val_loss: 0.3121 - val_accuracy: 0.9352\n"
          ]
        }
      ],
      "source": [
        "history=model_1.fit(X_train, Y_train, batch_size=32, epochs=20, validation_data=(X_test, Y_test), )"
      ]
    },
    {
      "cell_type": "markdown",
      "metadata": {
        "id": "fvGk2LOAUEoM"
      },
      "source": [
        "As training loss decreases validation loss increasing , it means over model overfitting. we know that our dataset is imbalanced if we train a neural network on imbalanced data set it baised towards major class.\n",
        "\n",
        "To overcome this problem we can use Dropout rate while training , Dropout rate is a regularization technique in neural networks.\n",
        "\n",
        "Evaluating the trained model with new data."
      ]
    },
    {
      "cell_type": "code",
      "execution_count": 55,
      "metadata": {
        "colab": {
          "base_uri": "https://localhost:8080/"
        },
        "id": "8l5vhHAydn4o",
        "outputId": "ce665844-b1c8-49c2-ca20-1cc0948da26f"
      },
      "outputs": [
        {
          "name": "stdout",
          "output_type": "stream",
          "text": [
            "1/1 [==============================] - 1s 1s/step\n"
          ]
        }
      ],
      "source": [
        "scores_lstm = model_1.predict(X_test, verbose=1, batch_size=1024)"
      ]
    },
    {
      "cell_type": "code",
      "execution_count": 56,
      "metadata": {
        "id": "LRMzFCOidzPY"
      },
      "outputs": [],
      "source": [
        "y_pred_lstm=np.where(scores_lstm>0.5,1,0)"
      ]
    },
    {
      "cell_type": "code",
      "execution_count": 57,
      "metadata": {
        "colab": {
          "base_uri": "https://localhost:8080/"
        },
        "id": "2pHpqR2bd3aZ",
        "outputId": "8ed7acb3-9d9d-484c-cb8a-f2605114e6a7"
      },
      "outputs": [
        {
          "name": "stdout",
          "output_type": "stream",
          "text": [
            "93.51585014409221\n"
          ]
        }
      ],
      "source": [
        "acc_lstm = accuracy_score(y_pred_lstm,Y_test)\n",
        "print(acc_lstm*100)"
      ]
    },
    {
      "cell_type": "code",
      "execution_count": 58,
      "metadata": {
        "colab": {
          "base_uri": "https://localhost:8080/"
        },
        "id": "Y85yJUQpT4hl",
        "outputId": "8fdb3578-2edd-48b3-95d1-460c01d116bd"
      },
      "outputs": [
        {
          "name": "stdout",
          "output_type": "stream",
          "text": [
            "1/1 [==============================] - 0s 25ms/step\n"
          ]
        },
        {
          "data": {
            "text/plain": [
              "array([[0.05373397]], dtype=float32)"
            ]
          },
          "execution_count": 58,
          "metadata": {},
          "output_type": "execute_result"
        }
      ],
      "source": [
        "# New review\n",
        "string1 = 'good taste of pizza'\n",
        "\n",
        "# Evaluating trained mode with new review\n",
        "x_1=tokenizer.texts_to_sequences([string1])\n",
        "x_1 = pad_sequences(x_1,maxlen=100)\n",
        "model_1.predict(x_1)"
      ]
    },
    {
      "cell_type": "markdown",
      "metadata": {
        "id": "As71x31oUiV7"
      },
      "source": [
        "Here, the output value near to the 0 , given review is positive , model prediction also positive so our trained model working well on new data but we can not conclude it’s generalized model. We need to do lot of hypreparameter optimization then only we can conclude."
      ]
    },
    {
      "cell_type": "markdown",
      "metadata": {
        "id": "FzJFt37Ja-HC"
      },
      "source": [
        "Form the above training we know that our LSTM model overfitting. To avoid this we need to do hyperparameter optimization, Dropout rate and BatchNormalization layer adding.\n",
        "\n",
        "Dropout rate regularize the Neural Network, So to avoid the overfitting problem we add the Dropout layer with 50% dropout rate and the remaining network same as above LSTM network. "
      ]
    },
    {
      "cell_type": "markdown",
      "metadata": {
        "id": "Q3Nakw_yUqOj"
      },
      "source": [
        "**Building LSTM with Dropout rate 0.5**"
      ]
    },
    {
      "cell_type": "code",
      "execution_count": 59,
      "metadata": {
        "id": "-YA9-OfOUdvh"
      },
      "outputs": [],
      "source": [
        "from keras.layers import Dense,LSTM,Dropout\n",
        "embedding_vector_features=40\n",
        "model_2=Sequential()\n",
        "model_2.add(Embedding(vocab_size,embedding_vector_features,input_length=100))\n",
        "model_2.add(Dropout(0.5))\n",
        "model_2.add(LSTM(100))\n",
        "model_2.add(Dropout(0.5))\n",
        "model_2.add(Dense(1,activation='sigmoid'))"
      ]
    },
    {
      "cell_type": "code",
      "execution_count": 60,
      "metadata": {
        "colab": {
          "base_uri": "https://localhost:8080/"
        },
        "id": "cDcaC-CaV3U7",
        "outputId": "7e2ce245-0709-48c5-e039-fd7fe56551ab"
      },
      "outputs": [
        {
          "name": "stdout",
          "output_type": "stream",
          "text": [
            "Model: \"sequential_1\"\n",
            "_________________________________________________________________\n",
            " Layer (type)                Output Shape              Param #   \n",
            "=================================================================\n",
            " embedding_1 (Embedding)     (None, 100, 40)           83440     \n",
            "                                                                 \n",
            " dropout (Dropout)           (None, 100, 40)           0         \n",
            "                                                                 \n",
            " lstm_1 (LSTM)               (None, 100)               56400     \n",
            "                                                                 \n",
            " dropout_1 (Dropout)         (None, 100)               0         \n",
            "                                                                 \n",
            " dense_1 (Dense)             (None, 1)                 101       \n",
            "                                                                 \n",
            "=================================================================\n",
            "Total params: 139,941\n",
            "Trainable params: 139,941\n",
            "Non-trainable params: 0\n",
            "_________________________________________________________________\n",
            "None\n"
          ]
        }
      ],
      "source": [
        "model_2.compile(loss='binary_crossentropy',optimizer='adam',metrics=['accuracy'])\n",
        "print(model_2.summary())"
      ]
    },
    {
      "cell_type": "code",
      "execution_count": 61,
      "metadata": {
        "colab": {
          "base_uri": "https://localhost:8080/"
        },
        "id": "SsLcwciPV-Jl",
        "outputId": "2a295a28-47b6-4da0-b20a-743234a0dc02"
      },
      "outputs": [
        {
          "name": "stdout",
          "output_type": "stream",
          "text": [
            "Epoch 1/20\n",
            "51/51 [==============================] - 8s 115ms/step - loss: 0.5424 - accuracy: 0.7862 - val_loss: 0.5209 - val_accuracy: 0.7968\n",
            "Epoch 2/20\n",
            "51/51 [==============================] - 5s 106ms/step - loss: 0.4538 - accuracy: 0.7985 - val_loss: 0.3608 - val_accuracy: 0.8343\n",
            "Epoch 3/20\n",
            "51/51 [==============================] - 5s 103ms/step - loss: 0.2998 - accuracy: 0.8770 - val_loss: 0.2209 - val_accuracy: 0.9337\n",
            "Epoch 4/20\n",
            "51/51 [==============================] - 5s 104ms/step - loss: 0.1943 - accuracy: 0.9376 - val_loss: 0.1710 - val_accuracy: 0.9409\n",
            "Epoch 5/20\n",
            "51/51 [==============================] - 5s 101ms/step - loss: 0.1592 - accuracy: 0.9450 - val_loss: 0.1772 - val_accuracy: 0.9438\n",
            "Epoch 6/20\n",
            "51/51 [==============================] - 5s 102ms/step - loss: 0.1384 - accuracy: 0.9518 - val_loss: 0.1543 - val_accuracy: 0.9438\n",
            "Epoch 7/20\n",
            "51/51 [==============================] - 5s 103ms/step - loss: 0.1225 - accuracy: 0.9580 - val_loss: 0.1520 - val_accuracy: 0.9424\n",
            "Epoch 8/20\n",
            "51/51 [==============================] - 5s 104ms/step - loss: 0.1108 - accuracy: 0.9623 - val_loss: 0.1628 - val_accuracy: 0.9438\n",
            "Epoch 9/20\n",
            "51/51 [==============================] - 5s 101ms/step - loss: 0.0955 - accuracy: 0.9679 - val_loss: 0.1914 - val_accuracy: 0.9496\n",
            "Epoch 10/20\n",
            "51/51 [==============================] - 5s 104ms/step - loss: 0.0876 - accuracy: 0.9648 - val_loss: 0.1719 - val_accuracy: 0.9496\n",
            "Epoch 11/20\n",
            "51/51 [==============================] - 5s 103ms/step - loss: 0.0858 - accuracy: 0.9710 - val_loss: 0.1799 - val_accuracy: 0.9496\n",
            "Epoch 12/20\n",
            "51/51 [==============================] - 5s 102ms/step - loss: 0.0778 - accuracy: 0.9734 - val_loss: 0.2095 - val_accuracy: 0.9510\n",
            "Epoch 13/20\n",
            "51/51 [==============================] - 5s 105ms/step - loss: 0.0738 - accuracy: 0.9710 - val_loss: 0.2058 - val_accuracy: 0.9481\n",
            "Epoch 14/20\n",
            "51/51 [==============================] - 5s 104ms/step - loss: 0.0701 - accuracy: 0.9734 - val_loss: 0.2485 - val_accuracy: 0.9496\n",
            "Epoch 15/20\n",
            "51/51 [==============================] - 5s 103ms/step - loss: 0.0730 - accuracy: 0.9722 - val_loss: 0.1960 - val_accuracy: 0.9438\n",
            "Epoch 16/20\n",
            "51/51 [==============================] - 5s 103ms/step - loss: 0.0644 - accuracy: 0.9722 - val_loss: 0.2163 - val_accuracy: 0.9496\n",
            "Epoch 17/20\n",
            "51/51 [==============================] - 5s 104ms/step - loss: 0.0633 - accuracy: 0.9771 - val_loss: 0.2842 - val_accuracy: 0.9207\n",
            "Epoch 18/20\n",
            "51/51 [==============================] - 5s 102ms/step - loss: 0.0694 - accuracy: 0.9728 - val_loss: 0.2064 - val_accuracy: 0.9496\n",
            "Epoch 19/20\n",
            "51/51 [==============================] - 5s 103ms/step - loss: 0.0543 - accuracy: 0.9808 - val_loss: 0.2259 - val_accuracy: 0.9438\n",
            "Epoch 20/20\n",
            "51/51 [==============================] - 5s 101ms/step - loss: 0.0551 - accuracy: 0.9771 - val_loss: 0.2519 - val_accuracy: 0.9467\n"
          ]
        }
      ],
      "source": [
        "history_2=model_2.fit(X_train, Y_train, batch_size=32, epochs=20, validation_data=(X_test, Y_test),)"
      ]
    },
    {
      "cell_type": "code",
      "execution_count": 62,
      "metadata": {
        "id": "cdOBjuyRWxIZ"
      },
      "outputs": [],
      "source": [
        "acc = history_2.history['accuracy']\n",
        "val_acc = history_2.history['val_accuracy']\n",
        "loss = history_2.history['loss']\n",
        "val_loss = history_2.history['val_loss']\n",
        "epochs=range(len(acc))"
      ]
    },
    {
      "cell_type": "code",
      "execution_count": 63,
      "metadata": {
        "colab": {
          "base_uri": "https://localhost:8080/",
          "height": 302
        },
        "id": "JfrEA22-WGEd",
        "outputId": "fdc199e8-07d1-41e8-e43b-e6c1372e2f35"
      },
      "outputs": [
        {
          "data": {
            "text/plain": [
              "Text(0.5, 1.0, 'Training and Validation Accuracy')"
            ]
          },
          "execution_count": 63,
          "metadata": {},
          "output_type": "execute_result"
        },
        {
          "data": {
            "image/png": "[encoded data removed]",
            "text/plain": [
              "<Figure size 432x288 with 1 Axes>"
            ]
          },
          "metadata": {},
          "output_type": "display_data"
        }
      ],
      "source": [
        "plt.plot(epochs,acc,label='Trainin_acc',color='blue')\n",
        "plt.plot(epochs,val_acc,label='Validation_acc',color='red')\n",
        "plt.legend()\n",
        "plt.title(\"Training and Validation Accuracy\")"
      ]
    },
    {
      "cell_type": "code",
      "execution_count": 64,
      "metadata": {
        "colab": {
          "base_uri": "https://localhost:8080/",
          "height": 302
        },
        "id": "_Di0NzW9W7Fu",
        "outputId": "261bc9cb-c17e-4e6a-f254-84268234663b"
      },
      "outputs": [
        {
          "data": {
            "text/plain": [
              "Text(0.5, 1.0, 'Training and Validation loss')"
            ]
          },
          "execution_count": 64,
          "metadata": {},
          "output_type": "execute_result"
        },
        {
          "data": {
            "image/png": "[encoded data removed]",
            "text/plain": [
              "<Figure size 432x288 with 1 Axes>"
            ]
          },
          "metadata": {},
          "output_type": "display_data"
        }
      ],
      "source": [
        "plt.plot(epochs,loss,label='Training_loss',color='blue')\n",
        "plt.plot(epochs,val_loss,label='Validation_loss',color='red')\n",
        "plt.legend()\n",
        "plt.title(\"Training and Validation loss\")"
      ]
    },
    {
      "cell_type": "code",
      "execution_count": 65,
      "metadata": {
        "colab": {
          "base_uri": "https://localhost:8080/"
        },
        "id": "NDJqCq7CeEFK",
        "outputId": "0c545fe8-5b00-48ac-bc63-5c7b884332cd"
      },
      "outputs": [
        {
          "name": "stdout",
          "output_type": "stream",
          "text": [
            "1/1 [==============================] - 1s 865ms/step\n"
          ]
        }
      ],
      "source": [
        "scores_lstm_dropout = model_2.predict(X_test, verbose=1, batch_size=1024)"
      ]
    },
    {
      "cell_type": "code",
      "execution_count": 66,
      "metadata": {
        "id": "taR5v7qneKtz"
      },
      "outputs": [],
      "source": [
        "y_pred_lstm_dropout=np.where(scores_lstm_dropout>0.5,1,0)"
      ]
    },
    {
      "cell_type": "code",
      "execution_count": 67,
      "metadata": {
        "colab": {
          "base_uri": "https://localhost:8080/"
        },
        "id": "dcAOtOjkeSVq",
        "outputId": "4841e374-0088-4ef0-e39f-b7f420bb2d3a"
      },
      "outputs": [
        {
          "name": "stdout",
          "output_type": "stream",
          "text": [
            "0.946685878962536\n"
          ]
        }
      ],
      "source": [
        "acc_dropout = accuracy_score(y_pred_lstm_dropout,Y_test)\n",
        "print(acc_dropout)"
      ]
    },
    {
      "cell_type": "markdown",
      "metadata": {
        "id": "GB4fjC29bGe-"
      },
      "source": [
        "By adding dropout rate our model val_loss also decreasing with training loss compare to without dropout rate LSTM network. So by adding Dropout rate our model have less chances to overfit."
      ]
    },
    {
      "cell_type": "markdown",
      "metadata": {
        "id": "srihGdhkXNI2"
      },
      "source": [
        "**Bidirectional LSTM:**\n",
        "Using bidirectional will run our inputs in two ways, one from past to future and one from future to past and what differs this approach from unidirectional is that in the LSTM that runs backwards you preserve information from the future and using the two hidden states combined you are able in any point in time to preserve information from both past and future."
      ]
    },
    {
      "cell_type": "markdown",
      "metadata": {
        "id": "Li6AHi6Zbeje"
      },
      "source": [
        "Bi-LSTM model need Embedding layer and Dense layer for training\n",
        "\n",
        "Embedding layer Turns positive integers (indexes) into dense vectors of fixed size.\n",
        "\n",
        "Our problem statement belong to binary classification so we need to use sigmoid activation in dense layer.\n",
        "\n",
        "In Bi-LSTM cell no of neurons is hyperparameter , we take 100 neurons.\n",
        "\n",
        "We need to specify the embedding vector output , we take embedding vector output size = 40 , it is also a hyperparameter.\n",
        "\n",
        "We add Dropout layer with 0.65 Dropout rate.\n",
        "\n",
        "Optimizer = adam, metric = accuracy."
      ]
    },
    {
      "cell_type": "code",
      "execution_count": 68,
      "metadata": {
        "colab": {
          "base_uri": "https://localhost:8080/"
        },
        "id": "ra2n2_SKXDmH",
        "outputId": "e8255abc-03c6-40b0-94da-3fbe9bf7e9e6"
      },
      "outputs": [
        {
          "name": "stdout",
          "output_type": "stream",
          "text": [
            "Model: \"sequential_2\"\n",
            "_________________________________________________________________\n",
            " Layer (type)                Output Shape              Param #   \n",
            "=================================================================\n",
            " embedding_2 (Embedding)     (None, 100, 40)           83440     \n",
            "                                                                 \n",
            " dropout_2 (Dropout)         (None, 100, 40)           0         \n",
            "                                                                 \n",
            " bidirectional (Bidirectiona  (None, 200)              112800    \n",
            " l)                                                              \n",
            "                                                                 \n",
            " dropout_3 (Dropout)         (None, 200)               0         \n",
            "                                                                 \n",
            " dense_2 (Dense)             (None, 1)                 201       \n",
            "                                                                 \n",
            "=================================================================\n",
            "Total params: 196,441\n",
            "Trainable params: 196,441\n",
            "Non-trainable params: 0\n",
            "_________________________________________________________________\n",
            "None\n"
          ]
        }
      ],
      "source": [
        "from tensorflow.keras.layers import Bidirectional\n",
        "embedding_vector_features=40\n",
        "model_3=Sequential()\n",
        "model_3.add(Embedding(vocab_size,embedding_vector_features,input_length=100))\n",
        "model_3.add(Dropout(0.65))\n",
        "model_3.add(Bidirectional(LSTM(100)))\n",
        "model_3.add(Dropout(0.65))\n",
        "model_3.add(Dense(1,activation='sigmoid'))\n",
        "\n",
        "model_3.compile(loss='binary_crossentropy',optimizer='adam',metrics=['accuracy'])\n",
        "print(model_3.summary())"
      ]
    },
    {
      "cell_type": "code",
      "execution_count": 69,
      "metadata": {
        "colab": {
          "base_uri": "https://localhost:8080/"
        },
        "id": "ZRK0QLLvXkFm",
        "outputId": "39a547f7-5089-4954-a748-0366da40e548"
      },
      "outputs": [
        {
          "name": "stdout",
          "output_type": "stream",
          "text": [
            "Epoch 1/20\n",
            "51/51 [==============================] - 13s 178ms/step - loss: 0.5291 - accuracy: 0.7911 - val_loss: 0.5030 - val_accuracy: 0.7968\n",
            "Epoch 2/20\n",
            "51/51 [==============================] - 8s 153ms/step - loss: 0.4854 - accuracy: 0.7973 - val_loss: 0.4230 - val_accuracy: 0.7968\n",
            "Epoch 3/20\n",
            "51/51 [==============================] - 8s 155ms/step - loss: 0.3635 - accuracy: 0.8115 - val_loss: 0.2651 - val_accuracy: 0.8631\n",
            "Epoch 4/20\n",
            "51/51 [==============================] - 8s 151ms/step - loss: 0.2399 - accuracy: 0.9061 - val_loss: 0.2364 - val_accuracy: 0.9294\n",
            "Epoch 5/20\n",
            "51/51 [==============================] - 8s 152ms/step - loss: 0.1948 - accuracy: 0.9388 - val_loss: 0.1867 - val_accuracy: 0.9409\n",
            "Epoch 6/20\n",
            "51/51 [==============================] - 10s 192ms/step - loss: 0.1567 - accuracy: 0.9524 - val_loss: 0.1563 - val_accuracy: 0.9395\n",
            "Epoch 7/20\n",
            "51/51 [==============================] - 11s 220ms/step - loss: 0.1455 - accuracy: 0.9481 - val_loss: 0.1693 - val_accuracy: 0.9424\n",
            "Epoch 8/20\n",
            "51/51 [==============================] - 8s 153ms/step - loss: 0.1330 - accuracy: 0.9555 - val_loss: 0.1645 - val_accuracy: 0.9452\n",
            "Epoch 9/20\n",
            "51/51 [==============================] - 8s 154ms/step - loss: 0.1137 - accuracy: 0.9580 - val_loss: 0.1642 - val_accuracy: 0.9395\n",
            "Epoch 10/20\n",
            "51/51 [==============================] - 8s 155ms/step - loss: 0.1126 - accuracy: 0.9586 - val_loss: 0.1865 - val_accuracy: 0.9467\n",
            "Epoch 11/20\n",
            "51/51 [==============================] - 8s 155ms/step - loss: 0.1042 - accuracy: 0.9598 - val_loss: 0.1623 - val_accuracy: 0.9467\n",
            "Epoch 12/20\n",
            "51/51 [==============================] - 8s 154ms/step - loss: 0.0942 - accuracy: 0.9660 - val_loss: 0.1758 - val_accuracy: 0.9481\n",
            "Epoch 13/20\n",
            "51/51 [==============================] - 8s 155ms/step - loss: 0.0935 - accuracy: 0.9648 - val_loss: 0.1837 - val_accuracy: 0.9510\n",
            "Epoch 14/20\n",
            "51/51 [==============================] - 8s 153ms/step - loss: 0.0916 - accuracy: 0.9685 - val_loss: 0.2072 - val_accuracy: 0.9481\n",
            "Epoch 15/20\n",
            "51/51 [==============================] - 8s 153ms/step - loss: 0.0859 - accuracy: 0.9660 - val_loss: 0.1929 - val_accuracy: 0.9496\n",
            "Epoch 16/20\n",
            "51/51 [==============================] - 8s 154ms/step - loss: 0.0846 - accuracy: 0.9623 - val_loss: 0.1833 - val_accuracy: 0.9510\n",
            "Epoch 17/20\n",
            "51/51 [==============================] - 8s 154ms/step - loss: 0.0764 - accuracy: 0.9710 - val_loss: 0.2010 - val_accuracy: 0.9496\n",
            "Epoch 18/20\n",
            "51/51 [==============================] - 8s 154ms/step - loss: 0.0749 - accuracy: 0.9697 - val_loss: 0.2318 - val_accuracy: 0.9510\n",
            "Epoch 19/20\n",
            "51/51 [==============================] - 8s 154ms/step - loss: 0.0745 - accuracy: 0.9710 - val_loss: 0.2468 - val_accuracy: 0.9467\n",
            "Epoch 20/20\n",
            "51/51 [==============================] - 8s 155ms/step - loss: 0.0775 - accuracy: 0.9722 - val_loss: 0.2540 - val_accuracy: 0.9481\n"
          ]
        }
      ],
      "source": [
        "history_3=model_3.fit(X_train, Y_train,batch_size=32,epochs=20,validation_data=(X_test, Y_test),)"
      ]
    },
    {
      "cell_type": "code",
      "execution_count": 70,
      "metadata": {
        "id": "wlrMYiwNZQqC"
      },
      "outputs": [],
      "source": [
        "acc_bi = history_3.history['accuracy']\n",
        "val_acc_bi = history_3.history['val_accuracy']\n",
        "loss_bi = history_3.history['loss']\n",
        "val_loss_bi = history_3.history['val_loss']\n",
        "epochs=range(len(acc_bi))"
      ]
    },
    {
      "cell_type": "code",
      "execution_count": 71,
      "metadata": {
        "colab": {
          "base_uri": "https://localhost:8080/",
          "height": 302
        },
        "id": "0LnsMGRTXvXY",
        "outputId": "19f10ea4-739b-434d-fc18-00c72e79e540"
      },
      "outputs": [
        {
          "data": {
            "text/plain": [
              "Text(0.5, 1.0, 'Training and Validation Accuracy')"
            ]
          },
          "execution_count": 71,
          "metadata": {},
          "output_type": "execute_result"
        },
        {
          "data": {
            "image/png": "[encoded data removed]",
            "text/plain": [
              "<Figure size 432x288 with 1 Axes>"
            ]
          },
          "metadata": {},
          "output_type": "display_data"
        }
      ],
      "source": [
        "plt.plot(epochs,acc_bi,label='Trainin_acc',color='blue')\n",
        "plt.plot(epochs,val_acc_bi,label='Validation_acc',color='red')\n",
        "plt.legend()\n",
        "plt.title(\"Training and Validation Accuracy\")"
      ]
    },
    {
      "cell_type": "code",
      "execution_count": 72,
      "metadata": {
        "colab": {
          "base_uri": "https://localhost:8080/",
          "height": 302
        },
        "id": "Wdc9rssRaP4q",
        "outputId": "4f8235e4-4158-4745-c008-f66d4f2a2d90"
      },
      "outputs": [
        {
          "data": {
            "text/plain": [
              "Text(0.5, 1.0, 'Training and Validation loss')"
            ]
          },
          "execution_count": 72,
          "metadata": {},
          "output_type": "execute_result"
        },
        {
          "data": {
            "image/png": "[encoded data removed]",
            "text/plain": [
              "<Figure size 432x288 with 1 Axes>"
            ]
          },
          "metadata": {},
          "output_type": "display_data"
        }
      ],
      "source": [
        "plt.plot(epochs,loss_bi,label='Training_loss',color='blue')\n",
        "plt.plot(epochs,val_loss_bi,label='Validation_loss',color='red')\n",
        "plt.legend()\n",
        "plt.title(\"Training and Validation loss\")"
      ]
    },
    {
      "cell_type": "markdown",
      "metadata": {
        "id": "eEplCBbycUkn"
      },
      "source": [
        "**Model Evaluation**"
      ]
    },
    {
      "cell_type": "code",
      "execution_count": 73,
      "metadata": {
        "colab": {
          "base_uri": "https://localhost:8080/"
        },
        "id": "MQPPfbaiaZvD",
        "outputId": "ab1dfbcc-05c6-4353-e832-fe2e442c5ab1"
      },
      "outputs": [
        {
          "name": "stdout",
          "output_type": "stream",
          "text": [
            "1/1 [==============================] - 2s 2s/step\n"
          ]
        }
      ],
      "source": [
        "scores = model_3.predict(X_test, verbose=1, batch_size=1024)"
      ]
    },
    {
      "cell_type": "code",
      "execution_count": 74,
      "metadata": {
        "id": "BJJ3hNTvaevd"
      },
      "outputs": [],
      "source": [
        "y_pred=np.where(scores>0.5,1,0)"
      ]
    },
    {
      "cell_type": "code",
      "execution_count": 75,
      "metadata": {
        "colab": {
          "base_uri": "https://localhost:8080/"
        },
        "id": "pU96O8Skaxzk",
        "outputId": "d945cbf6-149d-4d0a-eff0-f20cac8c3238"
      },
      "outputs": [
        {
          "name": "stdout",
          "output_type": "stream",
          "text": [
            "[[124  19]\n",
            " [ 17 534]]\n"
          ]
        }
      ],
      "source": [
        "cm=confusion_matrix(y_pred,Y_test)\n",
        "print(cm)"
      ]
    },
    {
      "cell_type": "code",
      "execution_count": 76,
      "metadata": {
        "colab": {
          "base_uri": "https://localhost:8080/"
        },
        "id": "0xfUBUQkbBGP",
        "outputId": "2951bfce-1e9d-4aec-8a7e-0f6c8eb0dc2d"
      },
      "outputs": [
        {
          "name": "stdout",
          "output_type": "stream",
          "text": [
            "0.9481268011527377\n"
          ]
        }
      ],
      "source": [
        "acc_bilstm = accuracy_score(y_pred,Y_test)\n",
        "print(acc_bilstm)"
      ]
    },
    {
      "cell_type": "code",
      "execution_count": 77,
      "metadata": {
        "colab": {
          "base_uri": "https://localhost:8080/"
        },
        "id": "geSRLw5ebEgQ",
        "outputId": "86ff82d8-d150-45b8-e842-744cb0577342"
      },
      "outputs": [
        {
          "name": "stdout",
          "output_type": "stream",
          "text": [
            "              precision    recall  f1-score   support\n",
            "\n",
            "           0       0.87      0.88      0.87       141\n",
            "           1       0.97      0.97      0.97       553\n",
            "\n",
            "    accuracy                           0.95       694\n",
            "   macro avg       0.92      0.92      0.92       694\n",
            "weighted avg       0.95      0.95      0.95       694\n",
            "\n"
          ]
        }
      ],
      "source": [
        "print(classification_report(Y_test, y_pred))"
      ]
    },
    {
      "cell_type": "markdown",
      "metadata": {
        "id": "2EHXtDkHcZ_G"
      },
      "source": [
        "**Test Case**"
      ]
    },
    {
      "cell_type": "code",
      "execution_count": 85,
      "metadata": {
        "colab": {
          "base_uri": "https://localhost:8080/"
        },
        "id": "BUbvPDGbbIHa",
        "outputId": "435111fc-d634-42dc-f1d2-c9f46675c018"
      },
      "outputs": [
        {
          "name": "stdout",
          "output_type": "stream",
          "text": [
            "1/1 [==============================] - 0s 50ms/step\n"
          ]
        }
      ],
      "source": [
        "string2= 'worst food ever'\n",
        "\n",
        "# Converting above text into vectors using tokenizer\n",
        "x_1=tokenizer.texts_to_sequences([string2])\n",
        "\n",
        "# Padding above converted vectores\n",
        "x_1 = pad_sequences(x_1,maxlen=100)\n",
        "\n",
        "# evaluating trained model on new data\n",
        "res = model_3.predict(x_1)"
      ]
    },
    {
      "cell_type": "code",
      "execution_count": 86,
      "metadata": {
        "colab": {
          "base_uri": "https://localhost:8080/"
        },
        "id": "lUfqAiTLb24b",
        "outputId": "38f51074-c809-409e-b37a-fadab272ea2a"
      },
      "outputs": [
        {
          "name": "stdout",
          "output_type": "stream",
          "text": [
            "Negative Reviews!\n"
          ]
        }
      ],
      "source": [
        "if(res[0][0] > 0.6):\n",
        "  print(\"Negative Reviews!\")\n",
        "else:\n",
        "  print(\"Positive Reviews!\")"
      ]
    },
    {
      "cell_type": "markdown",
      "metadata": {
        "id": "vokqTi1WYstG"
      },
      "source": [
        "**Model Accuracy Comparison**"
      ]
    },
    {
      "cell_type": "code",
      "execution_count": 87,
      "metadata": {
        "colab": {
          "base_uri": "https://localhost:8080/",
          "height": 508
        },
        "id": "1ohEmhFhWsba",
        "outputId": "6037cc33-6021-44e7-82c6-8aa206184640"
      },
      "outputs": [
        {
          "data": {
            "image/png": "[encoded data removed]",
            "text/plain": [
              "<Figure size 1080x432 with 1 Axes>"
            ]
          },
          "metadata": {},
          "output_type": "display_data"
        }
      ],
      "source": [
        "LSTM_Name = ['LSTM', 'LSTM with Dropout 0.5', 'Bidirectional LSTM']\n",
        "LSTM_Test_Accuracy = [acc_lstm, acc_dropout, acc_bilstm]\n",
        "plt.subplots(figsize=(15,6))\n",
        "sns.barplot(x=LSTM_Name, y=LSTM_Test_Accuracy,palette='PuRd',edgecolor=sns.color_palette('PuRd',7))\n",
        "plt.xticks(rotation=90)\n",
        "plt.title('Models Accuracy Comparison')\n",
        "plt.show()"
      ]
    },
    {
      "cell_type": "markdown",
      "metadata": {
        "id": "zCChwuYdYsAd"
      },
      "source": [
        "<table>\n",
        "  <tr>\n",
        "    <th>Model</th>\n",
        "    <th>Accuracy</th>\n",
        "  </tr>\n",
        "  <tr>\n",
        "    <td>Logistic Regression</td>\n",
        "    <td>92.5%</td>\n",
        "  </tr>\n",
        "    <td>Support Vector Machine</td>\n",
        "    <td>92.9%</td>\n",
        "  </tr>\n",
        "  <tr>\n",
        "    <td>Decision Tree</td>\n",
        "    <td>88.4%</td>\n",
        "  </tr>\n",
        "  <tr>\n",
        "    <td>Random Forest</td>\n",
        "    <td>88.4%</td>\n",
        "  </tr>\n",
        "  <tr>\n",
        "    <td>LSTM</td>\n",
        "    <td>93.5%</td>\n",
        "  </tr>\n",
        "  <tr>\n",
        "    <td>LSTM with Dropout 0.5</td>\n",
        "    <td>94.6%</td>\n",
        "  </tr>\n",
        "  <tr>\n",
        "    <td>Bidrectional LSTM</td>\n",
        "    <td>94.8%</td>\n",
        "  </tr>\n",
        "</table>\n",
        "\n",
        "From here, we can conclude that **LSTM with Dropout 0.5** and **Bidirectional LSTM** gives the maximum accuracy."
      ]
    }
  ],
  "metadata": {
    "colab": {
      "provenance": []
    },
    "kernelspec": {
      "display_name": "Python 3",
      "name": "python3"
    },
    "language_info": {
      "name": "python"
    }
  },
  "nbformat": 4,
  "nbformat_minor": 0
}
